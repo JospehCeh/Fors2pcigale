{
 "cells": [
  {
   "cell_type": "markdown",
   "id": "c1747810-94ef-431b-906d-bb233d9758ed",
   "metadata": {},
   "source": [
    "# Access to Fors2 Spectra\n",
    "\n",
    "Compare spectra in observation frame and rest frame\n",
    "\n",
    "- author : Sylvie Dagoret-Campagne\n",
    "- affiliation : IJCLab/IN2P3/CNRS\n",
    "- creation date : 2024/02/09\n",
    "- update : 2024/02/09\n",
    "\n",
    "\n",
    "The purpose is to recalibrate redshift by emission line\n",
    "\n",
    "The first goal is to find in which frame (rest or observation) the Fors2 spectra are.\n",
    "This guess is tested against the tabulated resdhift."
   ]
  },
  {
   "cell_type": "markdown",
   "id": "e4b92b5f-7530-440e-845d-5c85e10afbe6",
   "metadata": {},
   "source": [
    "Author Sylvie Dagoret-Campagne\n",
    "Afflilation : IJCLab/IN2P3/CNRS\n",
    "Organisation : LSST-DESC\n",
    "creation date : 2024-02-09\n",
    "last update : 2024-02-09"
   ]
  },
  {
   "cell_type": "code",
   "execution_count": null,
   "id": "5fc0d4e0-67e3-4185-a7ef-0ed2f24b46f6",
   "metadata": {},
   "outputs": [],
   "source": [
    "import h5py\n",
    "import pandas as pd\n",
    "import numpy as np\n",
    "import os\n",
    "import re\n",
    "from astropy.io import fits\n",
    "from astropy.table import Table\n",
    "import matplotlib as mpl\n",
    "import matplotlib.pyplot as plt\n",
    "#%matplotlib inline\n",
    "%matplotlib ipympl\n",
    "import matplotlib.colors as colors\n",
    "import matplotlib.cm as cmx\n",
    "import collections\n",
    "from collections import OrderedDict\n",
    "import re\n",
    "import matplotlib.gridspec as gridspec\n",
    "from sklearn.gaussian_process import GaussianProcessRegressor, kernels\n"
   ]
  },
  {
   "cell_type": "code",
   "execution_count": null,
   "id": "48176b94-f619-423e-9323-c4f12bc6bdfa",
   "metadata": {},
   "outputs": [],
   "source": [
    "plt.rcParams[\"figure.figsize\"] = (12,6)\n",
    "plt.rcParams[\"axes.labelsize\"] = 'xx-large'\n",
    "plt.rcParams['axes.titlesize'] = 'xx-large'\n",
    "plt.rcParams['xtick.labelsize']= 'xx-large'\n",
    "plt.rcParams['ytick.labelsize']= 'xx-large'"
   ]
  },
  {
   "cell_type": "code",
   "execution_count": null,
   "id": "cfbc4c68-fb60-4c10-b1c5-c04db1c62fb3",
   "metadata": {},
   "outputs": [],
   "source": [
    "from fors2pcigale.fors2starlightio import Fors2DataAcess"
   ]
  },
  {
   "cell_type": "code",
   "execution_count": null,
   "id": "e66df456-7bde-4f79-9bdb-a524d0480943",
   "metadata": {},
   "outputs": [],
   "source": [
    "Lyman_lines = [1220., 1030. ,973.,950., 938., 930.]\n",
    "Balmer_lines = [6562.791,4861.351,4340.4721,4101.740,3970.072,3889.0641,3835.3971]\n",
    "Paschen_lines = [8750., 12820., 10938.0,10050., 9546.2, 9229.7,9015.3, 8862.89,8750.46,8665.02]\n",
    "Brackett_lines = [40522.79, 26258.71, 21661.178, 19440., 18179.21]\n",
    "Pfund_lines = [ 74599.0, 46537.8, 37405.76 , 32969.8, 30400.]\n",
    "all_Hydrogen_lines = [ Lyman_lines, Balmer_lines, Paschen_lines, Brackett_lines, Pfund_lines]\n",
    "Color_lines = [\"purple\", \"blue\", \"green\", \"red\",\"grey\"]\n",
    "Balmer_thres = 3645.6\n",
    "Lyman_thres = 911.267\n",
    "Paschen_thres = 8200.\n",
    "Brackett_thres = 14580.\n",
    "Pfund_lines = 22800.\n",
    "all_Hydrogen_thres = [Lyman_thres , Balmer_thres, Paschen_thres, Brackett_thres, Pfund_lines]\n"
   ]
  },
  {
   "cell_type": "code",
   "execution_count": null,
   "id": "e4705583-4754-4d18-9404-f6cb01a7382b",
   "metadata": {},
   "outputs": [],
   "source": [
    "D4000_red = [4050.,4250] \n",
    "D4000_blue = [3750.,3950.]\n",
    "W_BALMER = [Balmer_thres, Balmer_lines[0]]\n",
    "W_LYMAN = [Lyman_thres, Lyman_lines[0]]"
   ]
  },
  {
   "cell_type": "code",
   "execution_count": null,
   "id": "4096806a-af89-4cfb-97a7-3dbb1a30aa12",
   "metadata": {},
   "outputs": [],
   "source": [
    "def plot_hydrogen_lines(ax):\n",
    "    nth = len(all_Hydrogen_thres)\n",
    "    for idx,group_lines in enumerate(all_Hydrogen_lines):\n",
    "        # select only Lyman and Balmer\n",
    "        if idx<2:\n",
    "            color = Color_lines[idx]\n",
    "            for wl_line in group_lines:\n",
    "                ax.axvline(wl_line,color=color,lw=0.5)\n",
    "            if idx< nth:\n",
    "                ax.axvline(all_Hydrogen_thres[idx],color=color,linestyle=\":\")\n",
    "    ax.axvspan(W_LYMAN[0],W_LYMAN[1],facecolor='green', alpha=0.5)\n",
    "    ax.axvspan(W_BALMER[0],W_BALMER[1],facecolor='yellow', alpha=0.5)"
   ]
  },
  {
   "cell_type": "code",
   "execution_count": null,
   "id": "224cc6d3-971d-4e9f-91c0-84f18592bbf5",
   "metadata": {},
   "outputs": [],
   "source": [
    "def plot_hydrogen_lines_redshift(ax,z):\n",
    "    nth = len(all_Hydrogen_thres)\n",
    "    for idx,group_lines in enumerate(all_Hydrogen_lines):\n",
    "        # select only Lyman and Balmer\n",
    "        if idx<2:\n",
    "            color = Color_lines[idx]\n",
    "            for wl_line in group_lines:\n",
    "                ax.axvline(wl_line*(1+z),color=color,lw=0.5)\n",
    "            if idx< nth:\n",
    "                ax.axvline(all_Hydrogen_thres[idx]*(1+z),color=color,linestyle=\":\")\n",
    "    ax.axvspan(W_LYMAN[0]*(1+z),W_LYMAN[1]*(1+z),facecolor='green', alpha=0.5)\n",
    "    ax.axvspan(W_BALMER[0]*(1+z),W_BALMER[1]*(1+z),facecolor='yellow', alpha=0.5)"
   ]
  },
  {
   "cell_type": "code",
   "execution_count": null,
   "id": "b19069a8-e610-46d9-b7b5-432d9c970bce",
   "metadata": {},
   "outputs": [],
   "source": [
    "fors2 = Fors2DataAcess()"
   ]
  },
  {
   "cell_type": "code",
   "execution_count": null,
   "id": "205f3b05-e332-457e-b41b-d13c919a638b",
   "metadata": {},
   "outputs": [],
   "source": [
    "fors2.plot_allspectra()"
   ]
  },
  {
   "cell_type": "code",
   "execution_count": null,
   "id": "c3dd1448-2e0a-4501-b659-289562fb836b",
   "metadata": {},
   "outputs": [],
   "source": [
    "fors2_tags = fors2.get_list_of_groupkeys()\n",
    "len(fors2_tags)"
   ]
  },
  {
   "cell_type": "code",
   "execution_count": null,
   "id": "298f66a5-c424-4f28-8723-5e901c4511f1",
   "metadata": {},
   "outputs": [],
   "source": [
    "list_of_fors2_attributes = fors2.get_list_subgroup_keys()\n",
    "print(list_of_fors2_attributes)"
   ]
  },
  {
   "cell_type": "code",
   "execution_count": null,
   "id": "a193c105-fff7-4db2-af5f-5d6a0b14e8cb",
   "metadata": {},
   "outputs": [],
   "source": [
    "bwr_map = plt.get_cmap('bwr')\n",
    "reversed_map = bwr_map.reversed() \n",
    "cNorm = colors.Normalize(0., vmax=1.)\n",
    "scalarMap = cmx.ScalarMappable(norm=cNorm, cmap=bwr_map)"
   ]
  },
  {
   "cell_type": "code",
   "execution_count": null,
   "id": "b7f00861-49d6-45d7-8076-320ebc8e528a",
   "metadata": {},
   "outputs": [],
   "source": [
    "for specname in fors2_tags:\n",
    "    attr = fors2.getattribdata_fromgroup(specname)\n",
    "    #print(\"=======================================================================================\")\n",
    "    #print(attr)\n",
    "    redshift = attr['redshift']\n",
    "    lines = attr['lines']\n",
    "    the_color = scalarMap.to_rgba(redshift, alpha=1)\n",
    "    the_dict_sed =  fors2.getspectrum_fromgroup(specname)\n",
    "    wl = the_dict_sed[\"wl\"] \n",
    "    fl = the_dict_sed[\"fl\"] \n",
    "    ymax = fl.max()\n",
    "    fig,(ax1,ax2) = plt.subplots(1,2,figsize=(16,4))\n",
    "    ax1.plot(wl,fl,'-',color=the_color)\n",
    "    title = f\"{specname}, z={redshift:.2f}, lines = {lines}\"\n",
    "    ax1.set_title(title)\n",
    "    ax1.axvline(wl.min(),color=\"k\")\n",
    "    ax1.axvline(wl.max(),color=\"k\")\n",
    "    ax1.set_xlim(4000.,10000.)\n",
    "    ax1.set_ylim(0.,ymax)\n",
    "    ax1.set_xlabel(\"$\\lambda (\\\\AA)$\")\n",
    "    ax1.set_ylabel(\"$F_\\lambda(\\lambda) (A.U)$\")\n",
    "    ax1.grid()\n",
    "    plot_hydrogen_lines_redshift(ax1,redshift)\n",
    "\n",
    "    wl2 = wl/(1+redshift)\n",
    "    \n",
    "    ax2.plot(wl2,fl,'-',color=the_color)\n",
    "    #title = f\"{specname}, z={redshift:.2f}, lines = {lines}\"\n",
    "    #ax2.set_title(title)\n",
    "    ax2.axvline(wl2.min(),color=\"k\")\n",
    "    ax2.axvline(wl2.max(),color=\"k\")\n",
    "    ax2.set_xlim(2000.,8000.)\n",
    "    if not np.isnan(ymax):\n",
    "        ax2.set_ylim(0.,ymax)\n",
    "    ax2.set_xlabel(\"$\\lambda (\\\\AA)$\")\n",
    "    ax2.set_ylabel(\"$F_\\lambda(\\lambda) (A.U)$\")\n",
    "    ax2.grid()\n",
    "    plot_hydrogen_lines(ax2)\n",
    "\n",
    "    \n",
    "    cbar=fig.colorbar(scalarMap , ax=ax2)\n",
    "    cbar.ax.set_ylabel('redshift')\n",
    "\n",
    "    plt.show()\n",
    "    "
   ]
  },
  {
   "cell_type": "code",
   "execution_count": null,
   "id": "b0d9b47a-7be1-40ef-bbe4-e971743faa8f",
   "metadata": {},
   "outputs": [],
   "source": []
  }
 ],
 "metadata": {
  "kernelspec": {
   "display_name": "pcigale",
   "language": "python",
   "name": "pcigale"
  },
  "language_info": {
   "codemirror_mode": {
    "name": "ipython",
    "version": 3
   },
   "file_extension": ".py",
   "mimetype": "text/x-python",
   "name": "python",
   "nbconvert_exporter": "python",
   "pygments_lexer": "ipython3",
   "version": "3.10.13"
  }
 },
 "nbformat": 4,
 "nbformat_minor": 5
}
