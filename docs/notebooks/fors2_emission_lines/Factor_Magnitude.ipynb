{
 "cells": [
  {
   "cell_type": "markdown",
   "id": "ecf5deaa-0d01-4dcb-99b7-a04c260f73cb",
   "metadata": {},
   "source": [
    "# Study factor - Magnitude"
   ]
  },
  {
   "cell_type": "code",
   "execution_count": null,
   "id": "11e267c9-1184-4443-a2f4-115c3190fb7e",
   "metadata": {},
   "outputs": [],
   "source": [
    "import h5py\n",
    "import pandas as pd\n",
    "import numpy as np\n",
    "import os\n",
    "import re\n",
    "from astropy.io import fits\n",
    "from astropy.table import Table\n",
    "import matplotlib as mpl\n",
    "import matplotlib.pyplot as plt\n",
    "from matplotlib.ticker import MultipleLocator\n",
    "#%matplotlib inline\n",
    "%matplotlib ipympl\n",
    "import matplotlib.colors as colors\n",
    "import matplotlib.cm as cmx\n",
    "import collections\n",
    "from collections import OrderedDict\n",
    "import re\n",
    "import matplotlib.gridspec as gridspec\n",
    "from sklearn.gaussian_process import GaussianProcessRegressor, kernels\n",
    "import matplotlib.gridspec as gridspec\n",
    "from mpl_toolkits.axes_grid1.inset_locator import inset_axes"
   ]
  },
  {
   "cell_type": "code",
   "execution_count": null,
   "id": "456c5223-a740-45f3-a265-89a004bf6683",
   "metadata": {},
   "outputs": [],
   "source": [
    "plt.rcParams[\"figure.figsize\"] = (12,6)\n",
    "plt.rcParams[\"axes.labelsize\"] = 'xx-large'\n",
    "plt.rcParams['axes.titlesize'] = 'xx-large'\n",
    "plt.rcParams['xtick.labelsize']= 'xx-large'\n",
    "plt.rcParams['ytick.labelsize']= 'xx-large'"
   ]
  },
  {
   "cell_type": "code",
   "execution_count": null,
   "id": "6f341608-4706-4a15-8966-6aaa4db7be8d",
   "metadata": {},
   "outputs": [],
   "source": [
    "delta_map = np.linspace(-5,5)\n",
    "factor = np.power(10.,-0.4*delta_map)"
   ]
  },
  {
   "cell_type": "code",
   "execution_count": null,
   "id": "efc0856e-b9f2-46ab-b70c-17791ba087e9",
   "metadata": {},
   "outputs": [],
   "source": [
    "fig, ax = plt.subplots(figsize=(10,8))\n",
    "ax.plot(delta_map,factor,'o-b')\n",
    "ax.set_yscale(\"log\")\n",
    "\n",
    "ax.grid(which='major', linestyle='-', linewidth='1', color='red')\n",
    "ax.set_ylabel(\"factor\")\n",
    "ax.set_xlabel(\"delta-mag\")\n",
    "ax.minorticks_on()\n",
    "#ax.xaxis.set_minor_locator(MultipleLocator(1 / 7))\n",
    "#ax.xaxis.set_minor_formatter(lambda x, pos: 'MTWTFSS'[int(round(x * 7)) % 7])\n",
    "\n",
    "ax.xaxis.set_minor_locator(MultipleLocator(1 / 10))\n",
    "ax.xaxis.set_minor_formatter(lambda x, pos: 'ABCDEFGHIJ'[int(round(x * 10)) % 10])\n",
    "\n",
    "\n",
    "ax.tick_params(axis='x', which='minor', labelsize=5)\n",
    "ax.grid(True, which='both')"
   ]
  },
  {
   "cell_type": "code",
   "execution_count": null,
   "id": "7347ecdd-1809-43b1-88e9-c8ed1848595a",
   "metadata": {},
   "outputs": [],
   "source": []
  }
 ],
 "metadata": {
  "kernelspec": {
   "display_name": "pcigale",
   "language": "python",
   "name": "pcigale"
  },
  "language_info": {
   "codemirror_mode": {
    "name": "ipython",
    "version": 3
   },
   "file_extension": ".py",
   "mimetype": "text/x-python",
   "name": "python",
   "nbconvert_exporter": "python",
   "pygments_lexer": "ipython3",
   "version": "3.10.13"
  }
 },
 "nbformat": 4,
 "nbformat_minor": 5
}
