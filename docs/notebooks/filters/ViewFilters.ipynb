{
 "cells": [
  {
   "cell_type": "markdown",
   "id": "b87e509a-c369-4343-80b5-41611fe541ba",
   "metadata": {},
   "source": [
    "# View the filters of photometric surveys"
   ]
  },
  {
   "cell_type": "code",
   "execution_count": null,
   "id": "ff9486e5-a1cf-45f9-b844-5b09101fcbb4",
   "metadata": {},
   "outputs": [],
   "source": [
    "from fors2tostellarpopsynthesis.filters import FilterInfo"
   ]
  },
  {
   "cell_type": "code",
   "execution_count": null,
   "id": "634b213c-3fcf-4891-89a4-bd1f0aeabbb5",
   "metadata": {},
   "outputs": [],
   "source": [
    "ps = FilterInfo()"
   ]
  },
  {
   "cell_type": "code",
   "execution_count": null,
   "id": "c327ab6d-f0fd-4e69-8196-04269ff9b5b1",
   "metadata": {},
   "outputs": [],
   "source": [
    "ps.plot_transmissions()"
   ]
  },
  {
   "cell_type": "code",
   "execution_count": null,
   "id": "184617d5-8dab-4816-aa48-b5b5ba2f6340",
   "metadata": {},
   "outputs": [],
   "source": [
    "ps.dump()"
   ]
  },
  {
   "cell_type": "code",
   "execution_count": null,
   "id": "0e2f8429-a2dd-4ef4-9695-04cdbb5c1d39",
   "metadata": {},
   "outputs": [],
   "source": [
    "ps.filters_indexlist"
   ]
  },
  {
   "cell_type": "code",
   "execution_count": null,
   "id": "3897569f-f0df-41c4-a383-7771c0828ca3",
   "metadata": {},
   "outputs": [],
   "source": [
    "ps.filters_surveylist"
   ]
  },
  {
   "cell_type": "code",
   "execution_count": null,
   "id": "d4970356-6c09-46b4-b8a0-a603e0fa2449",
   "metadata": {},
   "outputs": [],
   "source": [
    "ps.filters_namelist"
   ]
  },
  {
   "cell_type": "code",
   "execution_count": null,
   "id": "0de1fdf1-7167-46a3-995c-11be551aea70",
   "metadata": {},
   "outputs": [],
   "source": []
  }
 ],
 "metadata": {
  "kernelspec": {
   "display_name": "conda_jaxcpu_dsps_py310",
   "language": "python",
   "name": "conda_jaxcpu_dsps_py310"
  },
  "language_info": {
   "codemirror_mode": {
    "name": "ipython",
    "version": 3
   },
   "file_extension": ".py",
   "mimetype": "text/x-python",
   "name": "python",
   "nbconvert_exporter": "python",
   "pygments_lexer": "ipython3",
   "version": "3.10.13"
  }
 },
 "nbformat": 4,
 "nbformat_minor": 5
}
