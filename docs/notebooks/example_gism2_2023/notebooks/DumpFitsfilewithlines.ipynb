{
 "cells": [
  {
   "cell_type": "markdown",
   "id": "ad5dca68-1e20-46c3-b04f-d032c20997bd",
   "metadata": {},
   "source": [
    "# Dump fits file with emission lines"
   ]
  },
  {
   "cell_type": "markdown",
   "id": "5af59e58-26cb-4cba-9f6d-a64ab79bfae8",
   "metadata": {},
   "source": [
    "- Author Sylvie Dagoret-Campagne\n",
    "- Afflilation : IJCLab/IN2P3/CNRS\n",
    "- Organisation : LSST-DESC\n",
    "- creation date : 2024-02-04\n",
    "- last update : 2024-02-05\n",
    "\n",
    "  Use ``pcigale`` python environnement"
   ]
  },
  {
   "cell_type": "markdown",
   "id": "a6330e7e-a126-4e85-afba-2910183b3c32",
   "metadata": {},
   "source": [
    "## import"
   ]
  },
  {
   "cell_type": "code",
   "execution_count": 1,
   "id": "1e84f74d-658a-436b-8673-5714b1931d5f",
   "metadata": {},
   "outputs": [],
   "source": [
    "from astropy import units as u\n",
    "from astropy import constants as const\n",
    "import numpy as np\n",
    "from astropy.table import Table\n",
    "from astropy.io import ascii"
   ]
  },
  {
   "cell_type": "code",
   "execution_count": 13,
   "id": "1ecedd07-f788-4b6c-97fa-2753c95500b0",
   "metadata": {},
   "outputs": [],
   "source": [
    "file = \"../exercise/Sings_KINGFISH_sample_with_lines.fits\"\n",
    "#file = \"../exercise/KINGFISH_MoustakasEtAll_lines.fits\" "
   ]
  },
  {
   "cell_type": "markdown",
   "id": "ff7995c8-46f9-4729-8b64-eec504b596ef",
   "metadata": {},
   "source": [
    "# Read Table"
   ]
  },
  {
   "cell_type": "code",
   "execution_count": 18,
   "id": "14de0259-fe3f-444d-ae67-de92799e504d",
   "metadata": {},
   "outputs": [],
   "source": [
    "KINGFISH = Table.read(file, format='fits')  # remove dummy_ga\n",
    "KINGFISH.add_index('id')"
   ]
  },
  {
   "cell_type": "code",
   "execution_count": 19,
   "id": "c6862335-4814-4fad-8049-07d3d3fb1adc",
   "metadata": {},
   "outputs": [
    {
     "data": {
      "text/html": [
       "<div><i>Table length=91</i>\n",
       "<table id=\"table4527822048\" class=\"table-striped table-bordered table-condensed\">\n",
       "<thead><tr><th>id</th><th>name</th><th>spectrum</th><th>redshift</th><th>distance</th><th>galex.FUV</th><th>galex.FUV_err</th><th>galex.NUV</th><th>galex.NUV_err</th><th>sdss.up</th><th>sdss.up_err</th><th>sdss.gp</th><th>sdss.gp_err</th><th>sdss.rp</th><th>sdss.rp_err</th><th>sdss.ip</th><th>sdss.ip_err</th><th>sdss.zp</th><th>sdss.zp_err</th><th>2mass.J</th><th>2mass.J_err</th><th>2mass.H</th><th>2mass.H_err</th><th>2mass.Ks</th><th>2mass.Ks_err</th><th>IRAC1</th><th>IRAC1_err</th><th>IRAC2</th><th>IRAC2_err</th><th>IRAC3</th><th>IRAC3_err</th><th>IRAC4</th><th>IRAC4_err</th><th>WISE3</th><th>WISE3_err</th><th>MIPS1</th><th>MIPS1_err</th><th>herschel.pacs.70</th><th>herschel.pacs.70_err</th><th>herschel.pacs.100</th><th>herschel.pacs.100_err</th><th>herschel.pacs.160</th><th>herschel.pacs.160_err</th><th>herschel.spire.PSW</th><th>herschel.spire.PSW_err</th><th>herschel.spire.PMW</th><th>herschel.spire.PMW_err</th><th>herschel.spire.PLW</th><th>herschel.spire.PLW_err</th><th>line.OII-372.6+line.OII-372.9</th><th>line.OII-372.6+line.OII-372.9_err</th><th>line.H-gamma</th><th>line.H-gamma_err</th><th>line.NII-658.3</th><th>line.NII-658.3_err</th><th>line.SII-671.6</th><th>line.SII-671.6_err</th><th>line.SII-673.1</th><th>line.SII-673.1_err</th><th>line.H-beta</th><th>line.H-beta_err</th><th>line.OIII-500.7</th><th>line.OIII-500.7_err</th><th>line.H-alpha</th><th>line.H-alpha_err</th></tr></thead>\n",
       "<thead><tr><th></th><th></th><th></th><th></th><th></th><th></th><th></th><th></th><th></th><th></th><th></th><th></th><th></th><th></th><th></th><th></th><th></th><th></th><th></th><th></th><th></th><th></th><th></th><th></th><th></th><th></th><th></th><th></th><th></th><th></th><th></th><th></th><th></th><th></th><th></th><th></th><th></th><th></th><th></th><th></th><th></th><th></th><th></th><th></th><th></th><th></th><th></th><th></th><th></th><th>W / m2</th><th>W / m2</th><th>W / m2</th><th>W / m2</th><th>W / m2</th><th>W / m2</th><th>W / m2</th><th>W / m2</th><th>W / m2</th><th>W / m2</th><th>W / m2</th><th>W / m2</th><th>W / m2</th><th>W / m2</th><th>W / m2</th><th>W / m2</th></tr></thead>\n",
       "<thead><tr><th>bytes22</th><th>bytes8</th><th>bytes13</th><th>float64</th><th>float64</th><th>float64</th><th>float64</th><th>float64</th><th>float64</th><th>float64</th><th>float64</th><th>float64</th><th>float64</th><th>float64</th><th>float64</th><th>float64</th><th>float64</th><th>float64</th><th>float64</th><th>float64</th><th>float64</th><th>float64</th><th>float64</th><th>float64</th><th>float64</th><th>float64</th><th>float64</th><th>float64</th><th>float64</th><th>float64</th><th>float64</th><th>float64</th><th>float64</th><th>float64</th><th>float64</th><th>float64</th><th>float64</th><th>float64</th><th>float64</th><th>float64</th><th>float64</th><th>float64</th><th>float64</th><th>float64</th><th>float64</th><th>float64</th><th>float64</th><th>float64</th><th>float64</th><th>float64</th><th>float64</th><th>float64</th><th>float64</th><th>float64</th><th>float64</th><th>float64</th><th>float64</th><th>float64</th><th>float64</th><th>float64</th><th>float64</th><th>float64</th><th>float64</th><th>float64</th><th>float64</th></tr></thead>\n",
       "<tr><td>M81dwB</td><td>M81dwB</td><td>--</td><td>0.0</td><td>3.6</td><td>0.0469</td><td>0.0073</td><td>0.0586</td><td>0.009</td><td>0.175</td><td>0.011</td><td>0.447</td><td>0.016</td><td>0.682</td><td>0.021</td><td>0.842</td><td>0.025</td><td>0.997</td><td>0.037</td><td>1.11</td><td>0.14</td><td>1.3</td><td>0.22</td><td>1.32</td><td>0.26</td><td>0.534</td><td>0.1</td><td>0.36</td><td>0.1</td><td>0.321</td><td>0.09</td><td>0.307</td><td>0.08</td><td>0.373</td><td>0.124</td><td>0.332</td><td>0.034</td><td>9.03</td><td>1.16</td><td>27.0</td><td>1.8</td><td>29.2</td><td>1.8</td><td>17.6</td><td>1.4</td><td>10.4</td><td>1.0</td><td>4.26</td><td>2.13</td><td>--</td><td>--</td><td>--</td><td>--</td><td>--</td><td>--</td><td>--</td><td>--</td><td>--</td><td>--</td><td>--</td><td>--</td><td>--</td><td>--</td><td>--</td><td>--</td></tr>\n",
       "<tr><td>NGC_0337-Nuclear</td><td>NGC_0337</td><td>Nuclear</td><td>0.0</td><td>19.3</td><td>0.463</td><td>0.064</td><td>0.819</td><td>0.113</td><td>2.49</td><td>0.06</td><td>6.64</td><td>0.14</td><td>10.0</td><td>0.2</td><td>12.1</td><td>0.2</td><td>13.6</td><td>0.2</td><td>17.8</td><td>0.9</td><td>19.0</td><td>0.9</td><td>16.4</td><td>0.8</td><td>9.58</td><td>1.26</td><td>6.59</td><td>0.9</td><td>14.1</td><td>1.8</td><td>37.6</td><td>4.7</td><td>29.1</td><td>2.0</td><td>67.3</td><td>2.8</td><td>1390.0</td><td>60.0</td><td>2100.0</td><td>100.0</td><td>1970.0</td><td>90.0</td><td>894.0</td><td>63.0</td><td>405.0</td><td>28.0</td><td>158.0</td><td>11.0</td><td>6.02e-18</td><td>3.9000000000000004e-19</td><td>6.800000000000001e-19</td><td>1.7000000000000003e-19</td><td>2.31e-18</td><td>2.6e-19</td><td>2.78e-18</td><td>2.2000000000000003e-19</td><td>2.15e-18</td><td>2.4e-19</td><td>2.2000000000000002e-18</td><td>1.7000000000000003e-19</td><td>1.2400000000000001e-18</td><td>1.5e-19</td><td>9.69e-18</td><td>3.4000000000000007e-19</td></tr>\n",
       "<tr><td>NGC_0337-RadialStrip</td><td>NGC_0337</td><td>Radial Strip</td><td>0.0</td><td>19.3</td><td>0.463</td><td>0.064</td><td>0.819</td><td>0.113</td><td>2.49</td><td>0.06</td><td>6.64</td><td>0.14</td><td>10.0</td><td>0.2</td><td>12.1</td><td>0.2</td><td>13.6</td><td>0.2</td><td>17.8</td><td>0.9</td><td>19.0</td><td>0.9</td><td>16.4</td><td>0.8</td><td>9.58</td><td>1.26</td><td>6.59</td><td>0.9</td><td>14.1</td><td>1.8</td><td>37.6</td><td>4.7</td><td>29.1</td><td>2.0</td><td>67.3</td><td>2.8</td><td>1390.0</td><td>60.0</td><td>2100.0</td><td>100.0</td><td>1970.0</td><td>90.0</td><td>894.0</td><td>63.0</td><td>405.0</td><td>28.0</td><td>158.0</td><td>11.0</td><td>1.469e-15</td><td>3.8e-17</td><td>1.69e-16</td><td>1.4e-17</td><td>5.930000000000001e-16</td><td>2.3e-17</td><td>6.950000000000001e-16</td><td>2.8e-17</td><td>5.12e-16</td><td>1.9e-17</td><td>6.490000000000001e-16</td><td>1.4e-17</td><td>9.37e-16</td><td>1.7000000000000002e-17</td><td>3.184e-15</td><td>3.4000000000000004e-17</td></tr>\n",
       "<tr><td>NGC_0337-Circumnuclear</td><td>NGC_0337</td><td>Circumnuclear</td><td>0.0</td><td>19.3</td><td>0.463</td><td>0.064</td><td>0.819</td><td>0.113</td><td>2.49</td><td>0.06</td><td>6.64</td><td>0.14</td><td>10.0</td><td>0.2</td><td>12.1</td><td>0.2</td><td>13.6</td><td>0.2</td><td>17.8</td><td>0.9</td><td>19.0</td><td>0.9</td><td>16.4</td><td>0.8</td><td>9.58</td><td>1.26</td><td>6.59</td><td>0.9</td><td>14.1</td><td>1.8</td><td>37.6</td><td>4.7</td><td>29.1</td><td>2.0</td><td>67.3</td><td>2.8</td><td>1390.0</td><td>60.0</td><td>2100.0</td><td>100.0</td><td>1970.0</td><td>90.0</td><td>894.0</td><td>63.0</td><td>405.0</td><td>28.0</td><td>158.0</td><td>11.0</td><td>2.225e-16</td><td>9.2e-18</td><td>3.6100000000000004e-17</td><td>4.900000000000001e-18</td><td>1.697e-16</td><td>7.6e-18</td><td>1.5490000000000001e-16</td><td>7.900000000000001e-18</td><td>1.0440000000000002e-16</td><td>5.1e-18</td><td>1.231e-16</td><td>5e-18</td><td>8.96e-17</td><td>4.900000000000001e-18</td><td>6.68e-16</td><td>1.1e-17</td></tr>\n",
       "<tr><td>NGC_0628-Nuclear</td><td>NGC_0628</td><td>Nuclear</td><td>0.0</td><td>7.2</td><td>4.69</td><td>0.73</td><td>5.91</td><td>0.91</td><td>17.9</td><td>0.3</td><td>49.2</td><td>0.9</td><td>80.4</td><td>1.6</td><td>108.0</td><td>2.0</td><td>123.0</td><td>2.0</td><td>156.0</td><td>7.0</td><td>160.0</td><td>8.0</td><td>128.0</td><td>6.0</td><td>83.9</td><td>11.7</td><td>54.4</td><td>7.5</td><td>116.0</td><td>14.0</td><td>259.0</td><td>33.0</td><td>235.0</td><td>16.0</td><td>323.0</td><td>12.0</td><td>4200.0</td><td>210.0</td><td>8360.0</td><td>410.0</td><td>11400.0</td><td>500.0</td><td>6210.0</td><td>440.0</td><td>2980.0</td><td>210.0</td><td>1140.0</td><td>80.0</td><td>--</td><td>--</td><td>--</td><td>--</td><td>--</td><td>--</td><td>--</td><td>--</td><td>--</td><td>--</td><td>--</td><td>--</td><td>--</td><td>--</td><td>--</td><td>--</td></tr>\n",
       "<tr><td>NGC_0628-Circumnuclear</td><td>NGC_0628</td><td>Circumnuclear</td><td>0.0</td><td>7.2</td><td>4.69</td><td>0.73</td><td>5.91</td><td>0.91</td><td>17.9</td><td>0.3</td><td>49.2</td><td>0.9</td><td>80.4</td><td>1.6</td><td>108.0</td><td>2.0</td><td>123.0</td><td>2.0</td><td>156.0</td><td>7.0</td><td>160.0</td><td>8.0</td><td>128.0</td><td>6.0</td><td>83.9</td><td>11.7</td><td>54.4</td><td>7.5</td><td>116.0</td><td>14.0</td><td>259.0</td><td>33.0</td><td>235.0</td><td>16.0</td><td>323.0</td><td>12.0</td><td>4200.0</td><td>210.0</td><td>8360.0</td><td>410.0</td><td>11400.0</td><td>500.0</td><td>6210.0</td><td>440.0</td><td>2980.0</td><td>210.0</td><td>1140.0</td><td>80.0</td><td>--</td><td>--</td><td>--</td><td>--</td><td>1.79e-17</td><td>5.8e-18</td><td>--</td><td>--</td><td>--</td><td>--</td><td>2.29e-17</td><td>6.200000000000001e-18</td><td>2.1100000000000003e-17</td><td>4.900000000000001e-18</td><td>8.140000000000001e-17</td><td>8.6e-18</td></tr>\n",
       "<tr><td>NGC_0628-RadialStrip</td><td>NGC_0628</td><td>Radial Strip</td><td>0.0</td><td>7.2</td><td>4.69</td><td>0.73</td><td>5.91</td><td>0.91</td><td>17.9</td><td>0.3</td><td>49.2</td><td>0.9</td><td>80.4</td><td>1.6</td><td>108.0</td><td>2.0</td><td>123.0</td><td>2.0</td><td>156.0</td><td>7.0</td><td>160.0</td><td>8.0</td><td>128.0</td><td>6.0</td><td>83.9</td><td>11.7</td><td>54.4</td><td>7.5</td><td>116.0</td><td>14.0</td><td>259.0</td><td>33.0</td><td>235.0</td><td>16.0</td><td>323.0</td><td>12.0</td><td>4200.0</td><td>210.0</td><td>8360.0</td><td>410.0</td><td>11400.0</td><td>500.0</td><td>6210.0</td><td>440.0</td><td>2980.0</td><td>210.0</td><td>1140.0</td><td>80.0</td><td>--</td><td>--</td><td>5.8e-17</td><td>2.9e-17</td><td>3.5800000000000005e-16</td><td>5.2000000000000007e-17</td><td>1.8900000000000001e-16</td><td>5.1e-17</td><td>1.2100000000000002e-16</td><td>3.6000000000000006e-17</td><td>2.28e-16</td><td>3.5e-17</td><td>--</td><td>--</td><td>8.780000000000001e-16</td><td>7.500000000000001e-17</td></tr>\n",
       "<tr><td>NGC_2798-RadialStrip</td><td>NGC_2798</td><td>Radial Strip</td><td>0.0</td><td>25.8</td><td>0.0965</td><td>0.0133</td><td>0.201</td><td>0.027</td><td>0.839</td><td>0.028</td><td>3.1</td><td>0.07</td><td>5.98</td><td>0.12</td><td>8.25</td><td>0.17</td><td>10.6</td><td>0.2</td><td>16.0</td><td>0.8</td><td>18.4</td><td>0.9</td><td>17.2</td><td>0.9</td><td>11.4</td><td>1.5</td><td>8.1</td><td>1.14</td><td>26.5</td><td>3.4</td><td>63.2</td><td>7.8</td><td>58.7</td><td>4.1</td><td>261.0</td><td>10.0</td><td>2500.0</td><td>120.0</td><td>2870.0</td><td>140.0</td><td>2020.0</td><td>100.0</td><td>740.0</td><td>52.0</td><td>272.0</td><td>19.0</td><td>85.3</td><td>6.1</td><td>1.7100000000000002e-16</td><td>1.5e-17</td><td>4.4100000000000004e-17</td><td>8e-18</td><td>6.32e-16</td><td>1.7000000000000002e-17</td><td>2.28e-16</td><td>1.9e-17</td><td>1.8800000000000002e-16</td><td>1.4e-17</td><td>1.7e-16</td><td>1e-17</td><td>8.840000000000002e-17</td><td>9.000000000000001e-18</td><td>1.289e-15</td><td>2.6000000000000003e-17</td></tr>\n",
       "<tr><td>NGC_2798-Circumnuclear</td><td>NGC_2798</td><td>Circumnuclear</td><td>0.0</td><td>25.8</td><td>0.0965</td><td>0.0133</td><td>0.201</td><td>0.027</td><td>0.839</td><td>0.028</td><td>3.1</td><td>0.07</td><td>5.98</td><td>0.12</td><td>8.25</td><td>0.17</td><td>10.6</td><td>0.2</td><td>16.0</td><td>0.8</td><td>18.4</td><td>0.9</td><td>17.2</td><td>0.9</td><td>11.4</td><td>1.5</td><td>8.1</td><td>1.14</td><td>26.5</td><td>3.4</td><td>63.2</td><td>7.8</td><td>58.7</td><td>4.1</td><td>261.0</td><td>10.0</td><td>2500.0</td><td>120.0</td><td>2870.0</td><td>140.0</td><td>2020.0</td><td>100.0</td><td>740.0</td><td>52.0</td><td>272.0</td><td>19.0</td><td>85.3</td><td>6.1</td><td>1.41e-16</td><td>6.500000000000001e-18</td><td>3.5700000000000006e-17</td><td>3.6e-18</td><td>6.14e-16</td><td>1.1e-17</td><td>2.0740000000000003e-16</td><td>9.2e-18</td><td>1.84e-16</td><td>8e-18</td><td>1.603e-16</td><td>4.8e-18</td><td>7.27e-17</td><td>4.6e-18</td><td>1.2580000000000001e-15</td><td>1.6e-17</td></tr>\n",
       "<tr><td>NGC_2798-Nuclear</td><td>NGC_2798</td><td>Nuclear</td><td>0.0</td><td>25.8</td><td>0.0965</td><td>0.0133</td><td>0.201</td><td>0.027</td><td>0.839</td><td>0.028</td><td>3.1</td><td>0.07</td><td>5.98</td><td>0.12</td><td>8.25</td><td>0.17</td><td>10.6</td><td>0.2</td><td>16.0</td><td>0.8</td><td>18.4</td><td>0.9</td><td>17.2</td><td>0.9</td><td>11.4</td><td>1.5</td><td>8.1</td><td>1.14</td><td>26.5</td><td>3.4</td><td>63.2</td><td>7.8</td><td>58.7</td><td>4.1</td><td>261.0</td><td>10.0</td><td>2500.0</td><td>120.0</td><td>2870.0</td><td>140.0</td><td>2020.0</td><td>100.0</td><td>740.0</td><td>52.0</td><td>272.0</td><td>19.0</td><td>85.3</td><td>6.1</td><td>1.94e-17</td><td>1.1000000000000001e-18</td><td>7.820000000000002e-18</td><td>5e-19</td><td>1.134e-16</td><td>1.5000000000000001e-18</td><td>2.7700000000000002e-17</td><td>1.3000000000000002e-18</td><td>2.59e-17</td><td>1.4e-18</td><td>3.201e-17</td><td>8.5e-19</td><td>1.102e-17</td><td>7e-19</td><td>2.1800000000000002e-16</td><td>2.4e-18</td></tr>\n",
       "<tr><td>NGC_2841-Circumnuclear</td><td>NGC_2841</td><td>Circumnuclear</td><td>0.0</td><td>14.1</td><td>1.16</td><td>0.16</td><td>1.83</td><td>0.25</td><td>11.1</td><td>0.2</td><td>45.9</td><td>0.9</td><td>94.1</td><td>1.8</td><td>140.0</td><td>2.0</td><td>179.0</td><td>3.0</td><td>277.0</td><td>13.0</td><td>319.0</td><td>15.0</td><td>265.0</td><td>13.0</td><td>126.0</td><td>17.0</td><td>75.0</td><td>10.3</td><td>66.9</td><td>8.5</td><td>115.0</td><td>14.0</td><td>100.0</td><td>7.0</td><td>90.8</td><td>3.7</td><td>1100.0</td><td>50.0</td><td>2860.0</td><td>140.0</td><td>4880.0</td><td>240.0</td><td>3210.0</td><td>220.0</td><td>1520.0</td><td>100.0</td><td>589.0</td><td>41.0</td><td>8.6e-17</td><td>1.3000000000000002e-17</td><td>4.9e-17</td><td>1.1e-17</td><td>1.23e-16</td><td>2.6000000000000003e-17</td><td>1.0000000000000001e-16</td><td>4.2000000000000005e-17</td><td>--</td><td>--</td><td>--</td><td>--</td><td>1.05e-16</td><td>1.5e-17</td><td>--</td><td>--</td></tr>\n",
       "<tr><td>NGC_2841-Nuclear</td><td>NGC_2841</td><td>Nuclear</td><td>0.0</td><td>14.1</td><td>1.16</td><td>0.16</td><td>1.83</td><td>0.25</td><td>11.1</td><td>0.2</td><td>45.9</td><td>0.9</td><td>94.1</td><td>1.8</td><td>140.0</td><td>2.0</td><td>179.0</td><td>3.0</td><td>277.0</td><td>13.0</td><td>319.0</td><td>15.0</td><td>265.0</td><td>13.0</td><td>126.0</td><td>17.0</td><td>75.0</td><td>10.3</td><td>66.9</td><td>8.5</td><td>115.0</td><td>14.0</td><td>100.0</td><td>7.0</td><td>90.8</td><td>3.7</td><td>1100.0</td><td>50.0</td><td>2860.0</td><td>140.0</td><td>4880.0</td><td>240.0</td><td>3210.0</td><td>220.0</td><td>1520.0</td><td>100.0</td><td>589.0</td><td>41.0</td><td>1e-17</td><td>1.4e-18</td><td>1.4e-18</td><td>1.1000000000000001e-18</td><td>2.3800000000000003e-17</td><td>2.7000000000000003e-18</td><td>1.02e-17</td><td>3.3e-18</td><td>1.0300000000000002e-17</td><td>3.0000000000000002e-18</td><td>4.7000000000000004e-18</td><td>1.6000000000000002e-18</td><td>9.900000000000001e-18</td><td>1.3000000000000002e-18</td><td>1.59e-17</td><td>4.4000000000000005e-18</td></tr>\n",
       "<tr><td>...</td><td>...</td><td>...</td><td>...</td><td>...</td><td>...</td><td>...</td><td>...</td><td>...</td><td>...</td><td>...</td><td>...</td><td>...</td><td>...</td><td>...</td><td>...</td><td>...</td><td>...</td><td>...</td><td>...</td><td>...</td><td>...</td><td>...</td><td>...</td><td>...</td><td>...</td><td>...</td><td>...</td><td>...</td><td>...</td><td>...</td><td>...</td><td>...</td><td>...</td><td>...</td><td>...</td><td>...</td><td>...</td><td>...</td><td>...</td><td>...</td><td>...</td><td>...</td><td>...</td><td>...</td><td>...</td><td>...</td><td>...</td><td>...</td><td>...</td><td>...</td><td>...</td><td>...</td><td>...</td><td>...</td><td>...</td><td>...</td><td>...</td><td>...</td><td>...</td><td>...</td><td>...</td><td>...</td><td>...</td><td>...</td></tr>\n",
       "<tr><td>NGC_5457</td><td>NGC_5457</td><td>--</td><td>0.0</td><td>6.7</td><td>34.6</td><td>5.4</td><td>38.7</td><td>5.9</td><td>75.5</td><td>1.5</td><td>189.0</td><td>3.0</td><td>275.0</td><td>5.0</td><td>352.0</td><td>7.0</td><td>386.0</td><td>7.0</td><td>435.0</td><td>21.0</td><td>501.0</td><td>25.0</td><td>440.0</td><td>22.0</td><td>281.0</td><td>38.0</td><td>189.0</td><td>25.0</td><td>338.0</td><td>42.0</td><td>761.0</td><td>94.0</td><td>687.0</td><td>48.0</td><td>1050.0</td><td>40.0</td><td>13500.0</td><td>600.0</td><td>26200.0</td><td>1300.0</td><td>33600.0</td><td>1600.0</td><td>19400.0</td><td>1300.0</td><td>9420.0</td><td>660.0</td><td>3880.0</td><td>270.0</td><td>--</td><td>--</td><td>--</td><td>--</td><td>--</td><td>--</td><td>--</td><td>--</td><td>--</td><td>--</td><td>--</td><td>--</td><td>--</td><td>--</td><td>--</td><td>--</td></tr>\n",
       "<tr><td>NGC_5474-RadialStrip</td><td>NGC_5474</td><td>Radial Strip</td><td>0.0</td><td>6.8</td><td>2.31</td><td>0.36</td><td>2.51</td><td>0.38</td><td>4.88</td><td>0.11</td><td>11.6</td><td>0.2</td><td>16.6</td><td>0.3</td><td>19.9</td><td>0.4</td><td>22.2</td><td>0.4</td><td>26.2</td><td>1.4</td><td>30.5</td><td>1.8</td><td>19.3</td><td>1.5</td><td>10.8</td><td>1.3</td><td>7.3</td><td>1.02</td><td>5.55</td><td>1.01</td><td>11.4</td><td>1.4</td><td>10.0</td><td>0.7</td><td>15.6</td><td>0.6</td><td>354.0</td><td>18.0</td><td>604.0</td><td>31.0</td><td>853.0</td><td>43.0</td><td>482.0</td><td>34.0</td><td>280.0</td><td>20.0</td><td>134.0</td><td>9.0</td><td>7.220000000000001e-16</td><td>3.4000000000000004e-17</td><td>9.300000000000001e-17</td><td>1.7000000000000002e-17</td><td>1.3300000000000002e-16</td><td>3.8e-17</td><td>1.9200000000000001e-16</td><td>3.4000000000000004e-17</td><td>1.4e-16</td><td>2.3e-17</td><td>2.8e-16</td><td>1.8000000000000003e-17</td><td>3.9900000000000002e-16</td><td>2.1000000000000002e-17</td><td>9.23e-16</td><td>3.6000000000000006e-17</td></tr>\n",
       "<tr><td>NGC_5474-Circumnuclear</td><td>NGC_5474</td><td>Circumnuclear</td><td>0.0</td><td>6.8</td><td>2.31</td><td>0.36</td><td>2.51</td><td>0.38</td><td>4.88</td><td>0.11</td><td>11.6</td><td>0.2</td><td>16.6</td><td>0.3</td><td>19.9</td><td>0.4</td><td>22.2</td><td>0.4</td><td>26.2</td><td>1.4</td><td>30.5</td><td>1.8</td><td>19.3</td><td>1.5</td><td>10.8</td><td>1.3</td><td>7.3</td><td>1.02</td><td>5.55</td><td>1.01</td><td>11.4</td><td>1.4</td><td>10.0</td><td>0.7</td><td>15.6</td><td>0.6</td><td>354.0</td><td>18.0</td><td>604.0</td><td>31.0</td><td>853.0</td><td>43.0</td><td>482.0</td><td>34.0</td><td>280.0</td><td>20.0</td><td>134.0</td><td>9.0</td><td>2.5100000000000004e-17</td><td>5.3e-18</td><td>--</td><td>--</td><td>1.0400000000000002e-17</td><td>4.7000000000000004e-18</td><td>--</td><td>--</td><td>--</td><td>--</td><td>5.5e-18</td><td>2e-18</td><td>1.21e-17</td><td>2.3e-18</td><td>2.8e-17</td><td>5.200000000000001e-18</td></tr>\n",
       "<tr><td>NGC_5713-RadialStrip</td><td>NGC_5713</td><td>Radial Strip</td><td>0.0</td><td>21.4</td><td>0.387</td><td>0.053</td><td>0.75</td><td>0.103</td><td>2.85</td><td>0.06</td><td>8.84</td><td>0.18</td><td>15.1</td><td>0.3</td><td>19.7</td><td>0.4</td><td>23.0</td><td>0.4</td><td>36.2</td><td>1.8</td><td>37.9</td><td>1.9</td><td>32.7</td><td>1.6</td><td>20.0</td><td>2.7</td><td>13.7</td><td>1.9</td><td>28.8</td><td>3.7</td><td>114.0</td><td>14.0</td><td>98.2</td><td>6.8</td><td>234.0</td><td>9.0</td><td>2950.0</td><td>140.0</td><td>4210.0</td><td>210.0</td><td>3850.0</td><td>190.0</td><td>1560.0</td><td>110.0</td><td>608.0</td><td>43.0</td><td>193.0</td><td>13.0</td><td>6.56e-16</td><td>2.3e-17</td><td>7.400000000000001e-17</td><td>1.2000000000000001e-17</td><td>1.1760000000000002e-15</td><td>2.4000000000000002e-17</td><td>6.170000000000001e-16</td><td>2.2e-17</td><td>4.3000000000000004e-16</td><td>1.8000000000000003e-17</td><td>4.3400000000000005e-16</td><td>1.1e-17</td><td>1.78e-16</td><td>1.2000000000000001e-17</td><td>2.852e-15</td><td>2.9e-17</td></tr>\n",
       "<tr><td>NGC_5713-Nuclear</td><td>NGC_5713</td><td>Nuclear</td><td>0.0</td><td>21.4</td><td>0.387</td><td>0.053</td><td>0.75</td><td>0.103</td><td>2.85</td><td>0.06</td><td>8.84</td><td>0.18</td><td>15.1</td><td>0.3</td><td>19.7</td><td>0.4</td><td>23.0</td><td>0.4</td><td>36.2</td><td>1.8</td><td>37.9</td><td>1.9</td><td>32.7</td><td>1.6</td><td>20.0</td><td>2.7</td><td>13.7</td><td>1.9</td><td>28.8</td><td>3.7</td><td>114.0</td><td>14.0</td><td>98.2</td><td>6.8</td><td>234.0</td><td>9.0</td><td>2950.0</td><td>140.0</td><td>4210.0</td><td>210.0</td><td>3850.0</td><td>190.0</td><td>1560.0</td><td>110.0</td><td>608.0</td><td>43.0</td><td>193.0</td><td>13.0</td><td>6.1400000000000005e-18</td><td>5.600000000000001e-19</td><td>1.96e-18</td><td>2.7000000000000006e-19</td><td>2.901e-17</td><td>7.900000000000001e-19</td><td>1.06e-17</td><td>6e-19</td><td>8.980000000000002e-18</td><td>6e-19</td><td>8.83e-18</td><td>3.8000000000000005e-19</td><td>4.05e-18</td><td>3.9000000000000004e-19</td><td>6.43e-17</td><td>1e-18</td></tr>\n",
       "<tr><td>NGC_5713-Circumnuclear</td><td>NGC_5713</td><td>Circumnuclear</td><td>0.0</td><td>21.4</td><td>0.387</td><td>0.053</td><td>0.75</td><td>0.103</td><td>2.85</td><td>0.06</td><td>8.84</td><td>0.18</td><td>15.1</td><td>0.3</td><td>19.7</td><td>0.4</td><td>23.0</td><td>0.4</td><td>36.2</td><td>1.8</td><td>37.9</td><td>1.9</td><td>32.7</td><td>1.6</td><td>20.0</td><td>2.7</td><td>13.7</td><td>1.9</td><td>28.8</td><td>3.7</td><td>114.0</td><td>14.0</td><td>98.2</td><td>6.8</td><td>234.0</td><td>9.0</td><td>2950.0</td><td>140.0</td><td>4210.0</td><td>210.0</td><td>3850.0</td><td>190.0</td><td>1560.0</td><td>110.0</td><td>608.0</td><td>43.0</td><td>193.0</td><td>13.0</td><td>1.1140000000000002e-16</td><td>6.7000000000000006e-18</td><td>2.6800000000000002e-17</td><td>3.0000000000000002e-18</td><td>3.2950000000000003e-16</td><td>6.500000000000001e-18</td><td>1.4260000000000001e-16</td><td>7e-18</td><td>1.0740000000000002e-16</td><td>4.900000000000001e-18</td><td>1.118e-16</td><td>3.2000000000000003e-18</td><td>4.5200000000000006e-17</td><td>3.3e-18</td><td>7.658e-16</td><td>8.400000000000002e-18</td></tr>\n",
       "<tr><td>NGC_5866-Nuclear</td><td>NGC_5866</td><td>Nuclear</td><td>0.0</td><td>15.3</td><td>0.0584</td><td>0.0081</td><td>0.375</td><td>0.051</td><td>5.56</td><td>0.12</td><td>25.5</td><td>0.5</td><td>49.3</td><td>0.9</td><td>73.1</td><td>1.4</td><td>88.9</td><td>1.7</td><td>129.0</td><td>6.0</td><td>147.0</td><td>7.0</td><td>125.0</td><td>6.0</td><td>66.2</td><td>8.9</td><td>42.0</td><td>5.7</td><td>31.1</td><td>3.9</td><td>31.4</td><td>3.9</td><td>26.0</td><td>1.8</td><td>21.3</td><td>0.8</td><td>880.0</td><td>44.0</td><td>1800.0</td><td>90.0</td><td>1780.0</td><td>80.0</td><td>757.0</td><td>53.0</td><td>305.0</td><td>21.0</td><td>96.5</td><td>7.2</td><td>1.0800000000000002e-18</td><td>3.3000000000000003e-19</td><td>--</td><td>--</td><td>2.8300000000000003e-18</td><td>4.5e-19</td><td>--</td><td>--</td><td>--</td><td>--</td><td>2.6e-19</td><td>1.9000000000000002e-19</td><td>8.2e-19</td><td>2.4e-19</td><td>1.5900000000000002e-18</td><td>5.300000000000001e-19</td></tr>\n",
       "<tr><td>NGC_5866-Circumnuclear</td><td>NGC_5866</td><td>Circumnuclear</td><td>0.0</td><td>15.3</td><td>0.0584</td><td>0.0081</td><td>0.375</td><td>0.051</td><td>5.56</td><td>0.12</td><td>25.5</td><td>0.5</td><td>49.3</td><td>0.9</td><td>73.1</td><td>1.4</td><td>88.9</td><td>1.7</td><td>129.0</td><td>6.0</td><td>147.0</td><td>7.0</td><td>125.0</td><td>6.0</td><td>66.2</td><td>8.9</td><td>42.0</td><td>5.7</td><td>31.1</td><td>3.9</td><td>31.4</td><td>3.9</td><td>26.0</td><td>1.8</td><td>21.3</td><td>0.8</td><td>880.0</td><td>44.0</td><td>1800.0</td><td>90.0</td><td>1780.0</td><td>80.0</td><td>757.0</td><td>53.0</td><td>305.0</td><td>21.0</td><td>96.5</td><td>7.2</td><td>3.9000000000000005e-17</td><td>1.4e-17</td><td>--</td><td>--</td><td>8.6e-17</td><td>1.4e-17</td><td>2.6000000000000003e-17</td><td>1.3000000000000002e-17</td><td>3e-17</td><td>1.4e-17</td><td>--</td><td>--</td><td>4.51e-17</td><td>8.9e-18</td><td>4.2000000000000005e-17</td><td>1.5e-17</td></tr>\n",
       "<tr><td>NGC_5866-RadialStrip</td><td>NGC_5866</td><td>Radial Strip</td><td>0.0</td><td>15.3</td><td>0.0584</td><td>0.0081</td><td>0.375</td><td>0.051</td><td>5.56</td><td>0.12</td><td>25.5</td><td>0.5</td><td>49.3</td><td>0.9</td><td>73.1</td><td>1.4</td><td>88.9</td><td>1.7</td><td>129.0</td><td>6.0</td><td>147.0</td><td>7.0</td><td>125.0</td><td>6.0</td><td>66.2</td><td>8.9</td><td>42.0</td><td>5.7</td><td>31.1</td><td>3.9</td><td>31.4</td><td>3.9</td><td>26.0</td><td>1.8</td><td>21.3</td><td>0.8</td><td>880.0</td><td>44.0</td><td>1800.0</td><td>90.0</td><td>1780.0</td><td>80.0</td><td>757.0</td><td>53.0</td><td>305.0</td><td>21.0</td><td>96.5</td><td>7.2</td><td>--</td><td>--</td><td>--</td><td>--</td><td>--</td><td>--</td><td>--</td><td>--</td><td>--</td><td>--</td><td>--</td><td>--</td><td>1.35e-16</td><td>4.6e-17</td><td>--</td><td>--</td></tr>\n",
       "<tr><td>NGC_7331-RadialStrip</td><td>NGC_7331</td><td>Radial Strip</td><td>0.0</td><td>14.5</td><td>0.802</td><td>0.111</td><td>1.51</td><td>0.2</td><td>9.05</td><td>0.19</td><td>38.6</td><td>0.7</td><td>81.4</td><td>1.6</td><td>124.0</td><td>2.0</td><td>169.0</td><td>3.0</td><td>264.0</td><td>13.0</td><td>320.0</td><td>16.0</td><td>273.0</td><td>13.0</td><td>158.0</td><td>21.0</td><td>101.0</td><td>13.0</td><td>185.0</td><td>23.0</td><td>401.0</td><td>49.0</td><td>335.0</td><td>23.0</td><td>434.0</td><td>24.0</td><td>6880.0</td><td>340.0</td><td>13500.0</td><td>600.0</td><td>17100.0</td><td>800.0</td><td>8820.0</td><td>620.0</td><td>3850.0</td><td>270.0</td><td>1390.0</td><td>90.0</td><td>3.83e-16</td><td>6.7e-17</td><td>--</td><td>--</td><td>8.780000000000001e-16</td><td>7.3e-17</td><td>8.000000000000001e-16</td><td>2.3000000000000004e-16</td><td>--</td><td>--</td><td>3.8e-16</td><td>4.6e-17</td><td>4.2800000000000005e-16</td><td>5.1e-17</td><td>2.16e-15</td><td>1.0000000000000001e-16</td></tr>\n",
       "<tr><td>NGC_7331-Circumnuclear</td><td>NGC_7331</td><td>Circumnuclear</td><td>0.0</td><td>14.5</td><td>0.802</td><td>0.111</td><td>1.51</td><td>0.2</td><td>9.05</td><td>0.19</td><td>38.6</td><td>0.7</td><td>81.4</td><td>1.6</td><td>124.0</td><td>2.0</td><td>169.0</td><td>3.0</td><td>264.0</td><td>13.0</td><td>320.0</td><td>16.0</td><td>273.0</td><td>13.0</td><td>158.0</td><td>21.0</td><td>101.0</td><td>13.0</td><td>185.0</td><td>23.0</td><td>401.0</td><td>49.0</td><td>335.0</td><td>23.0</td><td>434.0</td><td>24.0</td><td>6880.0</td><td>340.0</td><td>13500.0</td><td>600.0</td><td>17100.0</td><td>800.0</td><td>8820.0</td><td>620.0</td><td>3850.0</td><td>270.0</td><td>1390.0</td><td>90.0</td><td>1.22e-16</td><td>1.2000000000000001e-17</td><td>--</td><td>--</td><td>1.5600000000000002e-16</td><td>2.6000000000000003e-17</td><td>--</td><td>--</td><td>--</td><td>--</td><td>--</td><td>--</td><td>1.2e-16</td><td>1.6e-17</td><td>2.77e-16</td><td>4.8000000000000003e-17</td></tr>\n",
       "<tr><td>NGC_7331-Nuclear</td><td>NGC_7331</td><td>Nuclear</td><td>0.0</td><td>14.5</td><td>0.802</td><td>0.111</td><td>1.51</td><td>0.2</td><td>9.05</td><td>0.19</td><td>38.6</td><td>0.7</td><td>81.4</td><td>1.6</td><td>124.0</td><td>2.0</td><td>169.0</td><td>3.0</td><td>264.0</td><td>13.0</td><td>320.0</td><td>16.0</td><td>273.0</td><td>13.0</td><td>158.0</td><td>21.0</td><td>101.0</td><td>13.0</td><td>185.0</td><td>23.0</td><td>401.0</td><td>49.0</td><td>335.0</td><td>23.0</td><td>434.0</td><td>24.0</td><td>6880.0</td><td>340.0</td><td>13500.0</td><td>600.0</td><td>17100.0</td><td>800.0</td><td>8820.0</td><td>620.0</td><td>3850.0</td><td>270.0</td><td>1390.0</td><td>90.0</td><td>6.900000000000001e-18</td><td>1.6000000000000002e-18</td><td>--</td><td>--</td><td>1.17e-17</td><td>3.3e-18</td><td>--</td><td>--</td><td>--</td><td>--</td><td>--</td><td>--</td><td>1.2400000000000002e-17</td><td>1.9e-18</td><td>1.1900000000000001e-17</td><td>3.8e-18</td></tr>\n",
       "</table></div>"
      ],
      "text/plain": [
       "<Table length=91>\n",
       "          id             name      spectrum   redshift ...  line.OIII-500.7_err        line.H-alpha         line.H-alpha_err   \n",
       "                                                       ...         W / m2                 W / m2                 W / m2        \n",
       "       bytes22          bytes8     bytes13    float64  ...        float64                float64                float64        \n",
       "---------------------- -------- ------------- -------- ... ---------------------- ---------------------- ----------------------\n",
       "                M81dwB   M81dwB            --      0.0 ...                     --                     --                     --\n",
       "      NGC_0337-Nuclear NGC_0337       Nuclear      0.0 ...                1.5e-19               9.69e-18 3.4000000000000007e-19\n",
       "  NGC_0337-RadialStrip NGC_0337  Radial Strip      0.0 ... 1.7000000000000002e-17              3.184e-15 3.4000000000000004e-17\n",
       "NGC_0337-Circumnuclear NGC_0337 Circumnuclear      0.0 ...  4.900000000000001e-18               6.68e-16                1.1e-17\n",
       "      NGC_0628-Nuclear NGC_0628       Nuclear      0.0 ...                     --                     --                     --\n",
       "NGC_0628-Circumnuclear NGC_0628 Circumnuclear      0.0 ...  4.900000000000001e-18  8.140000000000001e-17                8.6e-18\n",
       "  NGC_0628-RadialStrip NGC_0628  Radial Strip      0.0 ...                     --  8.780000000000001e-16  7.500000000000001e-17\n",
       "  NGC_2798-RadialStrip NGC_2798  Radial Strip      0.0 ...  9.000000000000001e-18              1.289e-15 2.6000000000000003e-17\n",
       "NGC_2798-Circumnuclear NGC_2798 Circumnuclear      0.0 ...                4.6e-18 1.2580000000000001e-15                1.6e-17\n",
       "      NGC_2798-Nuclear NGC_2798       Nuclear      0.0 ...                  7e-19 2.1800000000000002e-16                2.4e-18\n",
       "NGC_2841-Circumnuclear NGC_2841 Circumnuclear      0.0 ...                1.5e-17                     --                     --\n",
       "      NGC_2841-Nuclear NGC_2841       Nuclear      0.0 ... 1.3000000000000002e-18               1.59e-17 4.4000000000000005e-18\n",
       "                   ...      ...           ...      ... ...                    ...                    ...                    ...\n",
       "              NGC_5457 NGC_5457            --      0.0 ...                     --                     --                     --\n",
       "  NGC_5474-RadialStrip NGC_5474  Radial Strip      0.0 ... 2.1000000000000002e-17               9.23e-16 3.6000000000000006e-17\n",
       "NGC_5474-Circumnuclear NGC_5474 Circumnuclear      0.0 ...                2.3e-18                2.8e-17  5.200000000000001e-18\n",
       "  NGC_5713-RadialStrip NGC_5713  Radial Strip      0.0 ... 1.2000000000000001e-17              2.852e-15                2.9e-17\n",
       "      NGC_5713-Nuclear NGC_5713       Nuclear      0.0 ... 3.9000000000000004e-19               6.43e-17                  1e-18\n",
       "NGC_5713-Circumnuclear NGC_5713 Circumnuclear      0.0 ...                3.3e-18              7.658e-16  8.400000000000002e-18\n",
       "      NGC_5866-Nuclear NGC_5866       Nuclear      0.0 ...                2.4e-19 1.5900000000000002e-18  5.300000000000001e-19\n",
       "NGC_5866-Circumnuclear NGC_5866 Circumnuclear      0.0 ...                8.9e-18 4.2000000000000005e-17                1.5e-17\n",
       "  NGC_5866-RadialStrip NGC_5866  Radial Strip      0.0 ...                4.6e-17                     --                     --\n",
       "  NGC_7331-RadialStrip NGC_7331  Radial Strip      0.0 ...                5.1e-17               2.16e-15 1.0000000000000001e-16\n",
       "NGC_7331-Circumnuclear NGC_7331 Circumnuclear      0.0 ...                1.6e-17               2.77e-16 4.8000000000000003e-17\n",
       "      NGC_7331-Nuclear NGC_7331       Nuclear      0.0 ...                1.9e-18 1.1900000000000001e-17                3.8e-18"
      ]
     },
     "execution_count": 19,
     "metadata": {},
     "output_type": "execute_result"
    }
   ],
   "source": [
    "KINGFISH"
   ]
  },
  {
   "cell_type": "code",
   "execution_count": null,
   "id": "ceabca09-790b-40fa-a4a4-144ff76da286",
   "metadata": {},
   "outputs": [],
   "source": []
  }
 ],
 "metadata": {
  "kernelspec": {
   "display_name": "pcigale",
   "language": "python",
   "name": "pcigale"
  },
  "language_info": {
   "codemirror_mode": {
    "name": "ipython",
    "version": 3
   },
   "file_extension": ".py",
   "mimetype": "text/x-python",
   "name": "python",
   "nbconvert_exporter": "python",
   "pygments_lexer": "ipython3",
   "version": "3.10.13"
  }
 },
 "nbformat": 4,
 "nbformat_minor": 5
}
