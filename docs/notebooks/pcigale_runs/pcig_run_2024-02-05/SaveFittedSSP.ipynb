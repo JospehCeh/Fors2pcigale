{
 "cells": [
  {
   "cell_type": "markdown",
   "id": "c8aade51-a22a-4778-9157-c94081d7d67f",
   "metadata": {},
   "source": [
    "# Save fitted spectra SSP\n",
    "\n",
    "From fitted parameters it generate the Spectra into an hdf5 format (lile the Fors2-SL Templates)"
   ]
  },
  {
   "cell_type": "markdown",
   "id": "6262461e-89cd-4623-88d6-6ef6cb50e0a1",
   "metadata": {},
   "source": [
    "- Author Sylvie Dagoret-Campagne\n",
    "- Afflilation : IJCLab/IN2P3/CNRS\n",
    "- Organisation : LSST-DESC\n",
    "- creation date : 2023-11-27\n",
    "- \n",
    "- conda environmment on my laptop conda_jaxcpu_dsps_py310\n",
    "- \n",
    "- update : 2023-12-10 : View fitted spectra for run fit of november 27th 2023\n",
    "- last update : 2024-01-06 : View fitted spectra for run fit of January 6th 2024\n",
    "- last update : 2024-01-29 : View fitted spectra for run fit of January 29th 2024"
   ]
  },
  {
   "cell_type": "code",
   "execution_count": null,
   "id": "0549676e-2603-4376-8b68-92b7298af9d7",
   "metadata": {},
   "outputs": [],
   "source": [
    "import h5py\n",
    "import pandas as pd\n",
    "import numpy as np\n",
    "import os\n",
    "import re\n",
    "import pickle \n",
    "import matplotlib as mpl\n",
    "import matplotlib.pyplot as plt\n",
    "%matplotlib inline\n",
    "import matplotlib.colors as colors\n",
    "import matplotlib.cm as cmx\n",
    "import collections\n",
    "from collections import OrderedDict\n",
    "import re\n",
    "import matplotlib.gridspec as gridspec"
   ]
  },
  {
   "cell_type": "code",
   "execution_count": null,
   "id": "b6a415d2-0295-4ac2-9027-90ba99ff42c8",
   "metadata": {},
   "outputs": [],
   "source": [
    "plt.rcParams[\"figure.figsize\"] = (12,6)\n",
    "plt.rcParams[\"axes.labelsize\"] = 'xx-large'\n",
    "plt.rcParams['axes.titlesize'] = 'xx-large'\n",
    "plt.rcParams['xtick.labelsize']= 'xx-large'\n",
    "plt.rcParams['ytick.labelsize']= 'xx-large'\n",
    "plt.rcParams['legend.fontsize']=  16"
   ]
  },
  {
   "cell_type": "markdown",
   "id": "24c6c350-d3b3-421d-bab9-aa2a57e3caac",
   "metadata": {},
   "source": [
    "## imports"
   ]
  },
  {
   "cell_type": "markdown",
   "id": "af213937-9d0e-47dc-a11c-664beb36fb1a",
   "metadata": {},
   "source": [
    "### fitter jaxopt"
   ]
  },
  {
   "cell_type": "code",
   "execution_count": null,
   "id": "b2e6c192-0821-47df-996b-3b4d7088d89b",
   "metadata": {},
   "outputs": [],
   "source": [
    "from fors2tostellarpopsynthesis.fitters.fitter_jaxopt import (SSP_DATA,mean_spectrum,mean_mags,mean_sfr,ssp_spectrum_fromparam)"
   ]
  },
  {
   "cell_type": "code",
   "execution_count": null,
   "id": "93da83cb-6e27-41c1-bb09-3a0a1f6f55b3",
   "metadata": {},
   "outputs": [],
   "source": [
    "from dsps.cosmology import DEFAULT_COSMOLOGY, age_at_z"
   ]
  },
  {
   "cell_type": "markdown",
   "id": "0f63b79d-0541-4fef-a430-43aea4e436ec",
   "metadata": {},
   "source": [
    "### parameters"
   ]
  },
  {
   "cell_type": "code",
   "execution_count": null,
   "id": "d98be78c-8d94-4b76-ab52-405c64e1a991",
   "metadata": {},
   "outputs": [],
   "source": [
    "from fors2tostellarpopsynthesis.parameters import SSPParametersFit,paramslist_to_dict"
   ]
  },
  {
   "cell_type": "markdown",
   "id": "67a576f4-203a-4aa0-8487-e128690505e4",
   "metadata": {},
   "source": [
    "### StarLight"
   ]
  },
  {
   "cell_type": "code",
   "execution_count": null,
   "id": "79a91fd0-4ad8-43fb-8327-5dbc0f919a97",
   "metadata": {},
   "outputs": [],
   "source": [
    "from fors2tostellarpopsynthesis.fors2starlightio import SLDataAcess, flux_norm"
   ]
  },
  {
   "cell_type": "markdown",
   "id": "9ece6107-dcc5-4f42-a80f-0476ad0ef7d5",
   "metadata": {},
   "source": [
    "## Configuration"
   ]
  },
  {
   "cell_type": "markdown",
   "id": "36f72d4d-1cc8-4d78-8de3-34e934c17442",
   "metadata": {},
   "source": [
    "### Constants"
   ]
  },
  {
   "cell_type": "code",
   "execution_count": null,
   "id": "7eded101-ce0f-479d-9edb-4be0bb4ad0db",
   "metadata": {},
   "outputs": [],
   "source": [
    "wl0 = 3646.6"
   ]
  },
  {
   "cell_type": "markdown",
   "id": "7b785a80-86f2-4f4b-8ea4-0c7a8e02d95b",
   "metadata": {},
   "source": [
    "### fitted params"
   ]
  },
  {
   "cell_type": "code",
   "execution_count": null,
   "id": "c52c5baf-f73e-4957-842d-ad70287f9cce",
   "metadata": {},
   "outputs": [],
   "source": [
    "# current date\n",
    "#date = \"2024-01-06\"\n",
    "date = \"2024-01-28\"\n",
    "# previous date\n",
    "#date = \"2023-11-27\"\n",
    "suptitle = f\"SED-DSPS-fit ({date})\""
   ]
  },
  {
   "cell_type": "code",
   "execution_count": null,
   "id": "c7675917-f608-4d82-9f73-6a3467c3c94d",
   "metadata": {},
   "outputs": [],
   "source": [
    "input_path = \"fitssp_results\"\n",
    "input_file = f\"fitssp_results_{date}.h5\""
   ]
  },
  {
   "cell_type": "code",
   "execution_count": null,
   "id": "0c85c38a-c9dc-430a-9634-6bf533b587d9",
   "metadata": {},
   "outputs": [],
   "source": [
    "fullname_input = os.path.join(input_path ,input_file) "
   ]
  },
  {
   "cell_type": "markdown",
   "id": "92610cca-994f-4c31-b8f6-39fc890561aa",
   "metadata": {},
   "source": [
    "### Functions"
   ]
  },
  {
   "cell_type": "code",
   "execution_count": null,
   "id": "6e452975-de94-4ed1-9878-22f12577df52",
   "metadata": {},
   "outputs": [],
   "source": [
    "def bluefraction(x,y,wlcut=wl0):\n",
    "\n",
    "    indexes_blue = np.where(x<wlcut)[0]\n",
    "    indexes_red =np.where(x>wlcut)[0]\n",
    "\n",
    "    integ_blue = np.trapz(y[indexes_blue],x[indexes_blue])\n",
    "    integ_red = np.trapz(y[indexes_red],x[indexes_red])\n",
    "\n",
    "    fraction_blue = integ_blue /(integ_blue+integ_red)\n",
    "    fraction_red= integ_red /(integ_blue+integ_red)\n",
    "\n",
    "    return fraction_blue"
   ]
  },
  {
   "cell_type": "markdown",
   "id": "4d81d428-6a35-43bf-b692-2bd88b84171d",
   "metadata": {},
   "source": [
    "## Read Dataframe "
   ]
  },
  {
   "cell_type": "code",
   "execution_count": null,
   "id": "7aa6dd0c-0391-48df-8e55-ecb18a520f4e",
   "metadata": {},
   "outputs": [],
   "source": [
    "df = pd.read_hdf(fullname_input)"
   ]
  },
  {
   "cell_type": "code",
   "execution_count": null,
   "id": "28d1369f-d9b2-45c4-9a9f-d555953eeca9",
   "metadata": {},
   "outputs": [],
   "source": [
    "NF = len(df)"
   ]
  },
  {
   "cell_type": "markdown",
   "id": "8c3efb08-d16e-4c36-9ab7-1c1dd3bed9f2",
   "metadata": {},
   "source": [
    "## Decode fitted parameters and plot the corresponding spectra"
   ]
  },
  {
   "cell_type": "code",
   "execution_count": null,
   "id": "315719ab-d660-488b-9c70-b493f0499589",
   "metadata": {},
   "outputs": [],
   "source": [
    "names_fitparams = list(df.columns[8:])"
   ]
  },
  {
   "cell_type": "code",
   "execution_count": null,
   "id": "2b3d14ee-5dd3-48c2-a516-91bb3813c205",
   "metadata": {},
   "outputs": [],
   "source": [
    "all_x = []\n",
    "all_fnu_nodust = []\n",
    "all_fnu_dust = []\n",
    "\n",
    "all_fl_nodust = []\n",
    "all_fl_dust = []\n",
    "\n",
    "\n",
    "all_fractions = []\n",
    "\n",
    "\n",
    "for idx in range(NF):\n",
    "\n",
    "    row = df.iloc[idx]\n",
    "    z_obs = row[\"zobs\"]\n",
    "    specname = row[\"fors2name\"]\n",
    "    list_params = row[names_fitparams].values\n",
    "    dict_params = paramslist_to_dict(list_params,names_fitparams)\n",
    "    x,fnu_nodust,fnu_dust = ssp_spectrum_fromparam(dict_params,z_obs)\n",
    "\n",
    "    norm_y_nodust = flux_norm(x,fnu_nodust)\n",
    "    norm_y_dust = flux_norm(x,fnu_dust)\n",
    "\n",
    "    fnu_nodust /=  norm_y_nodust\n",
    "    fnu_dust /=  norm_y_dust\n",
    " \n",
    "    fract_blue = bluefraction(x,fnu_nodust)\n",
    "\n",
    "    fl_nodust =  fnu_nodust/x**2\n",
    "    fl_dust =  fnu_dust/x**2\n",
    "\n",
    "    norm_y_nodust = flux_norm(x,fl_nodust)\n",
    "    norm_y_dust = flux_norm(x,fl_dust)\n",
    "\n",
    "    fl_nodust /=  norm_y_nodust\n",
    "    fl_dust /=  norm_y_dust\n",
    "    \n",
    "    all_x.append(x)\n",
    "    all_fnu_nodust.append(fnu_nodust) \n",
    "    all_fnu_dust.append(fnu_dust) \n",
    "    all_fractions.append(fract_blue)\n",
    "\n",
    "    all_fl_nodust.append(fl_nodust) \n",
    "    all_fl_dust.append(fl_dust) \n",
    "\n",
    "    \n",
    "\n",
    "all_fractions = np.array(all_fractions)\n"
   ]
  },
  {
   "cell_type": "markdown",
   "id": "1506be66-b812-4b0c-9e8f-19fac5e5bba7",
   "metadata": {},
   "source": [
    "## Check the spectra by plotting"
   ]
  },
  {
   "cell_type": "code",
   "execution_count": null,
   "id": "b3353dda-c0dd-4598-b3b8-696f88733511",
   "metadata": {},
   "outputs": [],
   "source": [
    "bwr_map = plt.get_cmap('bwr')\n",
    "reversed_map = bwr_map.reversed() \n",
    "cNorm = colors.Normalize(vmin=np.log10(all_fractions).min(), vmax=np.log10(all_fractions).max())\n",
    "scalarMap = cmx.ScalarMappable(norm=cNorm, cmap=reversed_map)\n",
    "all_colors = scalarMap.to_rgba(np.log10(all_fractions), alpha=1)"
   ]
  },
  {
   "cell_type": "code",
   "execution_count": null,
   "id": "d65757c2-7119-472d-a180-5cfaabd0de36",
   "metadata": {},
   "outputs": [],
   "source": [
    "_, ax1 = plt.subplots(1, 1,figsize=(10,6))\n",
    "\n",
    "\n",
    "__= ax1.set_yscale('log') \n",
    "__= ax1.set_xscale('log') \n",
    "\n",
    "for idx in range(NF):\n",
    "    ax1.plot(all_x[idx],all_fnu_nodust[idx],'-',color=all_colors[idx])\n",
    "\n",
    "   \n",
    "__= ax1.set_xlim(100.,1e6)\n",
    "__= ax1.set_ylim(1e-7,100)\n",
    "\n",
    "ax1.set_xlabel(\"$\\lambda (\\\\AA)$\")\n",
    "ax1.set_ylabel(\"$L_\\\\nu(\\lambda)$ relative flux\")\n",
    "ax1.set_title(\"$f_\\\\nu(\\lambda)$ Fitted spectra\")\n",
    "ax1.grid()\n",
    "ax1.axvline(wl0,color=\"k\")\n",
    "\n",
    "plt.suptitle(suptitle)"
   ]
  },
  {
   "cell_type": "code",
   "execution_count": null,
   "id": "a900080a-fd2f-4563-a33b-61ea1fb1265a",
   "metadata": {},
   "outputs": [],
   "source": [
    "_, ax1 = plt.subplots(1, 1,figsize=(10,6))\n",
    "__= ax1.set_yscale('log') \n",
    "__= ax1.set_xscale('log') \n",
    "\n",
    "for idx in range(NF):\n",
    "    ax1.plot(all_x[idx],all_fl_nodust[idx],color=all_colors[idx])\n",
    "__= ax1.set_xlim(100.,1e5)\n",
    "__= ax1.set_ylim(1e-5,100)\n",
    "\n",
    "ax1.axvline(wl0,color=\"k\")\n",
    "ax1.set_xlabel(\"$\\lambda (\\\\AA)$\")\n",
    "ax1.set_ylabel(\"$L_\\\\lambda(\\lambda)$ relative flux\")\n",
    "ax1.set_title(\"$f_\\\\lambda(\\lambda)$ Fitted spectra\")\n",
    "ax1.grid()\n",
    "plt.suptitle(suptitle)\n"
   ]
  },
  {
   "cell_type": "markdown",
   "id": "2c5c0149-dea4-48ee-91bf-9c1e378a51de",
   "metadata": {},
   "source": [
    "## Create the HDF5  Spectrum structure and save the corresponding file"
   ]
  },
  {
   "cell_type": "code",
   "execution_count": null,
   "id": "70bfc0f6-b3d1-4d17-aaab-df188d633e27",
   "metadata": {},
   "outputs": [],
   "source": [
    "output_file_h5  = f\"FittedSSPspectra_{date}.hdf5\"\n",
    "hf_outfile =  h5py.File(output_file_h5, 'w') "
   ]
  },
  {
   "cell_type": "code",
   "execution_count": null,
   "id": "06878b30-7634-4e72-a20b-2915493d0fa4",
   "metadata": {},
   "outputs": [],
   "source": [
    "list_params_names = list(df.columns)\n",
    "NP = len(list_params_names)"
   ]
  },
  {
   "cell_type": "code",
   "execution_count": null,
   "id": "78c7f58b-7931-4ece-ba7a-d418ff552a55",
   "metadata": {},
   "outputs": [],
   "source": [
    "for idx in range(NF):\n",
    "    row = df.iloc[idx]\n",
    "    z_obs = row[\"zobs\"]\n",
    "    specname = row[\"fors2name\"]\n",
    "    list_params_values = row.values\n",
    "   \n",
    "    # create the group\n",
    "    h5group = hf_outfile.create_group(specname)\n",
    "\n",
    "    # loop on parameters\n",
    "    for ip in range(NP):\n",
    "        attr_name = list_params_names[ip]\n",
    "        attr_val = list_params_values[ip]\n",
    "        h5group.attrs[attr_name] = attr_val \n",
    "        \n",
    "    d = h5group.create_dataset(\"wl\",data=all_x[idx],compression=\"gzip\", compression_opts=9)\n",
    "    d = h5group.create_dataset(\"fl\",data=all_fl_nodust[idx],compression=\"gzip\", compression_opts=9)\n",
    "    d = h5group.create_dataset(\"fnu\",data=all_fnu_nodust[idx],compression=\"gzip\", compression_opts=9)"
   ]
  },
  {
   "cell_type": "code",
   "execution_count": null,
   "id": "19d5ecea-83d4-4c5b-b216-5bbe9dc93fed",
   "metadata": {},
   "outputs": [],
   "source": [
    "#hf_outfile.keys()"
   ]
  },
  {
   "cell_type": "code",
   "execution_count": null,
   "id": "589e8463-d5bc-4382-b12f-13b659366bc3",
   "metadata": {},
   "outputs": [],
   "source": [
    "hf_outfile.close() "
   ]
  },
  {
   "cell_type": "markdown",
   "id": "d6804053-6109-4c7b-877d-765847bd14a2",
   "metadata": {},
   "source": [
    "## Read again the written file to check"
   ]
  },
  {
   "cell_type": "code",
   "execution_count": null,
   "id": "987cdb91-06bb-409e-a98a-d80953e56b74",
   "metadata": {},
   "outputs": [],
   "source": [
    "input_file_h5  = output_file_h5 "
   ]
  },
  {
   "cell_type": "code",
   "execution_count": null,
   "id": "459b0f1f-5e95-4b5c-8ac7-938820ac8c9d",
   "metadata": {},
   "outputs": [],
   "source": [
    "if os.path.isfile(input_file_h5):\n",
    "    hf = h5py.File(input_file_h5, 'r')\n",
    "    list_of_groupkeys = list(hf.keys())\n",
    "    # pick one key\n",
    "    key_sel =  list_of_groupkeys[0]\n",
    "    # pick one group\n",
    "    group = hf.get(key_sel)\n",
    "    #pickup all attribute names\n",
    "    list_of_subgroup_keys = []\n",
    "    for k in group.attrs.keys():\n",
    "        list_of_subgroup_keys.append(k)\n",
    "else:\n",
    "    hf = None\n",
    "    list_of_groupkeys = []\n",
    "    list_of_subgroup_keys = []"
   ]
  },
  {
   "cell_type": "code",
   "execution_count": null,
   "id": "c6cf8b02-3971-4b9b-839c-4589ba8ce391",
   "metadata": {},
   "outputs": [],
   "source": [
    "print(list_of_groupkeys[:10])"
   ]
  },
  {
   "cell_type": "code",
   "execution_count": null,
   "id": "c3ed4d80-8c36-47f3-9494-99770da21d53",
   "metadata": {},
   "outputs": [],
   "source": [
    "list_of_subgroup_keys"
   ]
  },
  {
   "cell_type": "code",
   "execution_count": null,
   "id": "2cbe5e39-a65d-439a-9c18-e4ba3fb13614",
   "metadata": {},
   "outputs": [],
   "source": [
    "groupname = list_of_groupkeys[0]"
   ]
  },
  {
   "cell_type": "code",
   "execution_count": null,
   "id": "61ab73de-4b5f-4ff3-ab2b-a4f4704bcc22",
   "metadata": {},
   "outputs": [],
   "source": [
    "attr_dict = OrderedDict()\n",
    "if groupname in list_of_groupkeys:\n",
    "    group = hf.get(groupname)\n",
    "    for nameval in list_of_subgroup_keys:\n",
    "        attr_dict[nameval] = group.attrs[nameval]"
   ]
  },
  {
   "cell_type": "code",
   "execution_count": null,
   "id": "60b4eb74-36f6-47bd-9aaa-bd5852aa4c3b",
   "metadata": {},
   "outputs": [],
   "source": [
    "attr_dict"
   ]
  },
  {
   "cell_type": "code",
   "execution_count": null,
   "id": "9f191bb5-f452-465d-ae54-6861bdf37351",
   "metadata": {},
   "outputs": [],
   "source": [
    "group = hf.get(groupname)\n",
    "wl = np.array(group.get(\"wl\"))\n",
    "fl = np.array(group.get(\"fl\"))"
   ]
  },
  {
   "cell_type": "code",
   "execution_count": null,
   "id": "8f7c2569-56d9-47d2-a0fa-545d849f3d86",
   "metadata": {},
   "outputs": [],
   "source": [
    "_, ax = plt.subplots(1, 1,figsize=(10,4))\n",
    "__= ax.set_yscale('log') \n",
    "__= ax.set_xscale('log') \n",
    "ax.plot(wl,fl,'b-')\n",
    "__= ax.set_xlim(100.,1e5)\n",
    "__= ax.set_ylim(1e-5,100)\n"
   ]
  },
  {
   "cell_type": "code",
   "execution_count": null,
   "id": "1e60da65-f58c-4cb7-8750-463c86dc7d69",
   "metadata": {},
   "outputs": [],
   "source": []
  }
 ],
 "metadata": {
  "kernelspec": {
   "display_name": "conda_jaxcpu_dsps_py310",
   "language": "python",
   "name": "conda_jaxcpu_dsps_py310"
  },
  "language_info": {
   "codemirror_mode": {
    "name": "ipython",
    "version": 3
   },
   "file_extension": ".py",
   "mimetype": "text/x-python",
   "name": "python",
   "nbconvert_exporter": "python",
   "pygments_lexer": "ipython3",
   "version": "3.10.13"
  }
 },
 "nbformat": 4,
 "nbformat_minor": 5
}
