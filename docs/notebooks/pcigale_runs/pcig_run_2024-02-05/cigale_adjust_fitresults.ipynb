{
 "cells": [
  {
   "cell_type": "markdown",
   "id": "838a1412-e02a-4aab-a725-76b5e725deb3",
   "metadata": {},
   "source": [
    "# View pcigale fit result\n",
    "\n",
    "\n",
    "- author : Sylvie Dagoret-Campagne\n",
    "- affiliation : IJCLab/IN2P3/CNRS\n",
    "- creation date : 2024-02-06\n",
    "- uddate : 2024-02-06\n",
    "\n",
    "Find pcigale here https://cigale.lam.fr\n",
    "\n",
    "\n",
    "\n",
    "- adaptation : Sylvie Dagoret-Campagne from  https://cigale.lam.fr\n"
   ]
  },
  {
   "cell_type": "code",
   "execution_count": null,
   "id": "2492c7f9-8f15-42e6-be38-41b68225132e",
   "metadata": {},
   "outputs": [],
   "source": [
    "#%pylab widget\n",
    "#import matplotlib.pyplot as plt\n",
    "#matplotlib.rcParams['figure.figsize'] = [9.,6.]"
   ]
  },
  {
   "cell_type": "code",
   "execution_count": null,
   "id": "5cb99cca-6955-4889-9854-30599d0b0847",
   "metadata": {
    "tags": []
   },
   "outputs": [],
   "source": [
    "#%pylab widget\n",
    "import matplotlib.pyplot as plt\n",
    "%matplotlib inline\n",
    "plt.rcParams['figure.figsize'] = [9.,6.]"
   ]
  },
  {
   "cell_type": "code",
   "execution_count": null,
   "id": "1b86c510-4ca6-4964-857e-f27f322f358e",
   "metadata": {},
   "outputs": [],
   "source": [
    "import numpy as np\n",
    "\n",
    "from IPython.display import display\n",
    "from ipywidgets import widgets\n",
    "from matplotlib import pyplot as plt\n",
    "\n",
    "from astropy.table import Table\n",
    "from astropy.io import fits\n",
    "\n",
    "from pcigale import sed\n",
    "from pcigale import sed_modules as modules\n",
    "from pcigale.warehouse import SedWarehouse\n",
    "from pcigale.data import SimpleDatabase\n",
    "import os,re"
   ]
  },
  {
   "cell_type": "code",
   "execution_count": null,
   "id": "de3be944-f5ff-4525-9188-0f805396dddd",
   "metadata": {},
   "outputs": [],
   "source": [
    "path = \"20240205_181701_out\""
   ]
  },
  {
   "cell_type": "code",
   "execution_count": null,
   "id": "b48042b3-3cfa-4e80-a6a5-c0121beb52e3",
   "metadata": {},
   "outputs": [],
   "source": [
    "def get_fitresults_dict(the_path):\n",
    "    \"\"\"\n",
    "    paramters:\n",
    "     - path : path where pcigale write results\n",
    "    \"\"\"\n",
    "    all_files_runpcigale = sorted(os.listdir(the_path))\n",
    "    spec_dict = {}\n",
    "    for idx,filename in enumerate(all_files_runpcigale):\n",
    "\n",
    "        # skip all file that are not ended by fits\n",
    "        if not re.search('.*[.]fits$',filename):\n",
    "            continue\n",
    "\n",
    "        # 1) decode the spec number\n",
    "        str_spec_found = re.findall('(^SPEC.+?)_.*', filename)\n",
    "        #print(\"\\t\", idx,\" \",filename,\" \", str_spec_found)\n",
    "        if len( str_spec_found) == 0:\n",
    "            print(f\"Skip filename {filename}\")\n",
    "            continue\n",
    "        str_spec_found = str_spec_found[0]\n",
    "  \n",
    "\n",
    "        if str_spec_found in spec_dict.keys():\n",
    "            #print(\"Found in dict \", spec_dict[str_spec_found])\n",
    "            pass\n",
    "        else:\n",
    "            #print(f\" ! {str_spec_found} NOT found in dict \")\n",
    "            spec_dict[str_spec_found] = {\"best_model\": None,\"SFH\":None}\n",
    "\n",
    "        d = spec_dict[str_spec_found]\n",
    "    \n",
    "        # 2) decode thefilename\n",
    "        str_file_found = re.findall('^SPEC.+_(.*)[.]fits$', filename)[0]\n",
    "        #print(idx,filename,str_file_found)\n",
    "\n",
    "        if str_file_found == \"SFH\":\n",
    "            d[\"SFH\"] = filename\n",
    "        elif str_file_found == \"model\":\n",
    "            d[\"best_model\"] = filename\n",
    "\n",
    "        spec_dict[str_spec_found] = d\n",
    "        \n",
    "    return spec_dict\n",
    "               \n",
    "    "
   ]
  },
  {
   "cell_type": "markdown",
   "id": "0daed278-2ce5-467a-bc78-a68de577ec98",
   "metadata": {},
   "source": [
    "## Input"
   ]
  },
  {
   "cell_type": "markdown",
   "id": "5a5dd10d-0afb-4779-83d4-a0670b2a155b",
   "metadata": {},
   "source": [
    "### Dictionary of file"
   ]
  },
  {
   "cell_type": "code",
   "execution_count": null,
   "id": "16132a5b-a4a0-42be-9d43-21576a508168",
   "metadata": {},
   "outputs": [],
   "source": [
    "spec_dict = get_fitresults_dict(path)"
   ]
  },
  {
   "cell_type": "markdown",
   "id": "5e4699b3-3833-4fea-806f-d1fcf5d5dba1",
   "metadata": {},
   "source": [
    "### Select spectrum"
   ]
  },
  {
   "cell_type": "code",
   "execution_count": null,
   "id": "04d42963-a549-42b1-9ed8-9a354a03e22b",
   "metadata": {},
   "outputs": [],
   "source": [
    "index = 10\n",
    "spec_name = list(spec_dict.keys())[index]\n",
    "spec_name"
   ]
  },
  {
   "cell_type": "code",
   "execution_count": null,
   "id": "ef709c42-acf1-4115-8602-df913b880b3b",
   "metadata": {},
   "outputs": [],
   "source": [
    "spec_dict[spec_name]"
   ]
  },
  {
   "cell_type": "code",
   "execution_count": null,
   "id": "d9f55828-d2d8-47ed-924e-168bdfb37f4f",
   "metadata": {},
   "outputs": [],
   "source": [
    "file_best_model = os.path.join(path,spec_dict[spec_name]['best_model'])\n",
    "file_sfh = os.path.join(path,spec_dict[spec_name]['SFH'])"
   ]
  },
  {
   "cell_type": "code",
   "execution_count": null,
   "id": "d216494d-92f0-40dd-9adc-f025f19d3f3a",
   "metadata": {},
   "outputs": [],
   "source": [
    "t_best = Table.read(file_best_model)\n",
    "t_sfh = Table.read(file_sfh)"
   ]
  },
  {
   "cell_type": "code",
   "execution_count": null,
   "id": "d4403b46-044f-4f7b-8eca-a2ab17b25c9c",
   "metadata": {},
   "outputs": [],
   "source": [
    "t_best[:5]"
   ]
  },
  {
   "cell_type": "markdown",
   "id": "b9f2fee9-5209-4d05-bc9c-8c95c3d47944",
   "metadata": {},
   "source": [
    "## Read all results"
   ]
  },
  {
   "cell_type": "code",
   "execution_count": null,
   "id": "43cdf00f-35cb-43ff-b39a-f6f47db87a78",
   "metadata": {},
   "outputs": [],
   "source": [
    "t_res = Table.read(os.path.join(path,'results.fits'))"
   ]
  },
  {
   "cell_type": "code",
   "execution_count": null,
   "id": "e83488b8-0c58-41d1-9102-629f0ceec78b",
   "metadata": {},
   "outputs": [],
   "source": [
    "t_res[:4]"
   ]
  },
  {
   "cell_type": "markdown",
   "id": "0b4691a9-29e7-45e6-94dd-fc72ed2a0bc8",
   "metadata": {},
   "source": [
    "### Selection "
   ]
  },
  {
   "cell_type": "code",
   "execution_count": null,
   "id": "04627715-6b54-4942-87fb-7dc0297f54be",
   "metadata": {},
   "outputs": [],
   "source": [
    "cut_select = t_res[\"id\"] == spec_name"
   ]
  },
  {
   "cell_type": "code",
   "execution_count": null,
   "id": "9663620b-a222-4000-875c-138a11d3dcd5",
   "metadata": {},
   "outputs": [],
   "source": [
    "t_res_sel = t_res[cut_select]\n",
    "t_res_sel"
   ]
  },
  {
   "cell_type": "code",
   "execution_count": null,
   "id": "50ec557c-658d-4d03-a617-b247bb7808d3",
   "metadata": {},
   "outputs": [],
   "source": [
    "t_res_sel[\"best.reduced_chi_square\"][0]"
   ]
  },
  {
   "cell_type": "markdown",
   "id": "c50d41ab-64d8-4b1e-92b0-c8ff665eb3be",
   "metadata": {},
   "source": [
    "### Read data"
   ]
  },
  {
   "cell_type": "code",
   "execution_count": null,
   "id": "962f6372-6fe5-4992-8579-df9238250a51",
   "metadata": {},
   "outputs": [],
   "source": [
    "file_data = os.path.join(path,\"observations.fits\")\n",
    "FORS2= Table.read(file_data)\n",
    "FORS2.add_index('id')"
   ]
  },
  {
   "cell_type": "code",
   "execution_count": null,
   "id": "0a9bdfaa-6303-40b4-9450-aa39c799a54d",
   "metadata": {},
   "outputs": [],
   "source": [
    "FORS2[:4]"
   ]
  },
  {
   "cell_type": "markdown",
   "id": "ac4d2097-d181-4304-9aca-97760d1f4b1d",
   "metadata": {},
   "source": [
    "### Select"
   ]
  },
  {
   "cell_type": "code",
   "execution_count": null,
   "id": "f3dd1070-6b4d-4aa9-be6f-f1f39f6b7d2c",
   "metadata": {},
   "outputs": [],
   "source": [
    "cut_fors2select = FORS2[\"id\"] == spec_name"
   ]
  },
  {
   "cell_type": "code",
   "execution_count": null,
   "id": "66cec3e2-840c-4d4e-9885-43e64ac25103",
   "metadata": {},
   "outputs": [],
   "source": [
    "FORS2_sel = FORS2[cut_fors2select]"
   ]
  },
  {
   "cell_type": "code",
   "execution_count": null,
   "id": "1a30fc4c-b8ff-42f8-9811-6c6cf8a2c7f3",
   "metadata": {},
   "outputs": [],
   "source": [
    "FORS2_sel"
   ]
  },
  {
   "cell_type": "markdown",
   "id": "83a79d80-68c8-4118-8769-da3a9e3a3b69",
   "metadata": {},
   "source": [
    "### Filters"
   ]
  },
  {
   "cell_type": "code",
   "execution_count": null,
   "id": "ebbccf72-1485-41c9-b656-494e213511e4",
   "metadata": {},
   "outputs": [],
   "source": [
    "BANDS = [\n",
    "    col for col in FORS2.colnames if not col.endswith(\"_err\") \n",
    "    and not col.startswith(\"line\") \n",
    "    and not col in [\"id\", \"redshift\", \"distance\"]\n",
    "]\n",
    "\n",
    "#with Database() as d:\n",
    "#    BANDS_WAVE = np.array([d.get_filter(name).pivot_wavelength for name in BANDS])\n",
    "\n",
    "\n",
    "with SimpleDatabase('filters') as d:\n",
    "    #BANDS_WAVE = np.array([d.get(name).pivot_wavelength for name in BANDS])\n",
    "    BANDS_WAVE = np.array([d.get(name=name).pivot for name in BANDS])\n",
    "    "
   ]
  },
  {
   "cell_type": "code",
   "execution_count": null,
   "id": "211f3e37-3c07-498d-b714-65d3db8cd635",
   "metadata": {},
   "outputs": [],
   "source": [
    "#list_of_columns = list(t_res_sel.columns)\n",
    "#for idx,col in enumerate(list_of_columns):\n",
    "#    print(idx,col)"
   ]
  },
  {
   "cell_type": "code",
   "execution_count": null,
   "id": "ef671fb6-38ab-43b6-9118-59fabbb6077f",
   "metadata": {},
   "outputs": [],
   "source": [
    "# Initial values of the SED parameters\n",
    "SED_PARAMETERS = {\n",
    "    'sfhdelayed': {\n",
    "        'tau_main': t_res_sel[\"best.sfh.tau_main\"][0],\n",
    "        'age_main': t_res_sel[\"best.sfh.age_main\"][0],\n",
    "        'tau_burst': t_res_sel[\"best.sfh.tau_burst\"][0],\n",
    "        'age_burst': t_res_sel[\"best.sfh.age_burst\"][0],\n",
    "        'f_burst': t_res_sel[\"best.sfh.f_burst\"][0],\n",
    "        },\n",
    "    'bc03': {\n",
    "        'imf': t_res_sel[\"best.stellar.imf\"][0],\n",
    "        'metallicity': t_res_sel[\"best.stellar.metallicity\"][0],\n",
    "    },\n",
    "    'nebular': {\n",
    "        'logU': t_res_sel[\"best.nebular.logU\"][0],\n",
    "        'f_esc': t_res_sel[\"best.nebular.f_esc\"][0],\n",
    "        'f_dust': t_res_sel[\"best.nebular.f_dust\"][0],\n",
    "        'emission': True,\n",
    "    },\n",
    "    'dustatt_modified_starburst': {\n",
    "        'E_BV_lines': t_res_sel[\"best.attenuation.E_BV_lines\"][0],\n",
    "        'E_BV_factor': t_res_sel[\"best.attenuation.E_BV_factor\"][0],\n",
    "        'uv_bump_wavelength': t_res_sel[\"best.attenuation.uv_bump_wavelength\"][0],\n",
    "        'uv_bump_width': t_res_sel[\"best.attenuation.uv_bump_width\"][0],\n",
    "        'uv_bump_amplitude': t_res_sel[\"best.attenuation.uv_bump_amplitude\"][0],\n",
    "        'powerlaw_slope': t_res_sel[\"best.attenuation.powerlaw_slope\"][0],\n",
    "        'Ext_law_emission_lines': 1,\n",
    "        'Rv': 3.1,\n",
    "    },\n",
    "    'dl2014': {\n",
    "        'qpah': 2.50,\n",
    "        'umin': 1.5,\n",
    "        'alpha': 2.0,\n",
    "        'gamma': 0.02,\n",
    "    },\n",
    "    'redshifting': {\n",
    "        'redshift': t_res_sel[\"best.universe.redshift\"][0],\n",
    "    }\n",
    "}"
   ]
  },
  {
   "cell_type": "code",
   "execution_count": null,
   "id": "d2c2316e-b30c-450d-9155-c05d8df9520d",
   "metadata": {},
   "outputs": [],
   "source": [
    "WAREHOUSE = SedWarehouse()\n",
    "\n",
    "def plot_sed(name, log_adjust_factor, tau_main, age_main, tau_burst, age_burst, f_burst, metallicity, logU,\n",
    "             f_esc, f_dust, E_BV_lines, E_BV_factor, uv_bump_width, uv_bump_amplitude, powerlaw_slope, Rv, qpah, \n",
    "             umin, alpha, gamma, redshift, l_range):\n",
    "\n",
    "    chi2_red = t_res_sel[\"best.reduced_chi_square\"][0]\n",
    "    redshift = t_res_sel[\"best.universe.redshift\"][0]\t\n",
    "    \n",
    "    plt.figure(\"Interactive_SED\", figsize=(9, 7))\n",
    "    sed = WAREHOUSE.get_sed(\n",
    "        module_list = ['sfhdelayed', 'bc03', 'nebular', 'dustatt_modified_starburst', 'dl2014', 'redshifting'],\n",
    "        parameter_list= [\n",
    "            {\n",
    "                'tau_main': tau_main,\n",
    "                'age_main': age_main,\n",
    "                'tau_burst': tau_burst,\n",
    "                'age_burst': age_burst,\n",
    "                'f_burst': f_burst,\n",
    "            },{\n",
    "                'imf': 0,\n",
    "                'metallicity': metallicity,\n",
    "            },{\n",
    "                'logU': logU,\n",
    "                'f_esc': f_esc,\n",
    "                'f_dust': f_dust,\n",
    "                'emission': True,\n",
    "            },{\n",
    "                'E_BV_lines': E_BV_lines,\n",
    "                'E_BV_factor': E_BV_factor,\n",
    "                'uv_bump_wavelength': 217.5,\n",
    "                'uv_bump_width': uv_bump_width,\n",
    "                'uv_bump_amplitude': uv_bump_amplitude,\n",
    "                'powerlaw_slope': powerlaw_slope,\n",
    "                'Ext_law_emission_lines': 1,\n",
    "                'Rv': Rv,\n",
    "            },{\n",
    "                'qpah': qpah,\n",
    "                'umin': umin,\n",
    "                'alpha': alpha,\n",
    "                'gamma': gamma,\n",
    "            }, {\n",
    "                'redshift': redshift,\n",
    "            }\n",
    "        ]\n",
    "    )\n",
    "    \n",
    "    adjust_factor = 10**log_adjust_factor\n",
    "\n",
    "    # the model\n",
    "    band_sed_fluxes = np.array([adjust_factor * sed.compute_fnu(band) for band in BANDS])\n",
    "\n",
    "    # the data\n",
    "    band_gal_fluxes = np.array([FORS2.loc[name][band] for band in BANDS])\n",
    "    band_gal_err = [FORS2.loc[name][f\"{band}_err\"] for band in BANDS]\n",
    "    \n",
    "    x_lims = (10**l_range[0], 10**l_range[1])\n",
    "    plt.clf()\n",
    "    plt.grid()\n",
    "    plt.loglog(sed.wavelength_grid, adjust_factor * sed.fnu ,'b-' ,label=\"SED\")\n",
    "    plt.scatter(BANDS_WAVE, band_sed_fluxes, color=\"r\",label=\"SED band fluxes\")\n",
    "    plt.errorbar(BANDS_WAVE, band_gal_fluxes, yerr=band_gal_err, fmt='o',color=\"k\" ,label=f\"{name} fluxes, chi2_red = {chi2_red:.3f}\")\n",
    "    plt.xlim(x_lims)\n",
    "    # Recompute the y limits\n",
    "    \n",
    "    mask_sed = (sed.wavelength_grid >= x_lims[0]) & (sed.wavelength_grid <= x_lims[1])\n",
    "    mask_bands = (BANDS_WAVE >= x_lims[0]) & (BANDS_WAVE <= x_lims[1])\n",
    "\n",
    "    y1 = np.min(adjust_factor * sed.fnu[mask_sed])\n",
    "    y2 = np.min(band_sed_fluxes[mask_bands])\n",
    "\n",
    "    # handle flux not Nan\n",
    "    data_fluxes = band_gal_fluxes[mask_bands]\n",
    "    data_fluxes = data_fluxes[~np.isnan(data_fluxes)]\n",
    "    y3 = np.min(data_fluxes)\n",
    "\n",
    "    y4 = np.max(adjust_factor * sed.fnu[mask_sed])\n",
    "    y5 = np.max(band_sed_fluxes[mask_bands])\n",
    "    y6 = np.max(data_fluxes)\n",
    "\n",
    "  \n",
    "    y_min = 0.9 * np.min([y1,y2,y3])\n",
    "    if y_min <= 0:\n",
    "        y_min = 1e-40  # log axis\n",
    "    y_max = 1.1 * np.max([y4,y5,y6])\n",
    "\n",
    "    \n",
    "    plt.ylim((y_min, y_max))\n",
    "    plt.legend(loc=0)\n",
    "    plt.ylabel (\"Flux [Jy]\")\n",
    "    plt.xlabel(\"Wavelength [nm]\")\n",
    "    plt.tight_layout()\n",
    "    plt.title(f\"Fors2 Spectrum {name} , z = {redshift:.3f}, in pcigale run {path}\")\n",
    "    _ = plt.show()"
   ]
  },
  {
   "cell_type": "code",
   "execution_count": null,
   "id": "03e138a0-694a-4988-be9e-6814bb62ac6a",
   "metadata": {},
   "outputs": [],
   "source": [
    "plt.close(\"Interactive_SED\")  # needed to rerun the cell\n",
    "\n",
    "name = widgets.Dropdown(value=FORS2_sel['id'][0], \n",
    "                        options=list(FORS2_sel['id']))\n",
    "\n",
    "log_adjust_factor = widgets.FloatSlider(11, min=0, max=16, step=0.1)\n",
    "\n",
    "tau_main = widgets.FloatSlider(value=SED_PARAMETERS['sfhdelayed']['tau_main'], \n",
    "                               min=500, max=8000, step=100, \n",
    "                               description=\"tau_main\", continuous_update=False)\n",
    "age_main = widgets.FloatSlider(value=SED_PARAMETERS['sfhdelayed']['age_main'], \n",
    "                               min=2000, max=10000, step=1000, \n",
    "                               description=\"age_main\", continuous_update=False)\n",
    "tau_burst = widgets.FloatSlider(value=SED_PARAMETERS['sfhdelayed']['tau_burst'], \n",
    "                                min=500, max=40000, step=100, \n",
    "                                description=\"tau_burst\", continuous_update=False)\n",
    "age_burst = widgets.FloatSlider(value=SED_PARAMETERS['sfhdelayed']['age_burst'],\n",
    "                                min=50, max=500, step=100, \n",
    "                                description=\"age_burst\", continuous_update=False)\n",
    "f_burst = widgets.FloatSlider(value=SED_PARAMETERS['sfhdelayed']['f_burst'], \n",
    "                              min=0, max=.9, step=.1, \n",
    "                              description=\"f_burst\", continuous_update=False)\n",
    "\n",
    "metallicity = widgets.Dropdown(value=SED_PARAMETERS['bc03']['metallicity'], \n",
    "                               options=[0.0001, 0.0004, 0.004, 0.008, 0.02, 0.05], \n",
    "                               description=\"metallicity\")\n",
    "\n",
    "logU = widgets.Dropdown(value=SED_PARAMETERS['nebular']['logU'],\n",
    "                        options=[-4.0, -3.9, -3.8, -3.7, -3.6, -3.5, -3.4, -3.3, \n",
    "                                 -3.2, -3.1, -3.0, -2.9, -2.8, -2.7, -2.6, -2.5, \n",
    "                                 -2.4, -2.3, -2.2, -2.1, -2.0, -1.9, -1.8, -1.7,\n",
    "                                 -1.6, -1.5, -1.4, -1.3, -1.2, -1.1, -1.0],\n",
    "                        description=\"logU\")\n",
    "f_esc = widgets.FloatSlider(value=SED_PARAMETERS['nebular']['f_esc'], \n",
    "                            min=0, max=1, step=.1, \n",
    "                            description=\"f_esc\", continuous_update=False)\n",
    "f_dust = widgets.FloatSlider(value=SED_PARAMETERS['nebular']['f_dust'], \n",
    "                             min=0, max=1, step=.1, \n",
    "                             description=\"f_dust\", continuous_update=False)\n",
    "# f_esc + f_dust is at most 1 (the remaining part is emitted as lines)\n",
    "def update_f_esc(*args):\n",
    "    if f_esc.value + f_dust.value > 1:\n",
    "        f_esc.value = 1 - f_dust.value\n",
    "f_dust.observe(update_f_esc, 'value')\n",
    "def update_f_dust(*args):\n",
    "    if f_esc.value + f_dust.value > 1:\n",
    "        f_dust.value = 1 - f_esc.value\n",
    "f_esc.observe(update_f_dust, 'value')\n",
    "\n",
    "E_BV_lines = widgets.FloatSlider(value=SED_PARAMETERS['dustatt_modified_starburst']['E_BV_lines'],\n",
    "                                 min=0, max=1, step=.05,\n",
    "                                 description='E_BV_lines', continuous_update=False)\n",
    "E_BV_factor = widgets.FloatSlider(value=SED_PARAMETERS['dustatt_modified_starburst']['E_BV_factor'],\n",
    "                                 min=0, max=1, step=.1,\n",
    "                                 description='E_BV_factor', continuous_update=False)\n",
    "uv_bump_amplitude = widgets.FloatSlider(value=SED_PARAMETERS['dustatt_modified_starburst']['uv_bump_amplitude'], \n",
    "                                        min=0, max=5, step=0.1, \n",
    "                                        description=\"bump_ampl.\", continuous_update=False)\n",
    "uv_bump_width = widgets.FloatSlider(value=SED_PARAMETERS['dustatt_modified_starburst']['uv_bump_width'],\n",
    "                                    min=100, max=500, step=100, \n",
    "                                    description=\"bump_width\", continuous_update=False)\n",
    "\n",
    "powerlaw_slope  = widgets.FloatSlider(value=SED_PARAMETERS['dustatt_modified_starburst']['powerlaw_slope'],\n",
    "                                      min=-1, max=1, step=.1, \n",
    "                                      description=\"slope\", continuous_update=False)\n",
    "Rv = widgets.FloatSlider(value=SED_PARAMETERS['dustatt_modified_starburst']['Rv'],\n",
    "                         min=0, max=5, step=.1, \n",
    "                         description=\"Rv\", continuous_update=False)\n",
    "\n",
    "qpah = widgets.Dropdown(value=SED_PARAMETERS['dl2014']['qpah'],\n",
    "                        options=[0.47, 1.12, 1.77, 2.50, 3.19, 3.90, 4.58, 5.26, 5.95, \n",
    "                                 6.63, 7.32],\n",
    "                        description=\"qpah\")\n",
    "umin = widgets.Dropdown(value=SED_PARAMETERS['dl2014']['umin'],\n",
    "                        options=[0.100, 0.120, 0.150, 0.170, 0.200, 0.250, 0.300, 0.350, \n",
    "                                 0.400, 0.500, 0.600, 0.700, 0.800, 1.000, 1.200, 1.500, \n",
    "                                 1.700, 2.000, 2.500, 3.000, 3.500, 4.000, 5.000, 6.000, \n",
    "                                 7.000, 8.000, 10.00, 12.00, 15.00, 17.00, 20.00, 25.00, \n",
    "                                 30.00, 35.00, 40.00, 50.00],\n",
    "                        description=\"umin\")\n",
    "alpha = widgets.FloatSlider(value=SED_PARAMETERS['dl2014']['alpha'],\n",
    "                            min=1., max=3., step=.5, \n",
    "                            description=\"alpha\", continuous_update=False)\n",
    "gamma = widgets.FloatSlider(value=SED_PARAMETERS['dl2014']['gamma'],\n",
    "                            min=0., max=20., step=1, \n",
    "                            description=\"gamma\", continuous_update=False)\n",
    "\n",
    "redshift = widgets.FloatSlider(value=SED_PARAMETERS['redshifting']['redshift'],\n",
    "                               min=0, max=10, step=.1, \n",
    "                               description=\"redshift\", continuous_update=False)\n",
    "\n",
    "l_range = widgets.FloatRangeSlider(value=(1.5, 6), min=1, max=8, step=.1, continuous_update=False)\n",
    "\n",
    "sliders = widgets.VBox([\n",
    "    widgets.Text(\"Fors2 galaxy name\"),\n",
    "    name,\n",
    "    widgets.Text(\"Log of adjust factor\"),\n",
    "    log_adjust_factor,\n",
    "    widgets.Text(\"Star Formation History\"),\n",
    "    tau_main, age_main, tau_burst, age_burst, f_burst,\n",
    "    widgets.Text(\"BC03 SSP\"),\n",
    "    metallicity, \n",
    "    widgets.Text(\"Nebular\"),\n",
    "    logU, f_esc, f_dust, \n",
    "    widgets.Text(\"Dust Attenuation\"),\n",
    "    E_BV_lines, E_BV_factor, uv_bump_amplitude, uv_bump_width, powerlaw_slope, Rv, \n",
    "    widgets.Text(\"IR emission\"),\n",
    "    qpah, umin, alpha, gamma, \n",
    "    widgets.Text(\"Redshift\"),\n",
    "    redshift, \n",
    "    widgets.Text(\"Lambda range (log)\"),\n",
    "    l_range\n",
    "])\n",
    "\n",
    "\n",
    "\n",
    "figure = widgets.interactive_output(\n",
    "    plot_sed,\n",
    "    {\n",
    "        'name': name,\n",
    "        'log_adjust_factor': log_adjust_factor,\n",
    "        'tau_main': tau_main,\n",
    "        'age_main': age_main,\n",
    "        'tau_burst': tau_burst,\n",
    "        'age_burst': age_burst,\n",
    "        'f_burst': f_burst,\n",
    "        'metallicity': metallicity,\n",
    "        'logU': logU,\n",
    "        'f_esc': f_esc,\n",
    "        'f_dust': f_dust,\n",
    "        'E_BV_lines': E_BV_lines,\n",
    "        'E_BV_factor': E_BV_factor,\n",
    "        'uv_bump_amplitude': uv_bump_amplitude,\n",
    "        'uv_bump_width': uv_bump_width,\n",
    "        'powerlaw_slope': powerlaw_slope,\n",
    "        'Rv': Rv,\n",
    "        'qpah': qpah,\n",
    "        'umin': umin,\n",
    "        'alpha': alpha,\n",
    "        'gamma': gamma,\n",
    "        'redshift': redshift,\n",
    "        'l_range': l_range,\n",
    "    }\n",
    ")\n",
    "\n",
    "widgets.HBox([sliders, figure])"
   ]
  },
  {
   "cell_type": "code",
   "execution_count": null,
   "id": "a794e036-0af6-416c-88d4-ea5903d538fb",
   "metadata": {},
   "outputs": [],
   "source": []
  }
 ],
 "metadata": {
  "kernelspec": {
   "display_name": "pcigale",
   "language": "python",
   "name": "pcigale"
  },
  "language_info": {
   "codemirror_mode": {
    "name": "ipython",
    "version": 3
   },
   "file_extension": ".py",
   "mimetype": "text/x-python",
   "name": "python",
   "nbconvert_exporter": "python",
   "pygments_lexer": "ipython3",
   "version": "3.10.13"
  }
 },
 "nbformat": 4,
 "nbformat_minor": 5
}
