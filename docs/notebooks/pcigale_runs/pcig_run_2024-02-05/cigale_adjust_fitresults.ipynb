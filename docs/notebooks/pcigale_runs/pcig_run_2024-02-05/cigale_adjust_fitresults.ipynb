{
 "cells": [
  {
   "cell_type": "markdown",
   "id": "838a1412-e02a-4aab-a725-76b5e725deb3",
   "metadata": {},
   "source": [
    "# Adjust pcigale fit result\n",
    "\n",
    "\n",
    "- author : Sylvie Dagoret-Campagne\n",
    "- affiliation : IJCLab/IN2P3/CNRS\n",
    "- creation date : 2024-02-06\n",
    "- uddate : 2024-02-06\n",
    "\n",
    "Find pcigale here https://cigale.lam.fr\n",
    "\n",
    "\n",
    "\n",
    "- adaptation : Sylvie Dagoret-Campagne from  https://cigale.lam.fr\n"
   ]
  },
  {
   "cell_type": "code",
   "execution_count": 1,
   "id": "2492c7f9-8f15-42e6-be38-41b68225132e",
   "metadata": {},
   "outputs": [],
   "source": [
    "#%pylab widget\n",
    "#import matplotlib.pyplot as plt\n",
    "#matplotlib.rcParams['figure.figsize'] = [9.,6.]"
   ]
  },
  {
   "cell_type": "code",
   "execution_count": 2,
   "id": "5cb99cca-6955-4889-9854-30599d0b0847",
   "metadata": {
    "tags": []
   },
   "outputs": [],
   "source": [
    "#%pylab widget\n",
    "import matplotlib.pyplot as plt\n",
    "%matplotlib inline\n",
    "plt.rcParams['figure.figsize'] = [9.,6.]"
   ]
  },
  {
   "cell_type": "code",
   "execution_count": 3,
   "id": "1b86c510-4ca6-4964-857e-f27f322f358e",
   "metadata": {},
   "outputs": [],
   "source": [
    "import numpy as np\n",
    "\n",
    "from IPython.display import display\n",
    "from ipywidgets import widgets\n",
    "from matplotlib import pyplot as plt\n",
    "\n",
    "from astropy.table import Table\n",
    "from astropy.io import fits\n",
    "\n",
    "from pcigale import sed\n",
    "from pcigale import sed_modules as modules\n",
    "from pcigale.warehouse import SedWarehouse\n",
    "from pcigale.data import SimpleDatabase\n",
    "import os,re"
   ]
  },
  {
   "cell_type": "code",
   "execution_count": 4,
   "id": "de3be944-f5ff-4525-9188-0f805396dddd",
   "metadata": {},
   "outputs": [],
   "source": [
    "path = \"20240205_181701_out\""
   ]
  },
  {
   "cell_type": "code",
   "execution_count": 5,
   "id": "b48042b3-3cfa-4e80-a6a5-c0121beb52e3",
   "metadata": {},
   "outputs": [],
   "source": [
    "def get_fitresults_dict(the_path):\n",
    "    \"\"\"\n",
    "    paramters:\n",
    "     - path : path where pcigale write results\n",
    "    \"\"\"\n",
    "    all_files_runpcigale = sorted(os.listdir(the_path))\n",
    "    spec_dict = {}\n",
    "    for idx,filename in enumerate(all_files_runpcigale):\n",
    "\n",
    "        # skip all file that are not ended by fits\n",
    "        if not re.search('.*[.]fits$',filename):\n",
    "            continue\n",
    "\n",
    "        # 1) decode the spec number\n",
    "        str_spec_found = re.findall('(^SPEC.+?)_.*', filename)\n",
    "        #print(\"\\t\", idx,\" \",filename,\" \", str_spec_found)\n",
    "        if len( str_spec_found) == 0:\n",
    "            print(f\"Skip filename {filename}\")\n",
    "            continue\n",
    "        str_spec_found = str_spec_found[0]\n",
    "  \n",
    "\n",
    "        if str_spec_found in spec_dict.keys():\n",
    "            #print(\"Found in dict \", spec_dict[str_spec_found])\n",
    "            pass\n",
    "        else:\n",
    "            #print(f\" ! {str_spec_found} NOT found in dict \")\n",
    "            spec_dict[str_spec_found] = {\"best_model\": None,\"SFH\":None}\n",
    "\n",
    "        d = spec_dict[str_spec_found]\n",
    "    \n",
    "        # 2) decode thefilename\n",
    "        str_file_found = re.findall('^SPEC.+_(.*)[.]fits$', filename)[0]\n",
    "        #print(idx,filename,str_file_found)\n",
    "\n",
    "        if str_file_found == \"SFH\":\n",
    "            d[\"SFH\"] = filename\n",
    "        elif str_file_found == \"model\":\n",
    "            d[\"best_model\"] = filename\n",
    "\n",
    "        spec_dict[str_spec_found] = d\n",
    "        \n",
    "    return spec_dict\n",
    "               \n",
    "    "
   ]
  },
  {
   "cell_type": "markdown",
   "id": "0daed278-2ce5-467a-bc78-a68de577ec98",
   "metadata": {},
   "source": [
    "## Input"
   ]
  },
  {
   "cell_type": "markdown",
   "id": "5a5dd10d-0afb-4779-83d4-a0670b2a155b",
   "metadata": {},
   "source": [
    "### Dictionary of file"
   ]
  },
  {
   "cell_type": "code",
   "execution_count": 6,
   "id": "16132a5b-a4a0-42be-9d43-21576a508168",
   "metadata": {},
   "outputs": [
    {
     "name": "stdout",
     "output_type": "stream",
     "text": [
      "Skip filename observations.fits\n",
      "Skip filename results.fits\n"
     ]
    }
   ],
   "source": [
    "spec_dict = get_fitresults_dict(path)"
   ]
  },
  {
   "cell_type": "markdown",
   "id": "5e4699b3-3833-4fea-806f-d1fcf5d5dba1",
   "metadata": {},
   "source": [
    "### Select spectrum"
   ]
  },
  {
   "cell_type": "code",
   "execution_count": 7,
   "id": "04d42963-a549-42b1-9ed8-9a354a03e22b",
   "metadata": {},
   "outputs": [
    {
     "data": {
      "text/plain": [
       "'SPEC117'"
      ]
     },
     "execution_count": 7,
     "metadata": {},
     "output_type": "execute_result"
    }
   ],
   "source": [
    "index = 10\n",
    "spec_name = list(spec_dict.keys())[index]\n",
    "spec_name"
   ]
  },
  {
   "cell_type": "code",
   "execution_count": 8,
   "id": "ef709c42-acf1-4115-8602-df913b880b3b",
   "metadata": {},
   "outputs": [
    {
     "data": {
      "text/plain": [
       "{'best_model': 'SPEC117_best_model.fits', 'SFH': 'SPEC117_SFH.fits'}"
      ]
     },
     "execution_count": 8,
     "metadata": {},
     "output_type": "execute_result"
    }
   ],
   "source": [
    "spec_dict[spec_name]"
   ]
  },
  {
   "cell_type": "code",
   "execution_count": 9,
   "id": "d9f55828-d2d8-47ed-924e-168bdfb37f4f",
   "metadata": {},
   "outputs": [],
   "source": [
    "file_best_model = os.path.join(path,spec_dict[spec_name]['best_model'])\n",
    "file_sfh = os.path.join(path,spec_dict[spec_name]['SFH'])"
   ]
  },
  {
   "cell_type": "code",
   "execution_count": 10,
   "id": "d216494d-92f0-40dd-9adc-f025f19d3f3a",
   "metadata": {},
   "outputs": [],
   "source": [
    "t_best = Table.read(file_best_model)\n",
    "t_sfh = Table.read(file_sfh)"
   ]
  },
  {
   "cell_type": "code",
   "execution_count": 11,
   "id": "d4403b46-044f-4f7b-8eca-a2ab17b25c9c",
   "metadata": {},
   "outputs": [
    {
     "data": {
      "text/html": [
       "<div><i>Table length=5</i>\n",
       "<table id=\"table5084246560\" class=\"table-striped table-bordered table-condensed\">\n",
       "<thead><tr><th>wavelength</th><th>Fnu</th><th>L_lambda_total</th><th>stellar.old</th><th>stellar.young</th><th>nebular.absorption_old</th><th>nebular.absorption_young</th><th>nebular.lines_old</th><th>nebular.lines_young</th><th>nebular.continuum_old</th><th>nebular.continuum_young</th><th>attenuation.stellar.old</th><th>attenuation.stellar.young</th><th>attenuation.nebular.lines_old</th><th>attenuation.nebular.lines_young</th><th>attenuation.nebular.continuum_old</th><th>attenuation.nebular.continuum_young</th><th>dust</th><th>igm</th></tr></thead>\n",
       "<thead><tr><th>nm</th><th>mJy</th><th>W / nm</th><th>W / nm</th><th>W / nm</th><th>W / nm</th><th>W / nm</th><th>W / nm</th><th>W / nm</th><th>W / nm</th><th>W / nm</th><th>W / nm</th><th>W / nm</th><th>W / nm</th><th>W / nm</th><th>W / nm</th><th>W / nm</th><th>W / nm</th><th>W / nm</th></tr></thead>\n",
       "<thead><tr><th>float64</th><th>float64</th><th>float64</th><th>float64</th><th>float64</th><th>float64</th><th>float64</th><th>float64</th><th>float64</th><th>float64</th><th>float64</th><th>float64</th><th>float64</th><th>float64</th><th>float64</th><th>float64</th><th>float64</th><th>float64</th><th>float64</th></tr></thead>\n",
       "<tr><td>13.175889999999999</td><td>2.101529514435313e-09</td><td>2.6960239702925726e+30</td><td>3.2889673621048796e+30</td><td>2.112864184690783e+30</td><td>-1.6444836810524398e+30</td><td>-1.0564320923453915e+30</td><td>0.0</td><td>0.0</td><td>0.0</td><td>0.0</td><td>0.0</td><td>0.0</td><td>0.0</td><td>0.0</td><td>0.0</td><td>0.0</td><td>0.0</td><td>-4.89180310525956e+27</td></tr>\n",
       "<tr><td>13.61026</td><td>2.6564775189585478e-09</td><td>3.193901202044958e+30</td><td>3.488930084428768e+30</td><td>2.911545079319271e+30</td><td>-1.744465042214384e+30</td><td>-1.4557725396596356e+30</td><td>0.0</td><td>0.0</td><td>0.0</td><td>0.0</td><td>0.0</td><td>0.0</td><td>0.0</td><td>0.0</td><td>0.0</td><td>0.0</td><td>0.0</td><td>-6.336379829062748e+27</td></tr>\n",
       "<tr><td>13.899840000000001</td><td>3.0863102478289126e-09</td><td>3.5576904246099563e+30</td><td>3.560440549399484e+30</td><td>3.5698987923987216e+30</td><td>-1.780220274699742e+30</td><td>-1.7849493961993608e+30</td><td>0.0</td><td>0.0</td><td>0.0</td><td>0.0</td><td>0.0</td><td>0.0</td><td>0.0</td><td>0.0</td><td>0.0</td><td>0.0</td><td>0.0</td><td>-7.479246289147339e+27</td></tr>\n",
       "<tr><td>14.18942</td><td>8.203966013065921e-09</td><td>9.074918663489288e+30</td><td>6.060758899019519e+30</td><td>1.212946294082785e+31</td><td>-3.0303794495097593e+30</td><td>-6.064731470413925e+30</td><td>0.0</td><td>0.0</td><td>0.0</td><td>0.0</td><td>0.0</td><td>0.0</td><td>0.0</td><td>0.0</td><td>0.0</td><td>0.0</td><td>0.0</td><td>-2.0192256434398373e+28</td></tr>\n",
       "<tr><td>14.479</td><td>1.9198930696936677e-08</td><td>2.039614454130444e+31</td><td>1.1273231526634653e+31</td><td>2.961501442374598e+31</td><td>-5.636615763317326e+30</td><td>-1.480750721187299e+31</td><td>0.0</td><td>0.0</td><td>0.0</td><td>0.0</td><td>0.0</td><td>0.0</td><td>0.0</td><td>0.0</td><td>0.0</td><td>0.0</td><td>0.0</td><td>-4.797843388587782e+28</td></tr>\n",
       "</table></div>"
      ],
      "text/plain": [
       "<Table length=5>\n",
       "    wavelength              Fnu               L_lambda_total          stellar.old       ... attenuation.nebular.continuum_young   dust            igm          \n",
       "        nm                  mJy                   W / nm                 W / nm         ...                W / nm                W / nm          W / nm        \n",
       "     float64              float64                float64                float64         ...               float64               float64         float64        \n",
       "------------------ ---------------------- ---------------------- ---------------------- ... ----------------------------------- ------- -----------------------\n",
       "13.175889999999999  2.101529514435313e-09 2.6960239702925726e+30 3.2889673621048796e+30 ...                                 0.0     0.0   -4.89180310525956e+27\n",
       "          13.61026 2.6564775189585478e-09  3.193901202044958e+30  3.488930084428768e+30 ...                                 0.0     0.0  -6.336379829062748e+27\n",
       "13.899840000000001 3.0863102478289126e-09 3.5576904246099563e+30  3.560440549399484e+30 ...                                 0.0     0.0  -7.479246289147339e+27\n",
       "          14.18942  8.203966013065921e-09  9.074918663489288e+30  6.060758899019519e+30 ...                                 0.0     0.0 -2.0192256434398373e+28\n",
       "            14.479 1.9198930696936677e-08  2.039614454130444e+31 1.1273231526634653e+31 ...                                 0.0     0.0  -4.797843388587782e+28"
      ]
     },
     "execution_count": 11,
     "metadata": {},
     "output_type": "execute_result"
    }
   ],
   "source": [
    "t_best[:5]"
   ]
  },
  {
   "cell_type": "markdown",
   "id": "b9f2fee9-5209-4d05-bc9c-8c95c3d47944",
   "metadata": {},
   "source": [
    "## Read all results"
   ]
  },
  {
   "cell_type": "code",
   "execution_count": 12,
   "id": "43cdf00f-35cb-43ff-b39a-f6f47db87a78",
   "metadata": {},
   "outputs": [],
   "source": [
    "t_res = Table.read(os.path.join(path,'results.fits'))"
   ]
  },
  {
   "cell_type": "code",
   "execution_count": 13,
   "id": "e83488b8-0c58-41d1-9102-629f0ceec78b",
   "metadata": {},
   "outputs": [
    {
     "data": {
      "text/html": [
       "<div><i>Table length=4</i>\n",
       "<table id=\"table5084247136\" class=\"table-striped table-bordered table-condensed\">\n",
       "<thead><tr><th>id</th><th>bayes.sfh.sfr</th><th>bayes.sfh.sfr_err</th><th>bayes.sfh.sfr100Myrs</th><th>bayes.sfh.sfr100Myrs_err</th><th>bayes.sfh.sfr10Myrs</th><th>bayes.sfh.sfr10Myrs_err</th><th>bayes.galex.FUV</th><th>bayes.galex.FUV_err</th><th>bayes.galex.NUV</th><th>bayes.galex.NUV_err</th><th>bayes.sdss.gp</th><th>bayes.sdss.gp_err</th><th>bayes.sdss.ip</th><th>bayes.sdss.ip_err</th><th>bayes.sdss.rp</th><th>bayes.sdss.rp_err</th><th>bayes.sdss.up</th><th>bayes.sdss.up_err</th><th>bayes.vista.vircam.H</th><th>bayes.vista.vircam.H_err</th><th>bayes.vista.vircam.J</th><th>bayes.vista.vircam.J_err</th><th>bayes.vista.vircam.Ks</th><th>bayes.vista.vircam.Ks_err</th><th>bayes.vista.vircam.Y</th><th>bayes.vista.vircam.Y_err</th><th>bayes.vista.vircam.Z</th><th>bayes.vista.vircam.Z_err</th><th>best.chi_square</th><th>best.reduced_chi_square</th><th>best.agn.fracAGN_dale2014</th><th>best.attenuation.B_B90</th><th>best.attenuation.E_BV_factor</th><th>best.attenuation.E_BV_lines</th><th>best.attenuation.E_BVs</th><th>best.attenuation.FUV</th><th>best.attenuation.V_B90</th><th>best.attenuation.powerlaw_slope</th><th>best.attenuation.uv_bump_amplitude</th><th>best.attenuation.uv_bump_wavelength</th><th>best.attenuation.uv_bump_width</th><th>best.dust.alpha</th><th>best.nebular.f_dust</th><th>best.nebular.f_esc</th><th>best.nebular.lines_width</th><th>best.nebular.logU</th><th>best.nebular.ne</th><th>best.nebular.zgas</th><th>best.param.EW(500.7/1.0)</th><th>best.param.EW(656.3/1.0)</th><th>best.param.restframe_FUV-NUV</th><th>best.param.restframe_NUV-r_prime</th><th>best.sfh.age</th><th>best.sfh.age_burst</th><th>best.sfh.age_main</th><th>best.sfh.f_burst</th><th>best.sfh.tau_burst</th><th>best.sfh.tau_main</th><th>best.stellar.age_m_star</th><th>best.stellar.imf</th><th>best.stellar.metallicity</th><th>best.stellar.old_young_separation_age</th><th>best.universe.age</th><th>best.universe.luminosity_distance</th><th>best.universe.redshift</th><th>best.dust.luminosity</th><th>best.param.restframe_Lnu(FUV)</th><th>best.param.restframe_Lnu(V_B90)</th><th>best.sfh.integrated</th><th>best.sfh.sfr</th><th>best.sfh.sfr100Myrs</th><th>best.sfh.sfr10Myrs</th><th>best.stellar.lum</th><th>best.stellar.lum_ly</th><th>best.stellar.lum_ly_old</th><th>best.stellar.lum_ly_young</th><th>best.stellar.lum_old</th><th>best.stellar.lum_young</th><th>best.stellar.m_gas</th><th>best.stellar.m_gas_old</th><th>best.stellar.m_gas_young</th><th>best.stellar.m_star</th><th>best.stellar.m_star_old</th><th>best.stellar.m_star_young</th><th>best.stellar.n_ly</th><th>best.stellar.n_ly_old</th><th>best.stellar.n_ly_young</th><th>best.galex.FUV</th><th>best.galex.NUV</th><th>best.sdss.up</th><th>best.sdss.gp</th><th>best.sdss.rp</th><th>best.sdss.ip</th><th>best.vista.vircam.Z</th><th>best.vista.vircam.Y</th><th>best.vista.vircam.J</th><th>best.vista.vircam.H</th><th>best.vista.vircam.Ks</th></tr></thead>\n",
       "<thead><tr><th></th><th>solMass / yr</th><th>solMass / yr</th><th>solMass / yr</th><th>solMass / yr</th><th>solMass / yr</th><th>solMass / yr</th><th>mJy</th><th>mJy</th><th>mJy</th><th>mJy</th><th>mJy</th><th>mJy</th><th>mJy</th><th>mJy</th><th>mJy</th><th>mJy</th><th>mJy</th><th>mJy</th><th>mJy</th><th>mJy</th><th>mJy</th><th>mJy</th><th>mJy</th><th>mJy</th><th>mJy</th><th>mJy</th><th>mJy</th><th>mJy</th><th></th><th></th><th></th><th>mag</th><th></th><th>mag</th><th>mag</th><th>mag</th><th>mag</th><th></th><th></th><th>nm</th><th>nm</th><th></th><th></th><th></th><th>km / s</th><th></th><th>1 / cm3</th><th></th><th>nm</th><th>nm</th><th>mag</th><th>mag</th><th>Myr</th><th>Myr</th><th>Myr</th><th></th><th>Myr</th><th>Myr</th><th>Myr</th><th></th><th></th><th>Myr</th><th>Myr</th><th>m</th><th></th><th>W</th><th>W / Hz</th><th>W / Hz</th><th>solMass</th><th>solMass / yr</th><th>solMass / yr</th><th>solMass / yr</th><th>W</th><th>W</th><th>W</th><th>W</th><th>W</th><th>W</th><th>solMass</th><th>solMass</th><th>solMass</th><th>solMass</th><th>solMass</th><th>solMass</th><th>ph / s</th><th>ph / s</th><th>ph / s</th><th>mJy</th><th>mJy</th><th>mJy</th><th>mJy</th><th>mJy</th><th>mJy</th><th>mJy</th><th>mJy</th><th>mJy</th><th>mJy</th><th>mJy</th></tr></thead>\n",
       "<thead><tr><th>bytes7</th><th>float64</th><th>float64</th><th>float64</th><th>float64</th><th>float64</th><th>float64</th><th>float64</th><th>float64</th><th>float64</th><th>float64</th><th>float64</th><th>float64</th><th>float64</th><th>float64</th><th>float64</th><th>float64</th><th>float64</th><th>float64</th><th>float64</th><th>float64</th><th>float64</th><th>float64</th><th>float64</th><th>float64</th><th>float64</th><th>float64</th><th>float64</th><th>float64</th><th>float64</th><th>float64</th><th>float64</th><th>float64</th><th>float64</th><th>float64</th><th>float64</th><th>float64</th><th>float64</th><th>float64</th><th>float64</th><th>float64</th><th>float64</th><th>float64</th><th>float64</th><th>float64</th><th>float64</th><th>float64</th><th>float64</th><th>float64</th><th>float64</th><th>float64</th><th>float64</th><th>float64</th><th>float64</th><th>float64</th><th>float64</th><th>float64</th><th>float64</th><th>float64</th><th>float64</th><th>float64</th><th>float64</th><th>float64</th><th>float64</th><th>float64</th><th>float64</th><th>float64</th><th>float64</th><th>float64</th><th>float64</th><th>float64</th><th>float64</th><th>float64</th><th>float64</th><th>float64</th><th>float64</th><th>float64</th><th>float64</th><th>float64</th><th>float64</th><th>float64</th><th>float64</th><th>float64</th><th>float64</th><th>float64</th><th>float64</th><th>float64</th><th>float64</th><th>float64</th><th>float64</th><th>float64</th><th>float64</th><th>float64</th><th>float64</th><th>float64</th><th>float64</th><th>float64</th><th>float64</th><th>float64</th></tr></thead>\n",
       "<tr><td>SPEC2</td><td>2.690478051334213</td><td>0.13452390256671065</td><td>2.7306441667975</td><td>0.136532208339875</td><td>2.6941116254730453</td><td>0.13470558127365226</td><td>0.0012892816551357742</td><td>1.4529673845824113e-07</td><td>0.002094805021122464</td><td>1.8696412446796292e-07</td><td>0.0039717213021012365</td><td>6.371424773760015e-07</td><td>0.012850990311673388</td><td>4.608342572288812e-06</td><td>0.009499652132380684</td><td>3.6978021497132776e-06</td><td>0.002668790520240912</td><td>5.869741482106958e-07</td><td>0.04194658852328467</td><td>5.272983069708891e-05</td><td>0.02972901209233811</td><td>1.431826882052124e-05</td><td>0.05321737326562015</td><td>7.616095605928444e-05</td><td>0.020362735770203262</td><td>1.7386491140926047e-06</td><td>0.016095554880481845</td><td>4.199553401553351e-06</td><td>58.31252776201896</td><td>6.47916975133544</td><td>0.0</td><td>0.6684865727948792</td><td>0.44</td><td>0.3</td><td>0.132</td><td>1.3499805116216999</td><td>0.5359823138691819</td><td>0.0</td><td>0.0</td><td>217.5</td><td>35.0</td><td>2.0</td><td>0.5</td><td>0.5</td><td>300.0</td><td>-4.0</td><td>100.0</td><td>0.02</td><td>0.0</td><td>0.0</td><td>0.3121785777653814</td><td>1.9498189146414104</td><td>5000.0</td><td>20.0</td><td>5000.0</td><td>0.0</td><td>50.0</td><td>2000.0</td><td>2396.5486296927193</td><td>0.0</td><td>0.05</td><td>10.0</td><td>9924.24386569352</td><td>5.652364331116024e+25</td><td>0.34555</td><td>4.994106160375489e+36</td><td>5.7179368760977654e+20</td><td>3.7298602417902804e+21</td><td>18681170244.733612</td><td>2.690488614963429</td><td>2.7306548881310135</td><td>2.6941222033687717</td><td>1.1825554616614727e+37</td><td>5.367563843505789e+35</td><td>9.934173357202326e+33</td><td>5.268222109933766e+35</td><td>7.738800244866133e+36</td><td>4.0867543717485927e+36</td><td>5030285218.142898</td><td>5029193861.2581</td><td>1091356.8847980157</td><td>13650885008.835932</td><td>13625035167.651339</td><td>25849841.18459141</td><td>1.6930418096554916e+53</td><td>2.2534025550434657e+51</td><td>1.6705077841050568e+53</td><td>0.0012965461963398812</td><td>0.002100782602834738</td><td>0.002676600362687012</td><td>0.0040112282138092875</td><td>0.009553379419946634</td><td>0.01293760481897374</td><td>0.016172514241087246</td><td>0.020479935562365506</td><td>0.02995498584529042</td><td>0.04208684437157674</td><td>0.053535723011906566</td></tr>\n",
       "<tr><td>SPEC3</td><td>11.354742498342842</td><td>1.2660536462076377</td><td>11.524257316729178</td><td>1.2849545463324592</td><td>11.370077430614309</td><td>1.2677634909636473</td><td>0.0006372690091306452</td><td>1.560486104944362e-05</td><td>0.0021819196279664445</td><td>3.118006433045367e-05</td><td>0.003467877168797991</td><td>7.88086940701635e-05</td><td>0.012816712556422218</td><td>0.0005954613832842859</td><td>0.006177377158099001</td><td>0.00025630710577639643</td><td>0.0029401723604269786</td><td>0.00013766120380801088</td><td>0.03549176700369208</td><td>0.0023031275374426406</td><td>0.026243446880799076</td><td>0.0006221469913490678</td><td>0.04052892526242076</td><td>0.005346304957820697</td><td>0.020635769558385104</td><td>0.0007413802248746524</td><td>0.01634957772212247</td><td>0.0007878114502898044</td><td>43.0663486454123</td><td>4.785149849490256</td><td>0.0</td><td>0.6691599596648103</td><td>0.44</td><td>0.3</td><td>0.132</td><td>1.3505994330872908</td><td>0.5367035082780384</td><td>0.0</td><td>0.0</td><td>217.5</td><td>35.0</td><td>2.0</td><td>0.5</td><td>0.5</td><td>300.0</td><td>-4.0</td><td>100.0</td><td>0.02</td><td>0.0</td><td>0.0</td><td>0.18994861135975688</td><td>2.193419221309378</td><td>5000.0</td><td>20.0</td><td>5000.0</td><td>0.0</td><td>50.0</td><td>2000.0</td><td>2392.682980709974</td><td>0.0</td><td>0.004</td><td>10.0</td><td>7489.688856855433</td><td>1.2928682798047648e+26</td><td>0.6866</td><td>2.728140769639268e+37</td><td>3.032143482232534e+21</td><td>2.2789246461134324e+22</td><td>72485211195.05717</td><td>10.439422847639806</td><td>10.595272869631417</td><td>10.453521612305336</td><td>5.888055853082677e+37</td><td>4.533199975917798e+36</td><td>7.839209184349417e+34</td><td>4.454807884074304e+36</td><td>4.219029949386218e+37</td><td>1.6690259036964589e+37</td><td>20023334104.842373</td><td>20020740812.78547</td><td>2593292.056902858</td><td>52461877193.7248</td><td>52359935227.66901</td><td>101941966.0558026</td><td>1.2668804337219731e+54</td><td>2.2035514736156042e+52</td><td>1.2448449189858171e+54</td><td>0.0006418010369305073</td><td>0.002171081733079493</td><td>0.002832707220066067</td><td>0.003413492443043943</td><td>0.006423103923928884</td><td>0.01325507507696</td><td>0.01691997849859448</td><td>0.021192006405090932</td><td>0.026733119685270562</td><td>0.034112594381156845</td><td>0.03745113779195499</td></tr>\n",
       "<tr><td>SPEC9</td><td>0.893594475303316</td><td>0.0446797237651658</td><td>0.9069349368077656</td><td>0.04534674684038828</td><td>0.8948013023853872</td><td>0.04474006511926937</td><td>0.000688368373812685</td><td>1.5374571352109324e-05</td><td>0.001048874244288583</td><td>6.635075118754741e-06</td><td>0.0022753265158778177</td><td>8.091173382011086e-05</td><td>0.00682227839893991</td><td>0.0002683723771457767</td><td>0.005010282912182742</td><td>0.00023234705394848922</td><td>0.001344902791372321</td><td>4.9065376581347345e-06</td><td>0.01989055517029019</td><td>0.0016986513501308829</td><td>0.015409859540831128</td><td>0.0006004214474188026</td><td>0.02550276226894473</td><td>0.0027393271746791216</td><td>0.010565678473359479</td><td>0.0001709879966805253</td><td>0.008335066657091578</td><td>0.00028534595672806396</td><td>36.314024957608574</td><td>4.539253119701072</td><td>0.0</td><td>0.6684865727948792</td><td>0.44</td><td>0.3</td><td>0.132</td><td>1.3499805116216999</td><td>0.5359823138691819</td><td>0.0</td><td>0.0</td><td>217.5</td><td>35.0</td><td>2.0</td><td>0.5</td><td>0.5</td><td>300.0</td><td>-4.0</td><td>100.0</td><td>0.02</td><td>0.0</td><td>0.0</td><td>0.3121785777653814</td><td>1.9498189146414104</td><td>5000.0</td><td>20.0</td><td>5000.0</td><td>0.0</td><td>50.0</td><td>2000.0</td><td>2396.5486296927193</td><td>0.0</td><td>0.05</td><td>10.0</td><td>10403.20586850516</td><td>4.657698367262244e+25</td><td>0.29266</td><td>1.6912980618333413e+36</td><td>1.936429712479807e+20</td><td>1.263150040321698e+21</td><td>6326542931.422406</td><td>0.911157679421494</td><td>0.9247603417954746</td><td>0.9123882261560059</td><td>4.0048282837626023e+36</td><td>1.8177727973258597e+35</td><td>3.364295352441898e+33</td><td>1.7841298438014406e+35</td><td>2.6208129011965958e+36</td><td>1.384015382566006e+36</td><td>1703550418.5746675</td><td>1703180820.9480343</td><td>369597.62663286616</td><td>4622992506.834925</td><td>4614238230.315719</td><td>8754276.519206392</td><td>5.733635287916775e+52</td><td>7.631346334033004e+50</td><td>5.657321824576444e+52</td><td>0.0006776770122428001</td><td>0.0010433051611455964</td><td>0.001339698405096814</td><td>0.0022131447220814305</td><td>0.00486343981568697</td><td>0.006649681413441637</td><td>0.008162568780536122</td><td>0.010442737994090368</td><td>0.015674126929353775</td><td>0.020829424377512156</td><td>0.02701988373032429</td></tr>\n",
       "<tr><td>SPEC13</td><td>2.3312642280500584</td><td>0.21693528345365984</td><td>2.3660676445331847</td><td>0.22017390777134943</td><td>2.3344126727681402</td><td>0.21722826128909226</td><td>0.00018133561109330803</td><td>9.084413436620996e-06</td><td>0.0006036161051006439</td><td>2.2282446747240267e-05</td><td>0.000974869333265748</td><td>3.0144018222403056e-05</td><td>0.003066860362368406</td><td>1.839644698195255e-05</td><td>0.001719687921016782</td><td>5.415404232699036e-05</td><td>0.0007870755735476813</td><td>2.5093323363043724e-05</td><td>0.006123734311626097</td><td>0.0007637855119809864</td><td>0.005364093340630341</td><td>0.00022235006169609876</td><td>0.006004316458601058</td><td>0.0013147101238311588</td><td>0.004420496911643122</td><td>0.00011819880364931944</td><td>0.0036348113582070243</td><td>5.022324081445632e-05</td><td>15.667057853634041</td><td>2.23815112194772</td><td>0.0</td><td>0.6732378420032672</td><td>0.44</td><td>0.3</td><td>0.132</td><td>1.3502912167145045</td><td>0.5372895119325493</td><td>0.0</td><td>0.0</td><td>217.5</td><td>35.0</td><td>2.0</td><td>0.5</td><td>0.5</td><td>300.0</td><td>-4.0</td><td>100.0</td><td>0.02</td><td>0.0</td><td>0.0</td><td>0.20027788228066784</td><td>1.8325088997980723</td><td>5000.0</td><td>20.0</td><td>5000.0</td><td>0.0</td><td>50.0</td><td>2000.0</td><td>2393.911898653397</td><td>0.0</td><td>0.0001</td><td>10.0</td><td>7477.576749660532</td><td>1.2977437626481e+26</td><td>0.6887</td><td>7.294145751991688e+36</td><td>8.673000107705926e+20</td><td>4.848251198748513e+21</td><td>15947609160.674505</td><td>2.2967972734351085</td><td>2.331086133154596</td><td>2.299899169460894</td><td>1.4129161602123431e+37</td><td>1.4838183873330883e+36</td><td>4.627442896730427e+34</td><td>1.437543958365784e+36</td><td>1.0122860908843178e+37</td><td>4.006300693280254e+36</td><td>4598577131.482474</td><td>4598072695.041649</td><td>504436.44082577806</td><td>11349032007.59916</td><td>11326537452.313696</td><td>22494555.285463605</td><td>4.125878008413361e+53</td><td>1.5123393066091889e+52</td><td>3.974644077752442e+53</td><td>0.0001855438661856115</td><td>0.0006122326099590961</td><td>0.0007942469221595534</td><td>0.0009864035529878754</td><td>0.0017424720728024003</td><td>0.0030701834811867677</td><td>0.003621541144540808</td><td>0.004383025699673146</td><td>0.005294441874105894</td><td>0.005947223773168239</td><td>0.0057275842531438565</td></tr>\n",
       "</table></div>"
      ],
      "text/plain": [
       "<Table length=4>\n",
       "  id     bayes.sfh.sfr     bayes.sfh.sfr_err  bayes.sfh.sfr100Myrs ... best.vista.vircam.Y  best.vista.vircam.J  best.vista.vircam.H   best.vista.vircam.Ks\n",
       "          solMass / yr        solMass / yr        solMass / yr     ...         mJy                  mJy                  mJy                   mJy         \n",
       "bytes7      float64             float64             float64        ...       float64              float64              float64               float64       \n",
       "------ ------------------ ------------------- -------------------- ... -------------------- -------------------- -------------------- ---------------------\n",
       " SPEC2  2.690478051334213 0.13452390256671065      2.7306441667975 ... 0.020479935562365506  0.02995498584529042  0.04208684437157674  0.053535723011906566\n",
       " SPEC3 11.354742498342842  1.2660536462076377   11.524257316729178 ... 0.021192006405090932 0.026733119685270562 0.034112594381156845   0.03745113779195499\n",
       " SPEC9  0.893594475303316  0.0446797237651658   0.9069349368077656 ... 0.010442737994090368 0.015674126929353775 0.020829424377512156   0.02701988373032429\n",
       "SPEC13 2.3312642280500584 0.21693528345365984   2.3660676445331847 ... 0.004383025699673146 0.005294441874105894 0.005947223773168239 0.0057275842531438565"
      ]
     },
     "execution_count": 13,
     "metadata": {},
     "output_type": "execute_result"
    }
   ],
   "source": [
    "t_res[:4]"
   ]
  },
  {
   "cell_type": "markdown",
   "id": "0b4691a9-29e7-45e6-94dd-fc72ed2a0bc8",
   "metadata": {},
   "source": [
    "### Selection "
   ]
  },
  {
   "cell_type": "code",
   "execution_count": 14,
   "id": "04627715-6b54-4942-87fb-7dc0297f54be",
   "metadata": {},
   "outputs": [],
   "source": [
    "cut_select = t_res[\"id\"] == spec_name"
   ]
  },
  {
   "cell_type": "code",
   "execution_count": 15,
   "id": "9663620b-a222-4000-875c-138a11d3dcd5",
   "metadata": {},
   "outputs": [
    {
     "data": {
      "text/html": [
       "<div><i>Table length=1</i>\n",
       "<table id=\"table5084243488\" class=\"table-striped table-bordered table-condensed\">\n",
       "<thead><tr><th>id</th><th>bayes.sfh.sfr</th><th>bayes.sfh.sfr_err</th><th>bayes.sfh.sfr100Myrs</th><th>bayes.sfh.sfr100Myrs_err</th><th>bayes.sfh.sfr10Myrs</th><th>bayes.sfh.sfr10Myrs_err</th><th>bayes.galex.FUV</th><th>bayes.galex.FUV_err</th><th>bayes.galex.NUV</th><th>bayes.galex.NUV_err</th><th>bayes.sdss.gp</th><th>bayes.sdss.gp_err</th><th>bayes.sdss.ip</th><th>bayes.sdss.ip_err</th><th>bayes.sdss.rp</th><th>bayes.sdss.rp_err</th><th>bayes.sdss.up</th><th>bayes.sdss.up_err</th><th>bayes.vista.vircam.H</th><th>bayes.vista.vircam.H_err</th><th>bayes.vista.vircam.J</th><th>bayes.vista.vircam.J_err</th><th>bayes.vista.vircam.Ks</th><th>bayes.vista.vircam.Ks_err</th><th>bayes.vista.vircam.Y</th><th>bayes.vista.vircam.Y_err</th><th>bayes.vista.vircam.Z</th><th>bayes.vista.vircam.Z_err</th><th>best.chi_square</th><th>best.reduced_chi_square</th><th>best.agn.fracAGN_dale2014</th><th>best.attenuation.B_B90</th><th>best.attenuation.E_BV_factor</th><th>best.attenuation.E_BV_lines</th><th>best.attenuation.E_BVs</th><th>best.attenuation.FUV</th><th>best.attenuation.V_B90</th><th>best.attenuation.powerlaw_slope</th><th>best.attenuation.uv_bump_amplitude</th><th>best.attenuation.uv_bump_wavelength</th><th>best.attenuation.uv_bump_width</th><th>best.dust.alpha</th><th>best.nebular.f_dust</th><th>best.nebular.f_esc</th><th>best.nebular.lines_width</th><th>best.nebular.logU</th><th>best.nebular.ne</th><th>best.nebular.zgas</th><th>best.param.EW(500.7/1.0)</th><th>best.param.EW(656.3/1.0)</th><th>best.param.restframe_FUV-NUV</th><th>best.param.restframe_NUV-r_prime</th><th>best.sfh.age</th><th>best.sfh.age_burst</th><th>best.sfh.age_main</th><th>best.sfh.f_burst</th><th>best.sfh.tau_burst</th><th>best.sfh.tau_main</th><th>best.stellar.age_m_star</th><th>best.stellar.imf</th><th>best.stellar.metallicity</th><th>best.stellar.old_young_separation_age</th><th>best.universe.age</th><th>best.universe.luminosity_distance</th><th>best.universe.redshift</th><th>best.dust.luminosity</th><th>best.param.restframe_Lnu(FUV)</th><th>best.param.restframe_Lnu(V_B90)</th><th>best.sfh.integrated</th><th>best.sfh.sfr</th><th>best.sfh.sfr100Myrs</th><th>best.sfh.sfr10Myrs</th><th>best.stellar.lum</th><th>best.stellar.lum_ly</th><th>best.stellar.lum_ly_old</th><th>best.stellar.lum_ly_young</th><th>best.stellar.lum_old</th><th>best.stellar.lum_young</th><th>best.stellar.m_gas</th><th>best.stellar.m_gas_old</th><th>best.stellar.m_gas_young</th><th>best.stellar.m_star</th><th>best.stellar.m_star_old</th><th>best.stellar.m_star_young</th><th>best.stellar.n_ly</th><th>best.stellar.n_ly_old</th><th>best.stellar.n_ly_young</th><th>best.galex.FUV</th><th>best.galex.NUV</th><th>best.sdss.up</th><th>best.sdss.gp</th><th>best.sdss.rp</th><th>best.sdss.ip</th><th>best.vista.vircam.Z</th><th>best.vista.vircam.Y</th><th>best.vista.vircam.J</th><th>best.vista.vircam.H</th><th>best.vista.vircam.Ks</th></tr></thead>\n",
       "<thead><tr><th></th><th>solMass / yr</th><th>solMass / yr</th><th>solMass / yr</th><th>solMass / yr</th><th>solMass / yr</th><th>solMass / yr</th><th>mJy</th><th>mJy</th><th>mJy</th><th>mJy</th><th>mJy</th><th>mJy</th><th>mJy</th><th>mJy</th><th>mJy</th><th>mJy</th><th>mJy</th><th>mJy</th><th>mJy</th><th>mJy</th><th>mJy</th><th>mJy</th><th>mJy</th><th>mJy</th><th>mJy</th><th>mJy</th><th>mJy</th><th>mJy</th><th></th><th></th><th></th><th>mag</th><th></th><th>mag</th><th>mag</th><th>mag</th><th>mag</th><th></th><th></th><th>nm</th><th>nm</th><th></th><th></th><th></th><th>km / s</th><th></th><th>1 / cm3</th><th></th><th>nm</th><th>nm</th><th>mag</th><th>mag</th><th>Myr</th><th>Myr</th><th>Myr</th><th></th><th>Myr</th><th>Myr</th><th>Myr</th><th></th><th></th><th>Myr</th><th>Myr</th><th>m</th><th></th><th>W</th><th>W / Hz</th><th>W / Hz</th><th>solMass</th><th>solMass / yr</th><th>solMass / yr</th><th>solMass / yr</th><th>W</th><th>W</th><th>W</th><th>W</th><th>W</th><th>W</th><th>solMass</th><th>solMass</th><th>solMass</th><th>solMass</th><th>solMass</th><th>solMass</th><th>ph / s</th><th>ph / s</th><th>ph / s</th><th>mJy</th><th>mJy</th><th>mJy</th><th>mJy</th><th>mJy</th><th>mJy</th><th>mJy</th><th>mJy</th><th>mJy</th><th>mJy</th><th>mJy</th></tr></thead>\n",
       "<thead><tr><th>bytes7</th><th>float64</th><th>float64</th><th>float64</th><th>float64</th><th>float64</th><th>float64</th><th>float64</th><th>float64</th><th>float64</th><th>float64</th><th>float64</th><th>float64</th><th>float64</th><th>float64</th><th>float64</th><th>float64</th><th>float64</th><th>float64</th><th>float64</th><th>float64</th><th>float64</th><th>float64</th><th>float64</th><th>float64</th><th>float64</th><th>float64</th><th>float64</th><th>float64</th><th>float64</th><th>float64</th><th>float64</th><th>float64</th><th>float64</th><th>float64</th><th>float64</th><th>float64</th><th>float64</th><th>float64</th><th>float64</th><th>float64</th><th>float64</th><th>float64</th><th>float64</th><th>float64</th><th>float64</th><th>float64</th><th>float64</th><th>float64</th><th>float64</th><th>float64</th><th>float64</th><th>float64</th><th>float64</th><th>float64</th><th>float64</th><th>float64</th><th>float64</th><th>float64</th><th>float64</th><th>float64</th><th>float64</th><th>float64</th><th>float64</th><th>float64</th><th>float64</th><th>float64</th><th>float64</th><th>float64</th><th>float64</th><th>float64</th><th>float64</th><th>float64</th><th>float64</th><th>float64</th><th>float64</th><th>float64</th><th>float64</th><th>float64</th><th>float64</th><th>float64</th><th>float64</th><th>float64</th><th>float64</th><th>float64</th><th>float64</th><th>float64</th><th>float64</th><th>float64</th><th>float64</th><th>float64</th><th>float64</th><th>float64</th><th>float64</th><th>float64</th><th>float64</th><th>float64</th><th>float64</th><th>float64</th></tr></thead>\n",
       "<tr><td>SPEC117</td><td>2.6042704299655646</td><td>0.13021352149827822</td><td>2.643149552854432</td><td>0.13215747764272162</td><td>2.6077875780352775</td><td>0.13038937890176389</td><td>0.000612234573312386</td><td>1.165110921534855e-05</td><td>0.0011464649704874927</td><td>5.284910951758324e-06</td><td>0.00195601471864365</td><td>1.373235064503088e-05</td><td>0.006667809423024289</td><td>0.00024386762538301815</td><td>0.004723678822402665</td><td>0.0001725334708240807</td><td>0.0014684507739116497</td><td>2.3456393573915182e-05</td><td>0.021886271755327327</td><td>0.0018048866371605107</td><td>0.014645559410582962</td><td>0.0001569191712604835</td><td>0.02621224480853155</td><td>0.002417780183504364</td><td>0.010376511777459374</td><td>0.00025105932223692365</td><td>0.008675363883816664</td><td>0.00023597496498204229</td><td>11.652503070033331</td><td>1.2947225633370367</td><td>0.0</td><td>0.6684865727948792</td><td>0.44</td><td>0.3</td><td>0.132</td><td>1.3499805116216999</td><td>0.5359823138691819</td><td>0.0</td><td>0.0</td><td>217.5</td><td>35.0</td><td>2.0</td><td>0.5</td><td>0.5</td><td>300.0</td><td>-4.0</td><td>100.0</td><td>0.02</td><td>0.0</td><td>0.0</td><td>0.3121785777653814</td><td>1.9498189146414104</td><td>5000.0</td><td>20.0</td><td>5000.0</td><td>0.0</td><td>50.0</td><td>2000.0</td><td>2396.5486296927193</td><td>0.0</td><td>0.05</td><td>10.0</td><td>9083.922617106142</td><td>7.688804256817374e+25</td><td>0.4479</td><td>4.949959292464633e+36</td><td>5.6673914940242854e+20</td><td>3.696889046919267e+21</td><td>18516032554.67849</td><td>2.666705250796512</td><td>2.706516462397711</td><td>2.6703067190301524</td><td>1.1721019154037965e+37</td><td>5.320115686740031e+35</td><td>9.846357314667302e+33</td><td>5.221652113593357e+35</td><td>7.67039084762318e+36</td><td>4.050628306414785e+36</td><td>4985818534.827022</td><td>4984736825.31188</td><td>1081709.5151407477</td><td>13530214002.253633</td><td>13504592668.33093</td><td>25621333.922701936</td><td>1.678075669421741e+53</td><td>2.2334829414523904e+51</td><td>1.655740840007217e+53</td><td>0.0006103586183293189</td><td>0.0011457598210744058</td><td>0.0014799703029953924</td><td>0.0019527003008364147</td><td>0.004656127593758478</td><td>0.006556359925102346</td><td>0.008568937942072814</td><td>0.010273531086569252</td><td>0.014768971922368118</td><td>0.02283387983093694</td><td>0.027491919737695648</td></tr>\n",
       "</table></div>"
      ],
      "text/plain": [
       "<Table length=1>\n",
       "   id     bayes.sfh.sfr     bayes.sfh.sfr_err  bayes.sfh.sfr100Myrs ... best.vista.vircam.Y  best.vista.vircam.J  best.vista.vircam.H best.vista.vircam.Ks\n",
       "           solMass / yr        solMass / yr        solMass / yr     ...         mJy                  mJy                  mJy                 mJy         \n",
       " bytes7      float64             float64             float64        ...       float64              float64              float64             float64       \n",
       "------- ------------------ ------------------- -------------------- ... -------------------- -------------------- ------------------- --------------------\n",
       "SPEC117 2.6042704299655646 0.13021352149827822    2.643149552854432 ... 0.010273531086569252 0.014768971922368118 0.02283387983093694 0.027491919737695648"
      ]
     },
     "execution_count": 15,
     "metadata": {},
     "output_type": "execute_result"
    }
   ],
   "source": [
    "t_res_sel = t_res[cut_select]\n",
    "t_res_sel"
   ]
  },
  {
   "cell_type": "code",
   "execution_count": 16,
   "id": "50ec557c-658d-4d03-a617-b247bb7808d3",
   "metadata": {},
   "outputs": [
    {
     "data": {
      "text/plain": [
       "1.2947225633370367"
      ]
     },
     "execution_count": 16,
     "metadata": {},
     "output_type": "execute_result"
    }
   ],
   "source": [
    "t_res_sel[\"best.reduced_chi_square\"][0]"
   ]
  },
  {
   "cell_type": "markdown",
   "id": "c50d41ab-64d8-4b1e-92b0-c8ff665eb3be",
   "metadata": {},
   "source": [
    "### Read data"
   ]
  },
  {
   "cell_type": "code",
   "execution_count": 17,
   "id": "962f6372-6fe5-4992-8579-df9238250a51",
   "metadata": {},
   "outputs": [],
   "source": [
    "file_data = os.path.join(path,\"observations.fits\")\n",
    "FORS2= Table.read(file_data)\n",
    "FORS2.add_index('id')"
   ]
  },
  {
   "cell_type": "code",
   "execution_count": 18,
   "id": "0a9bdfaa-6303-40b4-9450-aa39c799a54d",
   "metadata": {},
   "outputs": [
    {
     "data": {
      "text/html": [
       "<div><i>Table length=4</i>\n",
       "<table id=\"table5084242768\" class=\"table-striped table-bordered table-condensed\">\n",
       "<thead><tr><th>id</th><th>redshift</th><th>galex.FUV</th><th>galex.FUV_err</th><th>galex.NUV</th><th>galex.NUV_err</th><th>sdss.up</th><th>sdss.up_err</th><th>sdss.gp</th><th>sdss.gp_err</th><th>sdss.rp</th><th>sdss.rp_err</th><th>sdss.ip</th><th>sdss.ip_err</th><th>vista.vircam.Z</th><th>vista.vircam.Z_err</th><th>vista.vircam.Y</th><th>vista.vircam.Y_err</th><th>vista.vircam.J</th><th>vista.vircam.J_err</th><th>vista.vircam.H</th><th>vista.vircam.H_err</th><th>vista.vircam.Ks</th><th>vista.vircam.Ks_err</th></tr></thead>\n",
       "<thead><tr><th>bytes7</th><th>float64</th><th>float64</th><th>float64</th><th>float64</th><th>float64</th><th>float64</th><th>float64</th><th>float64</th><th>float64</th><th>float64</th><th>float64</th><th>float64</th><th>float64</th><th>float64</th><th>float64</th><th>float64</th><th>float64</th><th>float64</th><th>float64</th><th>float64</th><th>float64</th><th>float64</th><th>float64</th></tr></thead>\n",
       "<tr><td>SPEC2</td><td>0.3456</td><td>0.024597</td><td>0.006225</td><td>0.012646</td><td>0.003231</td><td>--</td><td>--</td><td>0.002635</td><td>0.000305</td><td>0.008550</td><td>0.000870</td><td>0.014536</td><td>0.001549</td><td>0.020464</td><td>0.002152</td><td>0.025612</td><td>0.002879</td><td>0.032969</td><td>0.003465</td><td>0.047182</td><td>0.005195</td><td>0.064763</td><td>0.006954</td></tr>\n",
       "<tr><td>SPEC3</td><td>0.6866</td><td>--</td><td>--</td><td>0.004906</td><td>0.002192</td><td>0.001665</td><td>0.000480</td><td>0.002418</td><td>0.000285</td><td>0.006525</td><td>0.000672</td><td>0.012610</td><td>0.001368</td><td>0.018209</td><td>0.001939</td><td>0.021529</td><td>0.002517</td><td>0.033779</td><td>0.003540</td><td>0.042549</td><td>0.004769</td><td>0.064977</td><td>0.006962</td></tr>\n",
       "<tr><td>SPEC9</td><td>0.2927</td><td>--</td><td>--</td><td>0.009030</td><td>0.003131</td><td>--</td><td>--</td><td>0.001512</td><td>0.000198</td><td>0.005874</td><td>0.000603</td><td>0.008643</td><td>0.000986</td><td>0.011839</td><td>0.001369</td><td>0.011624</td><td>0.001687</td><td>0.016744</td><td>0.001943</td><td>0.021223</td><td>0.003000</td><td>0.022539</td><td>0.003158</td></tr>\n",
       "<tr><td>SPEC13</td><td>0.6887</td><td>--</td><td>--</td><td>0.003222</td><td>0.001645</td><td>0.001036</td><td>0.000403</td><td>0.001298</td><td>0.000172</td><td>0.001864</td><td>0.000220</td><td>0.002078</td><td>0.000560</td><td>0.004230</td><td>0.000792</td><td>0.001636</td><td>0.001208</td><td>0.004766</td><td>0.001069</td><td>--</td><td>--</td><td>--</td><td>--</td></tr>\n",
       "</table></div>"
      ],
      "text/plain": [
       "<Table length=4>\n",
       "  id      redshift      galex.FUV     galex.FUV_err     galex.NUV    ... vista.vircam.J_err  vista.vircam.H vista.vircam.H_err vista.vircam.Ks vista.vircam.Ks_err\n",
       "bytes7    float64        float64         float64         float64     ...      float64           float64          float64           float64           float64      \n",
       "------ ------------- --------------- --------------- --------------- ... ------------------ --------------- ------------------ --------------- -------------------\n",
       " SPEC2        0.3456        0.024597        0.006225        0.012646 ...           0.003465        0.047182           0.005195        0.064763            0.006954\n",
       " SPEC3        0.6866              --              --        0.004906 ...           0.003540        0.042549           0.004769        0.064977            0.006962\n",
       " SPEC9        0.2927              --              --        0.009030 ...           0.001943        0.021223           0.003000        0.022539            0.003158\n",
       "SPEC13        0.6887              --              --        0.003222 ...           0.001069              --                 --              --                  --"
      ]
     },
     "execution_count": 18,
     "metadata": {},
     "output_type": "execute_result"
    }
   ],
   "source": [
    "FORS2[:4]"
   ]
  },
  {
   "cell_type": "markdown",
   "id": "ac4d2097-d181-4304-9aca-97760d1f4b1d",
   "metadata": {},
   "source": [
    "### Select"
   ]
  },
  {
   "cell_type": "code",
   "execution_count": 19,
   "id": "f3dd1070-6b4d-4aa9-be6f-f1f39f6b7d2c",
   "metadata": {},
   "outputs": [],
   "source": [
    "cut_fors2select = FORS2[\"id\"] == spec_name"
   ]
  },
  {
   "cell_type": "code",
   "execution_count": 20,
   "id": "66cec3e2-840c-4d4e-9885-43e64ac25103",
   "metadata": {},
   "outputs": [],
   "source": [
    "FORS2_sel = FORS2[cut_fors2select]"
   ]
  },
  {
   "cell_type": "code",
   "execution_count": 21,
   "id": "1a30fc4c-b8ff-42f8-9811-6c6cf8a2c7f3",
   "metadata": {},
   "outputs": [
    {
     "data": {
      "text/html": [
       "<div><i>Table length=1</i>\n",
       "<table id=\"table5085261168\" class=\"table-striped table-bordered table-condensed\">\n",
       "<thead><tr><th>id</th><th>redshift</th><th>galex.FUV</th><th>galex.FUV_err</th><th>galex.NUV</th><th>galex.NUV_err</th><th>sdss.up</th><th>sdss.up_err</th><th>sdss.gp</th><th>sdss.gp_err</th><th>sdss.rp</th><th>sdss.rp_err</th><th>sdss.ip</th><th>sdss.ip_err</th><th>vista.vircam.Z</th><th>vista.vircam.Z_err</th><th>vista.vircam.Y</th><th>vista.vircam.Y_err</th><th>vista.vircam.J</th><th>vista.vircam.J_err</th><th>vista.vircam.H</th><th>vista.vircam.H_err</th><th>vista.vircam.Ks</th><th>vista.vircam.Ks_err</th></tr></thead>\n",
       "<thead><tr><th>bytes7</th><th>float64</th><th>float64</th><th>float64</th><th>float64</th><th>float64</th><th>float64</th><th>float64</th><th>float64</th><th>float64</th><th>float64</th><th>float64</th><th>float64</th><th>float64</th><th>float64</th><th>float64</th><th>float64</th><th>float64</th><th>float64</th><th>float64</th><th>float64</th><th>float64</th><th>float64</th><th>float64</th></tr></thead>\n",
       "<tr><td>SPEC117</td><td>0.4479</td><td>--</td><td>--</td><td>0.003292</td><td>0.001642</td><td>0.000855</td><td>0.000397</td><td>0.001612</td><td>0.000199</td><td>0.004711</td><td>0.000487</td><td>0.006625</td><td>0.000859</td><td>0.010211</td><td>0.001234</td><td>0.011437</td><td>0.001695</td><td>0.017230</td><td>0.001994</td><td>0.023943</td><td>0.003200</td><td>0.024894</td><td>0.003404</td></tr>\n",
       "</table></div>"
      ],
      "text/plain": [
       "<Table length=1>\n",
       "   id      redshift   galex.FUV galex.FUV_err    galex.NUV    ... vista.vircam.J_err  vista.vircam.H vista.vircam.H_err vista.vircam.Ks vista.vircam.Ks_err\n",
       " bytes7    float64     float64     float64        float64     ...      float64           float64          float64           float64           float64      \n",
       "------- ------------- --------- ------------- --------------- ... ------------------ --------------- ------------------ --------------- -------------------\n",
       "SPEC117        0.4479        --            --        0.003292 ...           0.001994        0.023943           0.003200        0.024894            0.003404"
      ]
     },
     "execution_count": 21,
     "metadata": {},
     "output_type": "execute_result"
    }
   ],
   "source": [
    "FORS2_sel"
   ]
  },
  {
   "cell_type": "markdown",
   "id": "83a79d80-68c8-4118-8769-da3a9e3a3b69",
   "metadata": {},
   "source": [
    "### Filters"
   ]
  },
  {
   "cell_type": "code",
   "execution_count": 22,
   "id": "ebbccf72-1485-41c9-b656-494e213511e4",
   "metadata": {},
   "outputs": [],
   "source": [
    "BANDS = [\n",
    "    col for col in FORS2.colnames if not col.endswith(\"_err\") \n",
    "    and not col.startswith(\"line\") \n",
    "    and not col in [\"id\", \"redshift\", \"distance\"]\n",
    "]\n",
    "\n",
    "#with Database() as d:\n",
    "#    BANDS_WAVE = np.array([d.get_filter(name).pivot_wavelength for name in BANDS])\n",
    "\n",
    "\n",
    "with SimpleDatabase('filters') as d:\n",
    "    #BANDS_WAVE = np.array([d.get(name).pivot_wavelength for name in BANDS])\n",
    "    BANDS_WAVE = np.array([d.get(name=name).pivot for name in BANDS])\n",
    "    "
   ]
  },
  {
   "cell_type": "code",
   "execution_count": 23,
   "id": "211f3e37-3c07-498d-b714-65d3db8cd635",
   "metadata": {},
   "outputs": [],
   "source": [
    "#list_of_columns = list(t_res_sel.columns)\n",
    "#for idx,col in enumerate(list_of_columns):\n",
    "#    print(idx,col)"
   ]
  },
  {
   "cell_type": "code",
   "execution_count": 24,
   "id": "ef671fb6-38ab-43b6-9118-59fabbb6077f",
   "metadata": {},
   "outputs": [],
   "source": [
    "# Initial values of the SED parameters\n",
    "SED_PARAMETERS = {\n",
    "    'sfhdelayed': {\n",
    "        'tau_main': t_res_sel[\"best.sfh.tau_main\"][0],\n",
    "        'age_main': t_res_sel[\"best.sfh.age_main\"][0],\n",
    "        'tau_burst': t_res_sel[\"best.sfh.tau_burst\"][0],\n",
    "        'age_burst': t_res_sel[\"best.sfh.age_burst\"][0],\n",
    "        'f_burst': t_res_sel[\"best.sfh.f_burst\"][0],\n",
    "        },\n",
    "    'bc03': {\n",
    "        'imf': t_res_sel[\"best.stellar.imf\"][0],\n",
    "        'metallicity': t_res_sel[\"best.stellar.metallicity\"][0],\n",
    "    },\n",
    "    'nebular': {\n",
    "        'logU': t_res_sel[\"best.nebular.logU\"][0],\n",
    "        'f_esc': t_res_sel[\"best.nebular.f_esc\"][0],\n",
    "        'f_dust': t_res_sel[\"best.nebular.f_dust\"][0],\n",
    "        'emission': True,\n",
    "    },\n",
    "    'dustatt_modified_starburst': {\n",
    "        'E_BV_lines': t_res_sel[\"best.attenuation.E_BV_lines\"][0],\n",
    "        'E_BV_factor': t_res_sel[\"best.attenuation.E_BV_factor\"][0],\n",
    "        'uv_bump_wavelength': t_res_sel[\"best.attenuation.uv_bump_wavelength\"][0],\n",
    "        'uv_bump_width': t_res_sel[\"best.attenuation.uv_bump_width\"][0],\n",
    "        'uv_bump_amplitude': t_res_sel[\"best.attenuation.uv_bump_amplitude\"][0],\n",
    "        'powerlaw_slope': t_res_sel[\"best.attenuation.powerlaw_slope\"][0],\n",
    "        'Ext_law_emission_lines': 1,\n",
    "        'Rv': 3.1,\n",
    "    },\n",
    "    'dl2014': {\n",
    "        'qpah': 2.50,\n",
    "        'umin': 1.5,\n",
    "        'alpha': 2.0,\n",
    "        'gamma': 0.02,\n",
    "    },\n",
    "    'redshifting': {\n",
    "        'redshift': t_res_sel[\"best.universe.redshift\"][0],\n",
    "    }\n",
    "}"
   ]
  },
  {
   "cell_type": "code",
   "execution_count": 25,
   "id": "d2c2316e-b30c-450d-9155-c05d8df9520d",
   "metadata": {},
   "outputs": [],
   "source": [
    "WAREHOUSE = SedWarehouse()\n",
    "\n",
    "def plot_sed(name, log_adjust_factor, tau_main, age_main, tau_burst, age_burst, f_burst, metallicity, logU,\n",
    "             f_esc, f_dust, E_BV_lines, E_BV_factor, uv_bump_width, uv_bump_amplitude, powerlaw_slope, Rv, qpah, \n",
    "             umin, alpha, gamma, redshift, l_range):\n",
    "\n",
    "    chi2_red = t_res_sel[\"best.reduced_chi_square\"][0]\n",
    "    redshift = t_res_sel[\"best.universe.redshift\"][0]\t\n",
    "    \n",
    "    plt.figure(\"Interactive_SED\", figsize=(9, 7))\n",
    "    sed = WAREHOUSE.get_sed(\n",
    "        module_list = ['sfhdelayed', 'bc03', 'nebular', 'dustatt_modified_starburst', 'dl2014', 'redshifting'],\n",
    "        parameter_list= [\n",
    "            {\n",
    "                'tau_main': tau_main,\n",
    "                'age_main': age_main,\n",
    "                'tau_burst': tau_burst,\n",
    "                'age_burst': age_burst,\n",
    "                'f_burst': f_burst,\n",
    "            },{\n",
    "                'imf': 0,\n",
    "                'metallicity': metallicity,\n",
    "            },{\n",
    "                'logU': logU,\n",
    "                'f_esc': f_esc,\n",
    "                'f_dust': f_dust,\n",
    "                'emission': True,\n",
    "            },{\n",
    "                'E_BV_lines': E_BV_lines,\n",
    "                'E_BV_factor': E_BV_factor,\n",
    "                'uv_bump_wavelength': 217.5,\n",
    "                'uv_bump_width': uv_bump_width,\n",
    "                'uv_bump_amplitude': uv_bump_amplitude,\n",
    "                'powerlaw_slope': powerlaw_slope,\n",
    "                'Ext_law_emission_lines': 1,\n",
    "                'Rv': Rv,\n",
    "            },{\n",
    "                'qpah': qpah,\n",
    "                'umin': umin,\n",
    "                'alpha': alpha,\n",
    "                'gamma': gamma,\n",
    "            }, {\n",
    "                'redshift': redshift,\n",
    "            }\n",
    "        ]\n",
    "    )\n",
    "    \n",
    "    adjust_factor = 10**log_adjust_factor\n",
    "\n",
    "    # the model\n",
    "    band_sed_fluxes = np.array([adjust_factor * sed.compute_fnu(band) for band in BANDS])\n",
    "\n",
    "    # the data\n",
    "    band_gal_fluxes = np.array([FORS2.loc[name][band] for band in BANDS])\n",
    "    band_gal_err = [FORS2.loc[name][f\"{band}_err\"] for band in BANDS]\n",
    "    \n",
    "    x_lims = (10**l_range[0], 10**l_range[1])\n",
    "    plt.clf()\n",
    "    plt.grid()\n",
    "    plt.loglog(sed.wavelength_grid, adjust_factor * sed.fnu ,'b-' ,label=\"SED\")\n",
    "    plt.scatter(BANDS_WAVE, band_sed_fluxes, color=\"r\",label=\"SED band fluxes\")\n",
    "    plt.errorbar(BANDS_WAVE, band_gal_fluxes, yerr=band_gal_err, fmt='o',color=\"k\" ,label=f\"{name} fluxes, chi2_red = {chi2_red:.3f}\")\n",
    "    plt.xlim(x_lims)\n",
    "    # Recompute the y limits\n",
    "    \n",
    "    mask_sed = (sed.wavelength_grid >= x_lims[0]) & (sed.wavelength_grid <= x_lims[1])\n",
    "    mask_bands = (BANDS_WAVE >= x_lims[0]) & (BANDS_WAVE <= x_lims[1])\n",
    "\n",
    "    y1 = np.min(adjust_factor * sed.fnu[mask_sed])\n",
    "    y2 = np.min(band_sed_fluxes[mask_bands])\n",
    "\n",
    "    # handle flux not Nan\n",
    "    data_fluxes = band_gal_fluxes[mask_bands]\n",
    "    data_fluxes = data_fluxes[~np.isnan(data_fluxes)]\n",
    "    y3 = np.min(data_fluxes)\n",
    "\n",
    "    y4 = np.max(adjust_factor * sed.fnu[mask_sed])\n",
    "    y5 = np.max(band_sed_fluxes[mask_bands])\n",
    "    y6 = np.max(data_fluxes)\n",
    "\n",
    "  \n",
    "    y_min = 0.9 * np.min([y1,y2,y3])\n",
    "    if y_min <= 0:\n",
    "        y_min = 1e-40  # log axis\n",
    "    y_max = 1.1 * np.max([y4,y5,y6])\n",
    "\n",
    "    \n",
    "    plt.ylim((y_min, y_max))\n",
    "    plt.legend(loc=0)\n",
    "    plt.ylabel (\"Flux [Jy]\")\n",
    "    plt.xlabel(\"Wavelength [nm]\")\n",
    "    plt.tight_layout()\n",
    "    plt.title(f\"Fors2 Spectrum {name} , z = {redshift:.3f}, in pcigale run {path}\")\n",
    "    _ = plt.show()"
   ]
  },
  {
   "cell_type": "code",
   "execution_count": 26,
   "id": "03e138a0-694a-4988-be9e-6814bb62ac6a",
   "metadata": {},
   "outputs": [
    {
     "data": {
      "application/vnd.jupyter.widget-view+json": {
       "model_id": "d37ff334c9524cbda6d48f99173b6fa9",
       "version_major": 2,
       "version_minor": 0
      },
      "text/plain": [
       "HBox(children=(VBox(children=(Text(value='Fors2 galaxy name'), Dropdown(options=('SPEC117',), value='SPEC117')…"
      ]
     },
     "execution_count": 26,
     "metadata": {},
     "output_type": "execute_result"
    }
   ],
   "source": [
    "plt.close(\"Interactive_SED\")  # needed to rerun the cell\n",
    "\n",
    "name = widgets.Dropdown(value=FORS2_sel['id'][0], \n",
    "                        options=list(FORS2_sel['id']))\n",
    "\n",
    "log_adjust_factor = widgets.FloatSlider(11, min=0, max=16, step=0.1)\n",
    "\n",
    "tau_main = widgets.FloatSlider(value=SED_PARAMETERS['sfhdelayed']['tau_main'], \n",
    "                               min=500, max=8000, step=100, \n",
    "                               description=\"tau_main\", continuous_update=False)\n",
    "age_main = widgets.FloatSlider(value=SED_PARAMETERS['sfhdelayed']['age_main'], \n",
    "                               min=2000, max=10000, step=1000, \n",
    "                               description=\"age_main\", continuous_update=False)\n",
    "tau_burst = widgets.FloatSlider(value=SED_PARAMETERS['sfhdelayed']['tau_burst'], \n",
    "                                min=500, max=40000, step=100, \n",
    "                                description=\"tau_burst\", continuous_update=False)\n",
    "age_burst = widgets.FloatSlider(value=SED_PARAMETERS['sfhdelayed']['age_burst'],\n",
    "                                min=50, max=500, step=100, \n",
    "                                description=\"age_burst\", continuous_update=False)\n",
    "f_burst = widgets.FloatSlider(value=SED_PARAMETERS['sfhdelayed']['f_burst'], \n",
    "                              min=0, max=.9, step=.1, \n",
    "                              description=\"f_burst\", continuous_update=False)\n",
    "\n",
    "metallicity = widgets.Dropdown(value=SED_PARAMETERS['bc03']['metallicity'], \n",
    "                               options=[0.0001, 0.0004, 0.004, 0.008, 0.02, 0.05], \n",
    "                               description=\"metallicity\")\n",
    "\n",
    "logU = widgets.Dropdown(value=SED_PARAMETERS['nebular']['logU'],\n",
    "                        options=[-4.0, -3.9, -3.8, -3.7, -3.6, -3.5, -3.4, -3.3, \n",
    "                                 -3.2, -3.1, -3.0, -2.9, -2.8, -2.7, -2.6, -2.5, \n",
    "                                 -2.4, -2.3, -2.2, -2.1, -2.0, -1.9, -1.8, -1.7,\n",
    "                                 -1.6, -1.5, -1.4, -1.3, -1.2, -1.1, -1.0],\n",
    "                        description=\"logU\")\n",
    "f_esc = widgets.FloatSlider(value=SED_PARAMETERS['nebular']['f_esc'], \n",
    "                            min=0, max=1, step=.1, \n",
    "                            description=\"f_esc\", continuous_update=False)\n",
    "f_dust = widgets.FloatSlider(value=SED_PARAMETERS['nebular']['f_dust'], \n",
    "                             min=0, max=1, step=.1, \n",
    "                             description=\"f_dust\", continuous_update=False)\n",
    "# f_esc + f_dust is at most 1 (the remaining part is emitted as lines)\n",
    "def update_f_esc(*args):\n",
    "    if f_esc.value + f_dust.value > 1:\n",
    "        f_esc.value = 1 - f_dust.value\n",
    "f_dust.observe(update_f_esc, 'value')\n",
    "def update_f_dust(*args):\n",
    "    if f_esc.value + f_dust.value > 1:\n",
    "        f_dust.value = 1 - f_esc.value\n",
    "f_esc.observe(update_f_dust, 'value')\n",
    "\n",
    "E_BV_lines = widgets.FloatSlider(value=SED_PARAMETERS['dustatt_modified_starburst']['E_BV_lines'],\n",
    "                                 min=0, max=1, step=.05,\n",
    "                                 description='E_BV_lines', continuous_update=False)\n",
    "E_BV_factor = widgets.FloatSlider(value=SED_PARAMETERS['dustatt_modified_starburst']['E_BV_factor'],\n",
    "                                 min=0, max=1, step=.1,\n",
    "                                 description='E_BV_factor', continuous_update=False)\n",
    "uv_bump_amplitude = widgets.FloatSlider(value=SED_PARAMETERS['dustatt_modified_starburst']['uv_bump_amplitude'], \n",
    "                                        min=0, max=5, step=0.1, \n",
    "                                        description=\"bump_ampl.\", continuous_update=False)\n",
    "uv_bump_width = widgets.FloatSlider(value=SED_PARAMETERS['dustatt_modified_starburst']['uv_bump_width'],\n",
    "                                    min=100, max=500, step=100, \n",
    "                                    description=\"bump_width\", continuous_update=False)\n",
    "\n",
    "powerlaw_slope  = widgets.FloatSlider(value=SED_PARAMETERS['dustatt_modified_starburst']['powerlaw_slope'],\n",
    "                                      min=-1, max=1, step=.1, \n",
    "                                      description=\"slope\", continuous_update=False)\n",
    "Rv = widgets.FloatSlider(value=SED_PARAMETERS['dustatt_modified_starburst']['Rv'],\n",
    "                         min=0, max=5, step=.1, \n",
    "                         description=\"Rv\", continuous_update=False)\n",
    "\n",
    "qpah = widgets.Dropdown(value=SED_PARAMETERS['dl2014']['qpah'],\n",
    "                        options=[0.47, 1.12, 1.77, 2.50, 3.19, 3.90, 4.58, 5.26, 5.95, \n",
    "                                 6.63, 7.32],\n",
    "                        description=\"qpah\")\n",
    "umin = widgets.Dropdown(value=SED_PARAMETERS['dl2014']['umin'],\n",
    "                        options=[0.100, 0.120, 0.150, 0.170, 0.200, 0.250, 0.300, 0.350, \n",
    "                                 0.400, 0.500, 0.600, 0.700, 0.800, 1.000, 1.200, 1.500, \n",
    "                                 1.700, 2.000, 2.500, 3.000, 3.500, 4.000, 5.000, 6.000, \n",
    "                                 7.000, 8.000, 10.00, 12.00, 15.00, 17.00, 20.00, 25.00, \n",
    "                                 30.00, 35.00, 40.00, 50.00],\n",
    "                        description=\"umin\")\n",
    "alpha = widgets.FloatSlider(value=SED_PARAMETERS['dl2014']['alpha'],\n",
    "                            min=1., max=3., step=.5, \n",
    "                            description=\"alpha\", continuous_update=False)\n",
    "gamma = widgets.FloatSlider(value=SED_PARAMETERS['dl2014']['gamma'],\n",
    "                            min=0., max=20., step=1, \n",
    "                            description=\"gamma\", continuous_update=False)\n",
    "\n",
    "redshift = widgets.FloatSlider(value=SED_PARAMETERS['redshifting']['redshift'],\n",
    "                               min=0, max=10, step=.1, \n",
    "                               description=\"redshift\", continuous_update=False)\n",
    "\n",
    "l_range = widgets.FloatRangeSlider(value=(1.5, 6), min=1, max=8, step=.1, continuous_update=False)\n",
    "\n",
    "sliders = widgets.VBox([\n",
    "    widgets.Text(\"Fors2 galaxy name\"),\n",
    "    name,\n",
    "    widgets.Text(\"Log of adjust factor\"),\n",
    "    log_adjust_factor,\n",
    "    widgets.Text(\"Star Formation History\"),\n",
    "    tau_main, age_main, tau_burst, age_burst, f_burst,\n",
    "    widgets.Text(\"BC03 SSP\"),\n",
    "    metallicity, \n",
    "    widgets.Text(\"Nebular\"),\n",
    "    logU, f_esc, f_dust, \n",
    "    widgets.Text(\"Dust Attenuation\"),\n",
    "    E_BV_lines, E_BV_factor, uv_bump_amplitude, uv_bump_width, powerlaw_slope, Rv, \n",
    "    widgets.Text(\"IR emission\"),\n",
    "    qpah, umin, alpha, gamma, \n",
    "    widgets.Text(\"Redshift\"),\n",
    "    redshift, \n",
    "    widgets.Text(\"Lambda range (log)\"),\n",
    "    l_range\n",
    "])\n",
    "\n",
    "\n",
    "\n",
    "figure = widgets.interactive_output(\n",
    "    plot_sed,\n",
    "    {\n",
    "        'name': name,\n",
    "        'log_adjust_factor': log_adjust_factor,\n",
    "        'tau_main': tau_main,\n",
    "        'age_main': age_main,\n",
    "        'tau_burst': tau_burst,\n",
    "        'age_burst': age_burst,\n",
    "        'f_burst': f_burst,\n",
    "        'metallicity': metallicity,\n",
    "        'logU': logU,\n",
    "        'f_esc': f_esc,\n",
    "        'f_dust': f_dust,\n",
    "        'E_BV_lines': E_BV_lines,\n",
    "        'E_BV_factor': E_BV_factor,\n",
    "        'uv_bump_amplitude': uv_bump_amplitude,\n",
    "        'uv_bump_width': uv_bump_width,\n",
    "        'powerlaw_slope': powerlaw_slope,\n",
    "        'Rv': Rv,\n",
    "        'qpah': qpah,\n",
    "        'umin': umin,\n",
    "        'alpha': alpha,\n",
    "        'gamma': gamma,\n",
    "        'redshift': redshift,\n",
    "        'l_range': l_range,\n",
    "    }\n",
    ")\n",
    "\n",
    "widgets.HBox([sliders, figure])"
   ]
  },
  {
   "cell_type": "code",
   "execution_count": null,
   "id": "a794e036-0af6-416c-88d4-ea5903d538fb",
   "metadata": {},
   "outputs": [],
   "source": []
  }
 ],
 "metadata": {
  "kernelspec": {
   "display_name": "pcigale",
   "language": "python",
   "name": "pcigale"
  },
  "language_info": {
   "codemirror_mode": {
    "name": "ipython",
    "version": 3
   },
   "file_extension": ".py",
   "mimetype": "text/x-python",
   "name": "python",
   "nbconvert_exporter": "python",
   "pygments_lexer": "ipython3",
   "version": "3.10.13"
  }
 },
 "nbformat": 4,
 "nbformat_minor": 5
}
