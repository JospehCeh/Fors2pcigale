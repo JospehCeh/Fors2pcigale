{
 "cells": [
  {
   "cell_type": "markdown",
   "id": "838a1412-e02a-4aab-a725-76b5e725deb3",
   "metadata": {},
   "source": [
    "# Save pcigale fit results in a loop\n",
    "\n",
    "\n",
    "- author : Sylvie Dagoret-Campagne\n",
    "- affiliation : IJCLab/IN2P3/CNRS\n",
    "- creation date : 2024-02-08\n",
    "- uddate : 2024-02-08\n",
    "\n",
    "Find pcigale here https://cigale.lam.fr\n",
    "\n",
    "\n",
    "\n",
    "- adaptation : Sylvie Dagoret-Campagne from  https://cigale.lam.fr\n"
   ]
  },
  {
   "cell_type": "code",
   "execution_count": 1,
   "id": "2492c7f9-8f15-42e6-be38-41b68225132e",
   "metadata": {},
   "outputs": [],
   "source": [
    "#%pylab widget\n",
    "#import matplotlib.pyplot as plt\n",
    "#matplotlib.rcParams['figure.figsize'] = [9.,6.]"
   ]
  },
  {
   "cell_type": "code",
   "execution_count": 2,
   "id": "5cb99cca-6955-4889-9854-30599d0b0847",
   "metadata": {
    "tags": []
   },
   "outputs": [],
   "source": [
    "#%pylab widget\n",
    "import matplotlib.pyplot as plt\n",
    "%matplotlib inline\n",
    "\n",
    "import matplotlib.colors as colors\n",
    "import matplotlib.cm as cmx\n",
    "from matplotlib.colors import ListedColormap\n",
    "\n",
    "import matplotlib.gridspec as gridspec\n",
    "\n",
    "plt.rcParams['figure.figsize'] = [12.,6.]\n",
    "import seaborn as sns\n",
    "import h5py"
   ]
  },
  {
   "cell_type": "code",
   "execution_count": 3,
   "id": "3ca96cb2-7350-497e-b7a9-b7a334575019",
   "metadata": {},
   "outputs": [],
   "source": [
    "#bwr_map = plt.get_cmap('bwr')\n",
    "#reversed_map = bwr_map.reversed() \n",
    "#cNorm = colors.Normalize(0., vmax=1.)\n",
    "#scalarMap = cmx.ScalarMappable(norm=cNorm, cmap=bwr_map)\n",
    "#all_colors = scalarMap.to_rgba(df[\"zobs\"].values, alpha=1)\n"
   ]
  },
  {
   "cell_type": "code",
   "execution_count": 4,
   "id": "1b86c510-4ca6-4964-857e-f27f322f358e",
   "metadata": {},
   "outputs": [],
   "source": [
    "import numpy as np\n",
    "\n",
    "from IPython.display import display\n",
    "from ipywidgets import widgets\n",
    "from matplotlib import pyplot as plt\n",
    "\n",
    "from astropy.table import Table\n",
    "from astropy.io import fits\n",
    "from astropy import units as u\n",
    "from astropy import constants as ctes \n",
    "from scipy.constants import c\n",
    "\n",
    "from pcigale import sed\n",
    "from pcigale import sed_modules as modules\n",
    "from pcigale.warehouse import SedWarehouse\n",
    "from pcigale.data import SimpleDatabase\n",
    "import os,re"
   ]
  },
  {
   "cell_type": "markdown",
   "id": "5c2bf7c6-a808-442a-85d7-c0cd826ad5fe",
   "metadata": {},
   "source": [
    "## Configuration"
   ]
  },
  {
   "cell_type": "markdown",
   "id": "52ae8e01-08e5-4b0e-87de-3c8a2b963467",
   "metadata": {},
   "source": [
    "### Path where pcigale output results are"
   ]
  },
  {
   "cell_type": "code",
   "execution_count": 5,
   "id": "de3be944-f5ff-4525-9188-0f805396dddd",
   "metadata": {},
   "outputs": [],
   "source": [
    "path = \"20240205_181701_out\""
   ]
  },
  {
   "cell_type": "markdown",
   "id": "2a89f295-12bf-4fb0-9518-229c2499a82d",
   "metadata": {},
   "source": [
    "### Date of the run"
   ]
  },
  {
   "cell_type": "code",
   "execution_count": 6,
   "id": "6681f04c-0439-4957-a2f7-73df14bd5be6",
   "metadata": {},
   "outputs": [],
   "source": [
    "date = \"2024-02-05\""
   ]
  },
  {
   "cell_type": "markdown",
   "id": "ffdddc4d-9bee-4419-93e4-3fd1ab22019f",
   "metadata": {},
   "source": [
    "### Output file"
   ]
  },
  {
   "cell_type": "code",
   "execution_count": 7,
   "id": "042512bb-2400-487b-a771-9e9fffc291b2",
   "metadata": {},
   "outputs": [],
   "source": [
    "output_file_h5  = f\"FittedSSPspectraPcigale_{date}.hdf5\""
   ]
  },
  {
   "cell_type": "markdown",
   "id": "80d802d0-2936-4715-b4d6-9cbc8f155a2d",
   "metadata": {},
   "source": [
    "## Initialisation"
   ]
  },
  {
   "cell_type": "code",
   "execution_count": 8,
   "id": "b48042b3-3cfa-4e80-a6a5-c0121beb52e3",
   "metadata": {},
   "outputs": [],
   "source": [
    "def get_fitresults_dict(the_path):\n",
    "    \"\"\"\n",
    "    paramters:\n",
    "     - path : path where pcigale write results\n",
    "    \"\"\"\n",
    "    all_files_runpcigale = sorted(os.listdir(the_path))\n",
    "    spec_dict = {}\n",
    "    for idx,filename in enumerate(all_files_runpcigale):\n",
    "\n",
    "        # skip all file that are not ended by fits\n",
    "        if not re.search('.*[.]fits$',filename):\n",
    "            continue\n",
    "\n",
    "        # 1) decode the spec number\n",
    "        str_spec_found = re.findall('(^SPEC.+?)_.*', filename)\n",
    "        #print(\"\\t\", idx,\" \",filename,\" \", str_spec_found)\n",
    "        if len( str_spec_found) == 0:\n",
    "            print(f\"Skip filename {filename}\")\n",
    "            continue\n",
    "        str_spec_found = str_spec_found[0]\n",
    "  \n",
    "\n",
    "        if str_spec_found in spec_dict.keys():\n",
    "            #print(\"Found in dict \", spec_dict[str_spec_found])\n",
    "            pass\n",
    "        else:\n",
    "            #print(f\" ! {str_spec_found} NOT found in dict \")\n",
    "            spec_dict[str_spec_found] = {\"best_model\": None,\"SFH\":None}\n",
    "\n",
    "        d = spec_dict[str_spec_found]\n",
    "    \n",
    "        # 2) decode thefilename\n",
    "        str_file_found = re.findall('^SPEC.+_(.*)[.]fits$', filename)[0]\n",
    "        #print(idx,filename,str_file_found)\n",
    "\n",
    "        if str_file_found == \"SFH\":\n",
    "            d[\"SFH\"] = filename\n",
    "        elif str_file_found == \"model\":\n",
    "            d[\"best_model\"] = filename\n",
    "\n",
    "        spec_dict[str_spec_found] = d\n",
    "        \n",
    "    return spec_dict\n",
    "               \n",
    "    "
   ]
  },
  {
   "cell_type": "markdown",
   "id": "0daed278-2ce5-467a-bc78-a68de577ec98",
   "metadata": {},
   "source": [
    "## Input"
   ]
  },
  {
   "cell_type": "markdown",
   "id": "5a5dd10d-0afb-4779-83d4-a0670b2a155b",
   "metadata": {},
   "source": [
    "### Dictionary of file"
   ]
  },
  {
   "cell_type": "code",
   "execution_count": 9,
   "id": "16132a5b-a4a0-42be-9d43-21576a508168",
   "metadata": {},
   "outputs": [
    {
     "name": "stdout",
     "output_type": "stream",
     "text": [
      "Skip filename observations.fits\n",
      "Skip filename results.fits\n"
     ]
    }
   ],
   "source": [
    "spec_dict = get_fitresults_dict(path)"
   ]
  },
  {
   "cell_type": "markdown",
   "id": "5e4699b3-3833-4fea-806f-d1fcf5d5dba1",
   "metadata": {},
   "source": [
    "### Select spectrum"
   ]
  },
  {
   "cell_type": "code",
   "execution_count": 10,
   "id": "04d42963-a549-42b1-9ed8-9a354a03e22b",
   "metadata": {},
   "outputs": [
    {
     "data": {
      "text/plain": [
       "'SPEC117'"
      ]
     },
     "execution_count": 10,
     "metadata": {},
     "output_type": "execute_result"
    }
   ],
   "source": [
    "index = 10\n",
    "spec_name = list(spec_dict.keys())[index]\n",
    "spec_name"
   ]
  },
  {
   "cell_type": "code",
   "execution_count": 11,
   "id": "ef709c42-acf1-4115-8602-df913b880b3b",
   "metadata": {},
   "outputs": [
    {
     "data": {
      "text/plain": [
       "{'best_model': 'SPEC117_best_model.fits', 'SFH': 'SPEC117_SFH.fits'}"
      ]
     },
     "execution_count": 11,
     "metadata": {},
     "output_type": "execute_result"
    }
   ],
   "source": [
    "spec_dict[spec_name]"
   ]
  },
  {
   "cell_type": "code",
   "execution_count": 12,
   "id": "d9f55828-d2d8-47ed-924e-168bdfb37f4f",
   "metadata": {},
   "outputs": [],
   "source": [
    "file_best_model = os.path.join(path,spec_dict[spec_name]['best_model'])\n",
    "file_sfh = os.path.join(path,spec_dict[spec_name]['SFH'])"
   ]
  },
  {
   "cell_type": "code",
   "execution_count": 13,
   "id": "d216494d-92f0-40dd-9adc-f025f19d3f3a",
   "metadata": {},
   "outputs": [],
   "source": [
    "t_best = Table.read(file_best_model)\n",
    "t_sfh = Table.read(file_sfh)"
   ]
  },
  {
   "cell_type": "code",
   "execution_count": 14,
   "id": "d4403b46-044f-4f7b-8eca-a2ab17b25c9c",
   "metadata": {},
   "outputs": [
    {
     "data": {
      "text/html": [
       "<div><i>Table length=50</i>\n",
       "<table id=\"table5395822768\" class=\"table-striped table-bordered table-condensed\">\n",
       "<thead><tr><th>wavelength</th><th>Fnu</th><th>L_lambda_total</th><th>stellar.old</th><th>stellar.young</th><th>nebular.absorption_old</th><th>nebular.absorption_young</th><th>nebular.lines_old</th><th>nebular.lines_young</th><th>nebular.continuum_old</th><th>nebular.continuum_young</th><th>attenuation.stellar.old</th><th>attenuation.stellar.young</th><th>attenuation.nebular.lines_old</th><th>attenuation.nebular.lines_young</th><th>attenuation.nebular.continuum_old</th><th>attenuation.nebular.continuum_young</th><th>dust</th><th>igm</th></tr></thead>\n",
       "<thead><tr><th>nm</th><th>mJy</th><th>W / nm</th><th>W / nm</th><th>W / nm</th><th>W / nm</th><th>W / nm</th><th>W / nm</th><th>W / nm</th><th>W / nm</th><th>W / nm</th><th>W / nm</th><th>W / nm</th><th>W / nm</th><th>W / nm</th><th>W / nm</th><th>W / nm</th><th>W / nm</th><th>W / nm</th></tr></thead>\n",
       "<thead><tr><th>float64</th><th>float64</th><th>float64</th><th>float64</th><th>float64</th><th>float64</th><th>float64</th><th>float64</th><th>float64</th><th>float64</th><th>float64</th><th>float64</th><th>float64</th><th>float64</th><th>float64</th><th>float64</th><th>float64</th><th>float64</th><th>float64</th></tr></thead>\n",
       "<tr><td>13.175889999999999</td><td>2.101529514435313e-09</td><td>2.6960239702925726e+30</td><td>3.2889673621048796e+30</td><td>2.112864184690783e+30</td><td>-1.6444836810524398e+30</td><td>-1.0564320923453915e+30</td><td>0.0</td><td>0.0</td><td>0.0</td><td>0.0</td><td>0.0</td><td>0.0</td><td>0.0</td><td>0.0</td><td>0.0</td><td>0.0</td><td>0.0</td><td>-4.89180310525956e+27</td></tr>\n",
       "<tr><td>13.61026</td><td>2.6564775189585478e-09</td><td>3.193901202044958e+30</td><td>3.488930084428768e+30</td><td>2.911545079319271e+30</td><td>-1.744465042214384e+30</td><td>-1.4557725396596356e+30</td><td>0.0</td><td>0.0</td><td>0.0</td><td>0.0</td><td>0.0</td><td>0.0</td><td>0.0</td><td>0.0</td><td>0.0</td><td>0.0</td><td>0.0</td><td>-6.336379829062748e+27</td></tr>\n",
       "<tr><td>13.899840000000001</td><td>3.0863102478289126e-09</td><td>3.5576904246099563e+30</td><td>3.560440549399484e+30</td><td>3.5698987923987216e+30</td><td>-1.780220274699742e+30</td><td>-1.7849493961993608e+30</td><td>0.0</td><td>0.0</td><td>0.0</td><td>0.0</td><td>0.0</td><td>0.0</td><td>0.0</td><td>0.0</td><td>0.0</td><td>0.0</td><td>0.0</td><td>-7.479246289147339e+27</td></tr>\n",
       "<tr><td>14.18942</td><td>8.203966013065921e-09</td><td>9.074918663489288e+30</td><td>6.060758899019519e+30</td><td>1.212946294082785e+31</td><td>-3.0303794495097593e+30</td><td>-6.064731470413925e+30</td><td>0.0</td><td>0.0</td><td>0.0</td><td>0.0</td><td>0.0</td><td>0.0</td><td>0.0</td><td>0.0</td><td>0.0</td><td>0.0</td><td>0.0</td><td>-2.0192256434398373e+28</td></tr>\n",
       "<tr><td>14.479</td><td>1.9198930696936677e-08</td><td>2.039614454130444e+31</td><td>1.1273231526634653e+31</td><td>2.961501442374598e+31</td><td>-5.636615763317326e+30</td><td>-1.480750721187299e+31</td><td>0.0</td><td>0.0</td><td>0.0</td><td>0.0</td><td>0.0</td><td>0.0</td><td>0.0</td><td>0.0</td><td>0.0</td><td>0.0</td><td>0.0</td><td>-4.797843388587782e+28</td></tr>\n",
       "<tr><td>14.768580000000002</td><td>2.1429494957383564e-08</td><td>2.1881779250617656e+31</td><td>1.1621706675797708e+31</td><td>3.225056687123574e+31</td><td>-5.810853337898854e+30</td><td>-1.612528343561787e+31</td><td>0.0</td><td>0.0</td><td>0.0</td><td>0.0</td><td>0.0</td><td>0.0</td><td>0.0</td><td>0.0</td><td>0.0</td><td>0.0</td><td>0.0</td><td>-5.435752289906541e+28</td></tr>\n",
       "<tr><td>15.05816</td><td>2.213178488455036e-08</td><td>2.173806093570999e+31</td><td>1.1467560266278924e+31</td><td>3.212249435964649e+31</td><td>-5.733780133139462e+30</td><td>-1.6061247179823244e+31</td><td>0.0</td><td>0.0</td><td>0.0</td><td>0.0</td><td>0.0</td><td>0.0</td><td>0.0</td><td>0.0</td><td>0.0</td><td>0.0</td><td>0.0</td><td>-5.696637725271489e+28</td></tr>\n",
       "<tr><td>15.347740000000002</td><td>2.378084672966608e-08</td><td>2.248467545963037e+31</td><td>1.1572545980802227e+31</td><td>3.3520997173173144e+31</td><td>-5.786272990401114e+30</td><td>-1.6760498586586572e+31</td><td>0.0</td><td>0.0</td><td>0.0</td><td>0.0</td><td>0.0</td><td>0.0</td><td>0.0</td><td>0.0</td><td>0.0</td><td>0.0</td><td>0.0</td><td>-6.209611735731693e+28</td></tr>\n",
       "<tr><td>15.63732</td><td>2.5660673314920496e-08</td><td>2.337176854925026e+31</td><td>1.1645043766274473e+31</td><td>3.5234404516639534e+31</td><td>-5.822521883137237e+30</td><td>-1.7617202258319767e+31</td><td>0.0</td><td>0.0</td><td>0.0</td><td>0.0</td><td>0.0</td><td>0.0</td><td>0.0</td><td>0.0</td><td>0.0</td><td>0.0</td><td>0.0</td><td>-6.795559220674946e+28</td></tr>\n",
       "<tr><td>15.9269</td><td>3.039959345433933e-08</td><td>2.669029939370134e+31</td><td>1.23445295680363e+31</td><td>4.11993233836214e+31</td><td>-6.17226478401815e+30</td><td>-2.05996616918107e+31</td><td>0.0</td><td>0.0</td><td>0.0</td><td>0.0</td><td>0.0</td><td>0.0</td><td>0.0</td><td>0.0</td><td>0.0</td><td>0.0</td><td>0.0</td><td>-8.162708212749829e+28</td></tr>\n",
       "<tr><td>16.50606</td><td>3.537741794291244e-08</td><td>2.891927957035231e+31</td><td>1.2626256859705055e+31</td><td>4.540747774646541e+31</td><td>-6.313128429852528e+30</td><td>-2.2703738873232703e+31</td><td>0.0</td><td>0.0</td><td>0.0</td><td>0.0</td><td>0.0</td><td>0.0</td><td>0.0</td><td>0.0</td><td>0.0</td><td>0.0</td><td>0.0</td><td>-9.758773273291822e+28</td></tr>\n",
       "<tr><td>17.08522</td><td>3.9691011615002805e-08</td><td>3.0283020706401646e+31</td><td>1.2617762826618468e+31</td><td>4.817302715837412e+31</td><td>-6.308881413309234e+30</td><td>-2.408651357918706e+31</td><td>0.0</td><td>0.0</td><td>0.0</td><td>0.0</td><td>0.0</td><td>0.0</td><td>0.0</td><td>0.0</td><td>0.0</td><td>0.0</td><td>0.0</td><td>-1.1237428609464432e+29</td></tr>\n",
       "<tr><td>17.51959</td><td>8.015467704801867e-08</td><td>5.816063882701765e+31</td><td>1.5577508627964136e+31</td><td>1.0120632968463796e+32</td><td>-7.788754313982068e+30</td><td>-5.060316484231898e+31</td><td>0.0</td><td>0.0</td><td>0.0</td><td>0.0</td><td>0.0</td><td>0.0</td><td>0.0</td><td>0.0</td><td>0.0</td><td>0.0</td><td>0.0</td><td>-2.3128032928339807e+29</td></tr>\n",
       "<tr><td>18.09875</td><td>9.321665211918307e-08</td><td>6.337887342720263e+31</td><td>1.6189733685269868e+31</td><td>1.111193379232984e+32</td><td>-8.094866842634934e+30</td><td>-5.55596689616492e+31</td><td>0.0</td><td>0.0</td><td>0.0</td><td>0.0</td><td>0.0</td><td>0.0</td><td>0.0</td><td>0.0</td><td>0.0</td><td>0.0</td><td>0.0</td><td>-2.756623770815117e+29</td></tr>\n",
       "<tr><td>18.38833</td><td>9.946671661700968e-08</td><td>6.551509579256673e+31</td><td>1.6478203872249267e+31</td><td>1.151473812756831e+32</td><td>-8.239101936124633e+30</td><td>-5.757369063784155e+31</td><td>0.0</td><td>0.0</td><td>0.0</td><td>0.0</td><td>0.0</td><td>0.0</td><td>0.0</td><td>0.0</td><td>0.0</td><td>0.0</td><td>0.0</td><td>-2.976967813994405e+29</td></tr>\n",
       "<tr><td>18.53312</td><td>1.0371351871118053e-07</td><td>6.724909894688188e+31</td><td>1.671701104223007e+31</td><td>1.1840569468308363e+32</td><td>-8.358505521115036e+30</td><td>-5.920284734154181e+31</td><td>0.0</td><td>0.0</td><td>0.0</td><td>0.0</td><td>0.0</td><td>0.0</td><td>0.0</td><td>0.0</td><td>0.0</td><td>0.0</td><td>0.0</td><td>-3.122539157749702e+29</td></tr>\n",
       "<tr><td>18.96749</td><td>1.1036929136374236e-07</td><td>6.832453786991562e+31</td><td>1.6699520237571754e+31</td><td>1.2062589226500535e+32</td><td>-8.349760118785877e+30</td><td>-6.031294613250268e+31</td><td>0.0</td><td>0.0</td><td>0.0</td><td>0.0</td><td>0.0</td><td>0.0</td><td>0.0</td><td>0.0</td><td>0.0</td><td>0.0</td><td>0.0</td><td>-3.381683813728916e+29</td></tr>\n",
       "<tr><td>19.112280000000002</td><td>1.2448017905531755e-07</td><td>7.589678544180873e+31</td><td>1.7470041919470168e+31</td><td>1.3509073956819164e+32</td><td>-8.735020959735084e+30</td><td>-6.754536978409582e+31</td><td>0.0</td><td>0.0</td><td>0.0</td><td>0.0</td><td>0.0</td><td>0.0</td><td>0.0</td><td>0.0</td><td>0.0</td><td>0.0</td><td>0.0</td><td>-3.836053020221633e+29</td></tr>\n",
       "<tr><td>19.40186</td><td>1.292273662623466e-07</td><td>7.645676819599822e+31</td><td>1.726192328499002e+31</td><td>1.3645720168118339e+32</td><td>-8.63096164249501e+30</td><td>-6.8228600840591695e+31</td><td>0.0</td><td>0.0</td><td>0.0</td><td>0.0</td><td>0.0</td><td>0.0</td><td>0.0</td><td>0.0</td><td>0.0</td><td>0.0</td><td>0.0</td><td>-4.027942870884836e+29</td></tr>\n",
       "<tr><td>19.83623</td><td>1.5721484651759745e-07</td><td>8.898636401259685e+31</td><td>1.8848426189693498e+31</td><td>1.6012093625804245e+32</td><td>-9.424213094846749e+30</td><td>-8.006046812902122e+31</td><td>0.0</td><td>0.0</td><td>0.0</td><td>0.0</td><td>0.0</td><td>0.0</td><td>0.0</td><td>0.0</td><td>0.0</td><td>0.0</td><td>0.0</td><td>-4.983172112711168e+29</td></tr>\n",
       "<tr><td>20.270599999999998</td><td>1.6865409941848304e-07</td><td>9.14138227418436e+31</td><td>1.9094000841382788e+31</td><td>1.6482049394501665e+32</td><td>-9.547000420691394e+30</td><td>-8.241024697250832e+31</td><td>0.0</td><td>0.0</td><td>0.0</td><td>0.0</td><td>0.0</td><td>0.0</td><td>0.0</td><td>0.0</td><td>0.0</td><td>0.0</td><td>0.0</td><td>-5.4342465135611565e+29</td></tr>\n",
       "<tr><td>20.70497</td><td>4.070929837382572e-07</td><td>2.114913369033287e+32</td><td>3.0738180649236306e+31</td><td>3.9491042719734514e+32</td><td>-1.5369090324618153e+31</td><td>-1.9745521359867257e+32</td><td>0.0</td><td>0.0</td><td>0.0</td><td>0.0</td><td>0.0</td><td>0.0</td><td>0.0</td><td>0.0</td><td>0.0</td><td>0.0</td><td>0.0</td><td>-1.3329670199620735e+30</td></tr>\n",
       "<tr><td>...</td><td>...</td><td>...</td><td>...</td><td>...</td><td>...</td><td>...</td><td>...</td><td>...</td><td>...</td><td>...</td><td>...</td><td>...</td><td>...</td><td>...</td><td>...</td><td>...</td><td>...</td><td>...</td></tr>\n",
       "<tr><td>24.035140000000002</td><td>1.2240648785380842e-06</td><td>4.7191013125450576e+32</td><td>6.242291632484081e+31</td><td>8.903764278699542e+32</td><td>-3.1211458162420403e+31</td><td>-4.451882139349771e+32</td><td>0.0</td><td>0.0</td><td>0.0</td><td>0.0</td><td>0.0</td><td>0.0</td><td>0.0</td><td>0.0</td><td>0.0</td><td>0.0</td><td>0.0</td><td>-4.4895408428918995e+30</td></tr>\n",
       "<tr><td>24.6143</td><td>1.302132477052816e-06</td><td>4.786613576686492e+32</td><td>6.3773561236110305e+31</td><td>9.032761256215654e+32</td><td>-3.1886780618055153e+31</td><td>-4.516380628107827e+32</td><td>0.0</td><td>0.0</td><td>0.0</td><td>0.0</td><td>0.0</td><td>0.0</td><td>0.0</td><td>0.0</td><td>0.0</td><td>0.0</td><td>0.0</td><td>-4.8634857601887025e+30</td></tr>\n",
       "<tr><td>25.04867</td><td>1.3481965568826207e-06</td><td>4.7855520865880425e+32</td><td>6.285217589615724e+31</td><td>9.044648613915208e+32</td><td>-3.142608794807862e+31</td><td>-4.522324306957604e+32</td><td>0.0</td><td>0.0</td><td>0.0</td><td>0.0</td><td>0.0</td><td>0.0</td><td>0.0</td><td>0.0</td><td>0.0</td><td>0.0</td><td>0.0</td><td>-5.103309985034723e+30</td></tr>\n",
       "<tr><td>25.62783</td><td>1.4493483867690337e-06</td><td>4.914703233965808e+32</td><td>6.658231548222396e+31</td><td>9.275243051646287e+32</td><td>-3.329115774111198e+31</td><td>-4.6376215258231436e+32</td><td>0.0</td><td>0.0</td><td>0.0</td><td>0.0</td><td>0.0</td><td>0.0</td><td>0.0</td><td>0.0</td><td>0.0</td><td>0.0</td><td>0.0</td><td>-5.582986926845563e+30</td></tr>\n",
       "<tr><td>26.0622</td><td>1.5153267547911048e-06</td><td>4.9685803921574196e+32</td><td>6.762632172975998e+31</td><td>9.379152914574419e+32</td><td>-3.381316086487999e+31</td><td>-4.6895764572872095e+32</td><td>0.0</td><td>0.0</td><td>0.0</td><td>0.0</td><td>0.0</td><td>0.0</td><td>0.0</td><td>0.0</td><td>0.0</td><td>0.0</td><td>0.0</td><td>-5.912767377858926e+30</td></tr>\n",
       "<tr><td>26.351779999999998</td><td>1.5624712600775258e-06</td><td>5.011183451299457e+32</td><td>6.842014085496941e+31</td><td>9.461137176382872e+32</td><td>-3.4210070427484704e+31</td><td>-4.730568588191436e+32</td><td>0.0</td><td>0.0</td><td>0.0</td><td>0.0</td><td>0.0</td><td>0.0</td><td>0.0</td><td>0.0</td><td>0.0</td><td>0.0</td><td>0.0</td><td>-6.148584116682645e+30</td></tr>\n",
       "<tr><td>26.93094</td><td>1.6540162758956982e-06</td><td>5.079078562082618e+32</td><td>6.9821037313600255e+31</td><td>9.592313075870933e+32</td><td>-3.4910518656800128e+31</td><td>-4.796156537935466e+32</td><td>0.0</td><td>0.0</td><td>0.0</td><td>0.0</td><td>0.0</td><td>0.0</td><td>0.0</td><td>0.0</td><td>0.0</td><td>0.0</td><td>0.0</td><td>-6.618316242084986e+30</td></tr>\n",
       "<tr><td>27.65489</td><td>1.772564467217875e-06</td><td>5.161861466320477e+32</td><td>7.157039993577429e+31</td><td>9.752793844873542e+32</td><td>-3.5785199967887144e+31</td><td>-4.876396922436771e+32</td><td>0.0</td><td>0.0</td><td>0.0</td><td>0.0</td><td>0.0</td><td>0.0</td><td>0.0</td><td>0.0</td><td>0.0</td><td>0.0</td><td>0.0</td><td>-7.238745579516688e+30</td></tr>\n",
       "<tr><td>28.089260000000003</td><td>1.8589801923336482e-06</td><td>5.2473779083754366e+32</td><td>7.312017956002931e+31</td><td>9.917219048718394e+32</td><td>-3.6560089780014656e+31</td><td>-4.958609524359197e+32</td><td>0.0</td><td>0.0</td><td>0.0</td><td>0.0</td><td>0.0</td><td>0.0</td><td>0.0</td><td>0.0</td><td>0.0</td><td>0.0</td><td>0.0</td><td>-7.683251378390714e+30</td></tr>\n",
       "<tr><td>28.66842</td><td>1.953261029557607e-06</td><td>5.292988432990291e+32</td><td>7.420328875932571e+31</td><td>1.0007961720573553e+33</td><td>-3.7101644379662855e+31</td><td>-5.003980860286776e+32</td><td>0.0</td><td>0.0</td><td>0.0</td><td>0.0</td><td>0.0</td><td>0.0</td><td>0.0</td><td>0.0</td><td>0.0</td><td>0.0</td><td>0.0</td><td>-8.200887109311368e+30</td></tr>\n",
       "<tr><td>29.247580000000003</td><td>2.0676314809647106e-06</td><td>5.383211426655263e+32</td><td>7.583310925200776e+31</td><td>1.0184414200999085e+33</td><td>-3.791655462600388e+31</td><td>-5.092207100499543e+32</td><td>0.0</td><td>0.0</td><td>0.0</td><td>0.0</td><td>0.0</td><td>0.0</td><td>0.0</td><td>0.0</td><td>0.0</td><td>0.0</td><td>0.0</td><td>-8.816122010432022e+30</td></tr>\n",
       "<tr><td>29.68195</td><td>2.1466085073760237e-06</td><td>5.426454479093942e+32</td><td>7.687558412931368e+31</td><td>1.0269308146889728e+33</td><td>-3.843779206465684e+31</td><td>-5.134654073444864e+32</td><td>0.0</td><td>0.0</td><td>0.0</td><td>0.0</td><td>0.0</td><td>0.0</td><td>0.0</td><td>0.0</td><td>0.0</td><td>0.0</td><td>0.0</td><td>-9.257751499749016e+30</td></tr>\n",
       "<tr><td>30.4059</td><td>2.1890681453445818e-06</td><td>5.2734123497165994e+32</td><td>7.5288058545219765e+31</td><td>9.986316811135005e+32</td><td>-3.7644029272609882e+31</td><td>-4.9931584055675026e+32</td><td>0.0</td><td>0.0</td><td>0.0</td><td>0.0</td><td>0.0</td><td>0.0</td><td>0.0</td><td>0.0</td><td>0.0</td><td>0.0</td><td>0.0</td><td>-9.618634857700324e+30</td></tr>\n",
       "<tr><td>31.27464</td><td>2.45174919051517e-06</td><td>5.5826394263214765e+32</td><td>8.026194492288334e+31</td><td>1.0582877593029244e+33</td><td>-4.013097246144167e+31</td><td>-5.291438796514622e+32</td><td>0.0</td><td>0.0</td><td>0.0</td><td>0.0</td><td>0.0</td><td>0.0</td><td>0.0</td><td>0.0</td><td>0.0</td><td>0.0</td><td>0.0</td><td>-1.1010909480756265e+31</td></tr>\n",
       "<tr><td>31.8538</td><td>2.581296227060976e-06</td><td>5.6658298101561265e+32</td><td>8.191388896078689e+31</td><td>1.0747706980963399e+33</td><td>-4.095694448039344e+31</td><td>-5.3738534904816994e+32</td><td>0.0</td><td>0.0</td><td>0.0</td><td>0.0</td><td>0.0</td><td>0.0</td><td>0.0</td><td>0.0</td><td>0.0</td><td>0.0</td><td>0.0</td><td>-1.1759312512950656e+31</td></tr>\n",
       "<tr><td>32.28817</td><td>2.63757514872153e-06</td><td>5.634639769691028e+32</td><td>8.186317030326129e+31</td><td>1.0693510318979128e+33</td><td>-4.093158515163064e+31</td><td>-5.346755159489564e+32</td><td>0.0</td><td>0.0</td><td>0.0</td><td>0.0</td><td>0.0</td><td>0.0</td><td>0.0</td><td>0.0</td><td>0.0</td><td>0.0</td><td>0.0</td><td>-1.214312413148431e+31</td></tr>\n",
       "<tr><td>32.86733</td><td>2.792605531142031e-06</td><td>5.757433355950666e+32</td><td>8.389778429402263e+31</td><td>1.0936617520437558e+33</td><td>-4.194889214701132e+31</td><td>-5.468308760218779e+32</td><td>0.0</td><td>0.0</td><td>0.0</td><td>0.0</td><td>0.0</td><td>0.0</td><td>0.0</td><td>0.0</td><td>0.0</td><td>0.0</td><td>0.0</td><td>-1.303643257382254e+31</td></tr>\n",
       "<tr><td>33.3017</td><td>4.1222786505174225e-06</td><td>8.278520206576737e+32</td><td>1.2025074846108985e+32</td><td>1.5743374263156403e+33</td><td>-6.012537423054492e+31</td><td>-7.871687131578202e+32</td><td>0.0</td><td>0.0</td><td>0.0</td><td>0.0</td><td>0.0</td><td>0.0</td><td>0.0</td><td>0.0</td><td>0.0</td><td>0.0</td><td>0.0</td><td>-1.944206673069127e+31</td></tr>\n",
       "<tr><td>33.880860000000006</td><td>7.550451558916815e-06</td><td>1.464914409425174e+33</td><td>1.9440731099753348e+32</td><td>2.807610296550289e+33</td><td>-9.720365549876674e+31</td><td>-1.4038051482751446e+33</td><td>0.0</td><td>0.0</td><td>0.0</td><td>0.0</td><td>0.0</td><td>0.0</td><td>0.0</td><td>0.0</td><td>0.0</td><td>0.0</td><td>0.0</td><td>-3.609439434873739e+31</td></tr>\n",
       "<tr><td>34.7496</td><td>9.201865881682895e-06</td><td>1.697166519605093e+33</td><td>2.3384760402853072e+32</td><td>3.250228723454388e+33</td><td>-1.1692380201426536e+32</td><td>-1.625114361727194e+33</td><td>0.0</td><td>0.0</td><td>0.0</td><td>0.0</td><td>0.0</td><td>0.0</td><td>0.0</td><td>0.0</td><td>0.0</td><td>0.0</td><td>0.0</td><td>-4.4871644136366315e+31</td></tr>\n",
       "<tr><td>35.61834</td><td>8.89015781754496e-06</td><td>1.56066717643407e+33</td><td>2.1493354509166663e+32</td><td>2.994806126816275e+33</td><td>-1.0746677254583332e+32</td><td>-1.4974030634081375e+33</td><td>0.0</td><td>0.0</td><td>0.0</td><td>0.0</td><td>0.0</td><td>0.0</td><td>0.0</td><td>0.0</td><td>0.0</td><td>0.0</td><td>0.0</td><td>-4.420265951990044e+31</td></tr>\n",
       "<tr><td>36.487080000000006</td><td>9.433233823861558e-06</td><td>1.5780856041640996e+33</td><td>2.221514951184881e+32</td><td>3.029628127919311e+33</td><td>-1.1107574755924405e+32</td><td>-1.5148140639596555e+33</td><td>0.0</td><td>0.0</td><td>0.0</td><td>0.0</td><td>0.0</td><td>0.0</td><td>0.0</td><td>0.0</td><td>0.0</td><td>0.0</td><td>0.0</td><td>-4.7804207354799505e+31</td></tr>\n",
       "<tr><td>37.21103</td><td>8.11952399021321e-06</td><td>1.3059765016045502e+33</td><td>1.8247743803081428e+32</td><td>2.513060328763646e+33</td><td>-9.123871901540714e+31</td><td>-1.256530164381823e+33</td><td>0.0</td><td>0.0</td><td>0.0</td><td>0.0</td><td>0.0</td><td>0.0</td><td>0.0</td><td>0.0</td><td>0.0</td><td>0.0</td><td>0.0</td><td>-4.179238179268007e+31</td></tr>\n",
       "</table></div>"
      ],
      "text/plain": [
       "<Table length=50>\n",
       "    wavelength              Fnu               L_lambda_total          stellar.old       ... attenuation.nebular.continuum_young   dust            igm          \n",
       "        nm                  mJy                   W / nm                 W / nm         ...                W / nm                W / nm          W / nm        \n",
       "     float64              float64                float64                float64         ...               float64               float64         float64        \n",
       "------------------ ---------------------- ---------------------- ---------------------- ... ----------------------------------- ------- -----------------------\n",
       "13.175889999999999  2.101529514435313e-09 2.6960239702925726e+30 3.2889673621048796e+30 ...                                 0.0     0.0   -4.89180310525956e+27\n",
       "          13.61026 2.6564775189585478e-09  3.193901202044958e+30  3.488930084428768e+30 ...                                 0.0     0.0  -6.336379829062748e+27\n",
       "13.899840000000001 3.0863102478289126e-09 3.5576904246099563e+30  3.560440549399484e+30 ...                                 0.0     0.0  -7.479246289147339e+27\n",
       "          14.18942  8.203966013065921e-09  9.074918663489288e+30  6.060758899019519e+30 ...                                 0.0     0.0 -2.0192256434398373e+28\n",
       "            14.479 1.9198930696936677e-08  2.039614454130444e+31 1.1273231526634653e+31 ...                                 0.0     0.0  -4.797843388587782e+28\n",
       "14.768580000000002 2.1429494957383564e-08 2.1881779250617656e+31 1.1621706675797708e+31 ...                                 0.0     0.0  -5.435752289906541e+28\n",
       "          15.05816  2.213178488455036e-08  2.173806093570999e+31 1.1467560266278924e+31 ...                                 0.0     0.0  -5.696637725271489e+28\n",
       "15.347740000000002  2.378084672966608e-08  2.248467545963037e+31 1.1572545980802227e+31 ...                                 0.0     0.0  -6.209611735731693e+28\n",
       "          15.63732 2.5660673314920496e-08  2.337176854925026e+31 1.1645043766274473e+31 ...                                 0.0     0.0  -6.795559220674946e+28\n",
       "           15.9269  3.039959345433933e-08  2.669029939370134e+31   1.23445295680363e+31 ...                                 0.0     0.0  -8.162708212749829e+28\n",
       "          16.50606  3.537741794291244e-08  2.891927957035231e+31 1.2626256859705055e+31 ...                                 0.0     0.0  -9.758773273291822e+28\n",
       "          17.08522 3.9691011615002805e-08 3.0283020706401646e+31 1.2617762826618468e+31 ...                                 0.0     0.0 -1.1237428609464432e+29\n",
       "          17.51959  8.015467704801867e-08  5.816063882701765e+31 1.5577508627964136e+31 ...                                 0.0     0.0 -2.3128032928339807e+29\n",
       "          18.09875  9.321665211918307e-08  6.337887342720263e+31 1.6189733685269868e+31 ...                                 0.0     0.0  -2.756623770815117e+29\n",
       "          18.38833  9.946671661700968e-08  6.551509579256673e+31 1.6478203872249267e+31 ...                                 0.0     0.0  -2.976967813994405e+29\n",
       "          18.53312 1.0371351871118053e-07  6.724909894688188e+31  1.671701104223007e+31 ...                                 0.0     0.0  -3.122539157749702e+29\n",
       "          18.96749 1.1036929136374236e-07  6.832453786991562e+31 1.6699520237571754e+31 ...                                 0.0     0.0  -3.381683813728916e+29\n",
       "19.112280000000002 1.2448017905531755e-07  7.589678544180873e+31 1.7470041919470168e+31 ...                                 0.0     0.0  -3.836053020221633e+29\n",
       "          19.40186  1.292273662623466e-07  7.645676819599822e+31  1.726192328499002e+31 ...                                 0.0     0.0  -4.027942870884836e+29\n",
       "          19.83623 1.5721484651759745e-07  8.898636401259685e+31 1.8848426189693498e+31 ...                                 0.0     0.0  -4.983172112711168e+29\n",
       "20.270599999999998 1.6865409941848304e-07   9.14138227418436e+31 1.9094000841382788e+31 ...                                 0.0     0.0 -5.4342465135611565e+29\n",
       "          20.70497  4.070929837382572e-07  2.114913369033287e+32 3.0738180649236306e+31 ...                                 0.0     0.0 -1.3329670199620735e+30\n",
       "               ...                    ...                    ...                    ... ...                                 ...     ...                     ...\n",
       "24.035140000000002 1.2240648785380842e-06 4.7191013125450576e+32  6.242291632484081e+31 ...                                 0.0     0.0 -4.4895408428918995e+30\n",
       "           24.6143  1.302132477052816e-06  4.786613576686492e+32 6.3773561236110305e+31 ...                                 0.0     0.0 -4.8634857601887025e+30\n",
       "          25.04867 1.3481965568826207e-06 4.7855520865880425e+32  6.285217589615724e+31 ...                                 0.0     0.0  -5.103309985034723e+30\n",
       "          25.62783 1.4493483867690337e-06  4.914703233965808e+32  6.658231548222396e+31 ...                                 0.0     0.0  -5.582986926845563e+30\n",
       "           26.0622 1.5153267547911048e-06 4.9685803921574196e+32  6.762632172975998e+31 ...                                 0.0     0.0  -5.912767377858926e+30\n",
       "26.351779999999998 1.5624712600775258e-06  5.011183451299457e+32  6.842014085496941e+31 ...                                 0.0     0.0  -6.148584116682645e+30\n",
       "          26.93094 1.6540162758956982e-06  5.079078562082618e+32 6.9821037313600255e+31 ...                                 0.0     0.0  -6.618316242084986e+30\n",
       "          27.65489  1.772564467217875e-06  5.161861466320477e+32  7.157039993577429e+31 ...                                 0.0     0.0  -7.238745579516688e+30\n",
       "28.089260000000003 1.8589801923336482e-06 5.2473779083754366e+32  7.312017956002931e+31 ...                                 0.0     0.0  -7.683251378390714e+30\n",
       "          28.66842  1.953261029557607e-06  5.292988432990291e+32  7.420328875932571e+31 ...                                 0.0     0.0  -8.200887109311368e+30\n",
       "29.247580000000003 2.0676314809647106e-06  5.383211426655263e+32  7.583310925200776e+31 ...                                 0.0     0.0  -8.816122010432022e+30\n",
       "          29.68195 2.1466085073760237e-06  5.426454479093942e+32  7.687558412931368e+31 ...                                 0.0     0.0  -9.257751499749016e+30\n",
       "           30.4059 2.1890681453445818e-06 5.2734123497165994e+32 7.5288058545219765e+31 ...                                 0.0     0.0  -9.618634857700324e+30\n",
       "          31.27464   2.45174919051517e-06 5.5826394263214765e+32  8.026194492288334e+31 ...                                 0.0     0.0 -1.1010909480756265e+31\n",
       "           31.8538  2.581296227060976e-06 5.6658298101561265e+32  8.191388896078689e+31 ...                                 0.0     0.0 -1.1759312512950656e+31\n",
       "          32.28817   2.63757514872153e-06  5.634639769691028e+32  8.186317030326129e+31 ...                                 0.0     0.0  -1.214312413148431e+31\n",
       "          32.86733  2.792605531142031e-06  5.757433355950666e+32  8.389778429402263e+31 ...                                 0.0     0.0  -1.303643257382254e+31\n",
       "           33.3017 4.1222786505174225e-06  8.278520206576737e+32 1.2025074846108985e+32 ...                                 0.0     0.0  -1.944206673069127e+31\n",
       "33.880860000000006  7.550451558916815e-06  1.464914409425174e+33 1.9440731099753348e+32 ...                                 0.0     0.0  -3.609439434873739e+31\n",
       "           34.7496  9.201865881682895e-06  1.697166519605093e+33 2.3384760402853072e+32 ...                                 0.0     0.0 -4.4871644136366315e+31\n",
       "          35.61834   8.89015781754496e-06   1.56066717643407e+33 2.1493354509166663e+32 ...                                 0.0     0.0  -4.420265951990044e+31\n",
       "36.487080000000006  9.433233823861558e-06 1.5780856041640996e+33  2.221514951184881e+32 ...                                 0.0     0.0 -4.7804207354799505e+31\n",
       "          37.21103   8.11952399021321e-06 1.3059765016045502e+33 1.8247743803081428e+32 ...                                 0.0     0.0  -4.179238179268007e+31"
      ]
     },
     "execution_count": 14,
     "metadata": {},
     "output_type": "execute_result"
    }
   ],
   "source": [
    "t_best[:50]"
   ]
  },
  {
   "cell_type": "code",
   "execution_count": 15,
   "id": "77bae4bb-2aae-4401-a1b3-0726284fe955",
   "metadata": {},
   "outputs": [
    {
     "data": {
      "text/plain": [
       "['wavelength',\n",
       " 'Fnu',\n",
       " 'L_lambda_total',\n",
       " 'stellar.old',\n",
       " 'stellar.young',\n",
       " 'nebular.absorption_old',\n",
       " 'nebular.absorption_young',\n",
       " 'nebular.lines_old',\n",
       " 'nebular.lines_young',\n",
       " 'nebular.continuum_old',\n",
       " 'nebular.continuum_young',\n",
       " 'attenuation.stellar.old',\n",
       " 'attenuation.stellar.young',\n",
       " 'attenuation.nebular.lines_old',\n",
       " 'attenuation.nebular.lines_young',\n",
       " 'attenuation.nebular.continuum_old',\n",
       " 'attenuation.nebular.continuum_young',\n",
       " 'dust',\n",
       " 'igm']"
      ]
     },
     "execution_count": 15,
     "metadata": {},
     "output_type": "execute_result"
    }
   ],
   "source": [
    "list(t_best.columns)"
   ]
  },
  {
   "cell_type": "markdown",
   "id": "b9f2fee9-5209-4d05-bc9c-8c95c3d47944",
   "metadata": {},
   "source": [
    "## Read all results"
   ]
  },
  {
   "cell_type": "code",
   "execution_count": 16,
   "id": "43cdf00f-35cb-43ff-b39a-f6f47db87a78",
   "metadata": {},
   "outputs": [],
   "source": [
    "t_res = Table.read(os.path.join(path,'results.fits'))"
   ]
  },
  {
   "cell_type": "code",
   "execution_count": 17,
   "id": "e83488b8-0c58-41d1-9102-629f0ceec78b",
   "metadata": {},
   "outputs": [
    {
     "data": {
      "text/html": [
       "<div><i>Table length=4</i>\n",
       "<table id=\"table5397598208\" class=\"table-striped table-bordered table-condensed\">\n",
       "<thead><tr><th>id</th><th>bayes.sfh.sfr</th><th>bayes.sfh.sfr_err</th><th>bayes.sfh.sfr100Myrs</th><th>bayes.sfh.sfr100Myrs_err</th><th>bayes.sfh.sfr10Myrs</th><th>bayes.sfh.sfr10Myrs_err</th><th>bayes.galex.FUV</th><th>bayes.galex.FUV_err</th><th>bayes.galex.NUV</th><th>bayes.galex.NUV_err</th><th>bayes.sdss.gp</th><th>bayes.sdss.gp_err</th><th>bayes.sdss.ip</th><th>bayes.sdss.ip_err</th><th>bayes.sdss.rp</th><th>bayes.sdss.rp_err</th><th>bayes.sdss.up</th><th>bayes.sdss.up_err</th><th>bayes.vista.vircam.H</th><th>bayes.vista.vircam.H_err</th><th>bayes.vista.vircam.J</th><th>bayes.vista.vircam.J_err</th><th>bayes.vista.vircam.Ks</th><th>bayes.vista.vircam.Ks_err</th><th>bayes.vista.vircam.Y</th><th>bayes.vista.vircam.Y_err</th><th>bayes.vista.vircam.Z</th><th>bayes.vista.vircam.Z_err</th><th>best.chi_square</th><th>best.reduced_chi_square</th><th>best.agn.fracAGN_dale2014</th><th>best.attenuation.B_B90</th><th>best.attenuation.E_BV_factor</th><th>best.attenuation.E_BV_lines</th><th>best.attenuation.E_BVs</th><th>best.attenuation.FUV</th><th>best.attenuation.V_B90</th><th>best.attenuation.powerlaw_slope</th><th>best.attenuation.uv_bump_amplitude</th><th>best.attenuation.uv_bump_wavelength</th><th>best.attenuation.uv_bump_width</th><th>best.dust.alpha</th><th>best.nebular.f_dust</th><th>best.nebular.f_esc</th><th>best.nebular.lines_width</th><th>best.nebular.logU</th><th>best.nebular.ne</th><th>best.nebular.zgas</th><th>best.param.EW(500.7/1.0)</th><th>best.param.EW(656.3/1.0)</th><th>best.param.restframe_FUV-NUV</th><th>best.param.restframe_NUV-r_prime</th><th>best.sfh.age</th><th>best.sfh.age_burst</th><th>best.sfh.age_main</th><th>best.sfh.f_burst</th><th>best.sfh.tau_burst</th><th>best.sfh.tau_main</th><th>best.stellar.age_m_star</th><th>best.stellar.imf</th><th>best.stellar.metallicity</th><th>best.stellar.old_young_separation_age</th><th>best.universe.age</th><th>best.universe.luminosity_distance</th><th>best.universe.redshift</th><th>best.dust.luminosity</th><th>best.param.restframe_Lnu(FUV)</th><th>best.param.restframe_Lnu(V_B90)</th><th>best.sfh.integrated</th><th>best.sfh.sfr</th><th>best.sfh.sfr100Myrs</th><th>best.sfh.sfr10Myrs</th><th>best.stellar.lum</th><th>best.stellar.lum_ly</th><th>best.stellar.lum_ly_old</th><th>best.stellar.lum_ly_young</th><th>best.stellar.lum_old</th><th>best.stellar.lum_young</th><th>best.stellar.m_gas</th><th>best.stellar.m_gas_old</th><th>best.stellar.m_gas_young</th><th>best.stellar.m_star</th><th>best.stellar.m_star_old</th><th>best.stellar.m_star_young</th><th>best.stellar.n_ly</th><th>best.stellar.n_ly_old</th><th>best.stellar.n_ly_young</th><th>best.galex.FUV</th><th>best.galex.NUV</th><th>best.sdss.up</th><th>best.sdss.gp</th><th>best.sdss.rp</th><th>best.sdss.ip</th><th>best.vista.vircam.Z</th><th>best.vista.vircam.Y</th><th>best.vista.vircam.J</th><th>best.vista.vircam.H</th><th>best.vista.vircam.Ks</th></tr></thead>\n",
       "<thead><tr><th></th><th>solMass / yr</th><th>solMass / yr</th><th>solMass / yr</th><th>solMass / yr</th><th>solMass / yr</th><th>solMass / yr</th><th>mJy</th><th>mJy</th><th>mJy</th><th>mJy</th><th>mJy</th><th>mJy</th><th>mJy</th><th>mJy</th><th>mJy</th><th>mJy</th><th>mJy</th><th>mJy</th><th>mJy</th><th>mJy</th><th>mJy</th><th>mJy</th><th>mJy</th><th>mJy</th><th>mJy</th><th>mJy</th><th>mJy</th><th>mJy</th><th></th><th></th><th></th><th>mag</th><th></th><th>mag</th><th>mag</th><th>mag</th><th>mag</th><th></th><th></th><th>nm</th><th>nm</th><th></th><th></th><th></th><th>km / s</th><th></th><th>1 / cm3</th><th></th><th>nm</th><th>nm</th><th>mag</th><th>mag</th><th>Myr</th><th>Myr</th><th>Myr</th><th></th><th>Myr</th><th>Myr</th><th>Myr</th><th></th><th></th><th>Myr</th><th>Myr</th><th>m</th><th></th><th>W</th><th>W / Hz</th><th>W / Hz</th><th>solMass</th><th>solMass / yr</th><th>solMass / yr</th><th>solMass / yr</th><th>W</th><th>W</th><th>W</th><th>W</th><th>W</th><th>W</th><th>solMass</th><th>solMass</th><th>solMass</th><th>solMass</th><th>solMass</th><th>solMass</th><th>ph / s</th><th>ph / s</th><th>ph / s</th><th>mJy</th><th>mJy</th><th>mJy</th><th>mJy</th><th>mJy</th><th>mJy</th><th>mJy</th><th>mJy</th><th>mJy</th><th>mJy</th><th>mJy</th></tr></thead>\n",
       "<thead><tr><th>bytes7</th><th>float64</th><th>float64</th><th>float64</th><th>float64</th><th>float64</th><th>float64</th><th>float64</th><th>float64</th><th>float64</th><th>float64</th><th>float64</th><th>float64</th><th>float64</th><th>float64</th><th>float64</th><th>float64</th><th>float64</th><th>float64</th><th>float64</th><th>float64</th><th>float64</th><th>float64</th><th>float64</th><th>float64</th><th>float64</th><th>float64</th><th>float64</th><th>float64</th><th>float64</th><th>float64</th><th>float64</th><th>float64</th><th>float64</th><th>float64</th><th>float64</th><th>float64</th><th>float64</th><th>float64</th><th>float64</th><th>float64</th><th>float64</th><th>float64</th><th>float64</th><th>float64</th><th>float64</th><th>float64</th><th>float64</th><th>float64</th><th>float64</th><th>float64</th><th>float64</th><th>float64</th><th>float64</th><th>float64</th><th>float64</th><th>float64</th><th>float64</th><th>float64</th><th>float64</th><th>float64</th><th>float64</th><th>float64</th><th>float64</th><th>float64</th><th>float64</th><th>float64</th><th>float64</th><th>float64</th><th>float64</th><th>float64</th><th>float64</th><th>float64</th><th>float64</th><th>float64</th><th>float64</th><th>float64</th><th>float64</th><th>float64</th><th>float64</th><th>float64</th><th>float64</th><th>float64</th><th>float64</th><th>float64</th><th>float64</th><th>float64</th><th>float64</th><th>float64</th><th>float64</th><th>float64</th><th>float64</th><th>float64</th><th>float64</th><th>float64</th><th>float64</th><th>float64</th><th>float64</th><th>float64</th></tr></thead>\n",
       "<tr><td>SPEC2</td><td>2.690478051334213</td><td>0.13452390256671065</td><td>2.7306441667975</td><td>0.136532208339875</td><td>2.6941116254730453</td><td>0.13470558127365226</td><td>0.0012892816551357742</td><td>1.4529673845824113e-07</td><td>0.002094805021122464</td><td>1.8696412446796292e-07</td><td>0.0039717213021012365</td><td>6.371424773760015e-07</td><td>0.012850990311673388</td><td>4.608342572288812e-06</td><td>0.009499652132380684</td><td>3.6978021497132776e-06</td><td>0.002668790520240912</td><td>5.869741482106958e-07</td><td>0.04194658852328467</td><td>5.272983069708891e-05</td><td>0.02972901209233811</td><td>1.431826882052124e-05</td><td>0.05321737326562015</td><td>7.616095605928444e-05</td><td>0.020362735770203262</td><td>1.7386491140926047e-06</td><td>0.016095554880481845</td><td>4.199553401553351e-06</td><td>58.31252776201896</td><td>6.47916975133544</td><td>0.0</td><td>0.6684865727948792</td><td>0.44</td><td>0.3</td><td>0.132</td><td>1.3499805116216999</td><td>0.5359823138691819</td><td>0.0</td><td>0.0</td><td>217.5</td><td>35.0</td><td>2.0</td><td>0.5</td><td>0.5</td><td>300.0</td><td>-4.0</td><td>100.0</td><td>0.02</td><td>0.0</td><td>0.0</td><td>0.3121785777653814</td><td>1.9498189146414104</td><td>5000.0</td><td>20.0</td><td>5000.0</td><td>0.0</td><td>50.0</td><td>2000.0</td><td>2396.5486296927193</td><td>0.0</td><td>0.05</td><td>10.0</td><td>9924.24386569352</td><td>5.652364331116024e+25</td><td>0.34555</td><td>4.994106160375489e+36</td><td>5.7179368760977654e+20</td><td>3.7298602417902804e+21</td><td>18681170244.733612</td><td>2.690488614963429</td><td>2.7306548881310135</td><td>2.6941222033687717</td><td>1.1825554616614727e+37</td><td>5.367563843505789e+35</td><td>9.934173357202326e+33</td><td>5.268222109933766e+35</td><td>7.738800244866133e+36</td><td>4.0867543717485927e+36</td><td>5030285218.142898</td><td>5029193861.2581</td><td>1091356.8847980157</td><td>13650885008.835932</td><td>13625035167.651339</td><td>25849841.18459141</td><td>1.6930418096554916e+53</td><td>2.2534025550434657e+51</td><td>1.6705077841050568e+53</td><td>0.0012965461963398812</td><td>0.002100782602834738</td><td>0.002676600362687012</td><td>0.0040112282138092875</td><td>0.009553379419946634</td><td>0.01293760481897374</td><td>0.016172514241087246</td><td>0.020479935562365506</td><td>0.02995498584529042</td><td>0.04208684437157674</td><td>0.053535723011906566</td></tr>\n",
       "<tr><td>SPEC3</td><td>11.354742498342842</td><td>1.2660536462076377</td><td>11.524257316729178</td><td>1.2849545463324592</td><td>11.370077430614309</td><td>1.2677634909636473</td><td>0.0006372690091306452</td><td>1.560486104944362e-05</td><td>0.0021819196279664445</td><td>3.118006433045367e-05</td><td>0.003467877168797991</td><td>7.88086940701635e-05</td><td>0.012816712556422218</td><td>0.0005954613832842859</td><td>0.006177377158099001</td><td>0.00025630710577639643</td><td>0.0029401723604269786</td><td>0.00013766120380801088</td><td>0.03549176700369208</td><td>0.0023031275374426406</td><td>0.026243446880799076</td><td>0.0006221469913490678</td><td>0.04052892526242076</td><td>0.005346304957820697</td><td>0.020635769558385104</td><td>0.0007413802248746524</td><td>0.01634957772212247</td><td>0.0007878114502898044</td><td>43.0663486454123</td><td>4.785149849490256</td><td>0.0</td><td>0.6691599596648103</td><td>0.44</td><td>0.3</td><td>0.132</td><td>1.3505994330872908</td><td>0.5367035082780384</td><td>0.0</td><td>0.0</td><td>217.5</td><td>35.0</td><td>2.0</td><td>0.5</td><td>0.5</td><td>300.0</td><td>-4.0</td><td>100.0</td><td>0.02</td><td>0.0</td><td>0.0</td><td>0.18994861135975688</td><td>2.193419221309378</td><td>5000.0</td><td>20.0</td><td>5000.0</td><td>0.0</td><td>50.0</td><td>2000.0</td><td>2392.682980709974</td><td>0.0</td><td>0.004</td><td>10.0</td><td>7489.688856855433</td><td>1.2928682798047648e+26</td><td>0.6866</td><td>2.728140769639268e+37</td><td>3.032143482232534e+21</td><td>2.2789246461134324e+22</td><td>72485211195.05717</td><td>10.439422847639806</td><td>10.595272869631417</td><td>10.453521612305336</td><td>5.888055853082677e+37</td><td>4.533199975917798e+36</td><td>7.839209184349417e+34</td><td>4.454807884074304e+36</td><td>4.219029949386218e+37</td><td>1.6690259036964589e+37</td><td>20023334104.842373</td><td>20020740812.78547</td><td>2593292.056902858</td><td>52461877193.7248</td><td>52359935227.66901</td><td>101941966.0558026</td><td>1.2668804337219731e+54</td><td>2.2035514736156042e+52</td><td>1.2448449189858171e+54</td><td>0.0006418010369305073</td><td>0.002171081733079493</td><td>0.002832707220066067</td><td>0.003413492443043943</td><td>0.006423103923928884</td><td>0.01325507507696</td><td>0.01691997849859448</td><td>0.021192006405090932</td><td>0.026733119685270562</td><td>0.034112594381156845</td><td>0.03745113779195499</td></tr>\n",
       "<tr><td>SPEC9</td><td>0.893594475303316</td><td>0.0446797237651658</td><td>0.9069349368077656</td><td>0.04534674684038828</td><td>0.8948013023853872</td><td>0.04474006511926937</td><td>0.000688368373812685</td><td>1.5374571352109324e-05</td><td>0.001048874244288583</td><td>6.635075118754741e-06</td><td>0.0022753265158778177</td><td>8.091173382011086e-05</td><td>0.00682227839893991</td><td>0.0002683723771457767</td><td>0.005010282912182742</td><td>0.00023234705394848922</td><td>0.001344902791372321</td><td>4.9065376581347345e-06</td><td>0.01989055517029019</td><td>0.0016986513501308829</td><td>0.015409859540831128</td><td>0.0006004214474188026</td><td>0.02550276226894473</td><td>0.0027393271746791216</td><td>0.010565678473359479</td><td>0.0001709879966805253</td><td>0.008335066657091578</td><td>0.00028534595672806396</td><td>36.314024957608574</td><td>4.539253119701072</td><td>0.0</td><td>0.6684865727948792</td><td>0.44</td><td>0.3</td><td>0.132</td><td>1.3499805116216999</td><td>0.5359823138691819</td><td>0.0</td><td>0.0</td><td>217.5</td><td>35.0</td><td>2.0</td><td>0.5</td><td>0.5</td><td>300.0</td><td>-4.0</td><td>100.0</td><td>0.02</td><td>0.0</td><td>0.0</td><td>0.3121785777653814</td><td>1.9498189146414104</td><td>5000.0</td><td>20.0</td><td>5000.0</td><td>0.0</td><td>50.0</td><td>2000.0</td><td>2396.5486296927193</td><td>0.0</td><td>0.05</td><td>10.0</td><td>10403.20586850516</td><td>4.657698367262244e+25</td><td>0.29266</td><td>1.6912980618333413e+36</td><td>1.936429712479807e+20</td><td>1.263150040321698e+21</td><td>6326542931.422406</td><td>0.911157679421494</td><td>0.9247603417954746</td><td>0.9123882261560059</td><td>4.0048282837626023e+36</td><td>1.8177727973258597e+35</td><td>3.364295352441898e+33</td><td>1.7841298438014406e+35</td><td>2.6208129011965958e+36</td><td>1.384015382566006e+36</td><td>1703550418.5746675</td><td>1703180820.9480343</td><td>369597.62663286616</td><td>4622992506.834925</td><td>4614238230.315719</td><td>8754276.519206392</td><td>5.733635287916775e+52</td><td>7.631346334033004e+50</td><td>5.657321824576444e+52</td><td>0.0006776770122428001</td><td>0.0010433051611455964</td><td>0.001339698405096814</td><td>0.0022131447220814305</td><td>0.00486343981568697</td><td>0.006649681413441637</td><td>0.008162568780536122</td><td>0.010442737994090368</td><td>0.015674126929353775</td><td>0.020829424377512156</td><td>0.02701988373032429</td></tr>\n",
       "<tr><td>SPEC13</td><td>2.3312642280500584</td><td>0.21693528345365984</td><td>2.3660676445331847</td><td>0.22017390777134943</td><td>2.3344126727681402</td><td>0.21722826128909226</td><td>0.00018133561109330803</td><td>9.084413436620996e-06</td><td>0.0006036161051006439</td><td>2.2282446747240267e-05</td><td>0.000974869333265748</td><td>3.0144018222403056e-05</td><td>0.003066860362368406</td><td>1.839644698195255e-05</td><td>0.001719687921016782</td><td>5.415404232699036e-05</td><td>0.0007870755735476813</td><td>2.5093323363043724e-05</td><td>0.006123734311626097</td><td>0.0007637855119809864</td><td>0.005364093340630341</td><td>0.00022235006169609876</td><td>0.006004316458601058</td><td>0.0013147101238311588</td><td>0.004420496911643122</td><td>0.00011819880364931944</td><td>0.0036348113582070243</td><td>5.022324081445632e-05</td><td>15.667057853634041</td><td>2.23815112194772</td><td>0.0</td><td>0.6732378420032672</td><td>0.44</td><td>0.3</td><td>0.132</td><td>1.3502912167145045</td><td>0.5372895119325493</td><td>0.0</td><td>0.0</td><td>217.5</td><td>35.0</td><td>2.0</td><td>0.5</td><td>0.5</td><td>300.0</td><td>-4.0</td><td>100.0</td><td>0.02</td><td>0.0</td><td>0.0</td><td>0.20027788228066784</td><td>1.8325088997980723</td><td>5000.0</td><td>20.0</td><td>5000.0</td><td>0.0</td><td>50.0</td><td>2000.0</td><td>2393.911898653397</td><td>0.0</td><td>0.0001</td><td>10.0</td><td>7477.576749660532</td><td>1.2977437626481e+26</td><td>0.6887</td><td>7.294145751991688e+36</td><td>8.673000107705926e+20</td><td>4.848251198748513e+21</td><td>15947609160.674505</td><td>2.2967972734351085</td><td>2.331086133154596</td><td>2.299899169460894</td><td>1.4129161602123431e+37</td><td>1.4838183873330883e+36</td><td>4.627442896730427e+34</td><td>1.437543958365784e+36</td><td>1.0122860908843178e+37</td><td>4.006300693280254e+36</td><td>4598577131.482474</td><td>4598072695.041649</td><td>504436.44082577806</td><td>11349032007.59916</td><td>11326537452.313696</td><td>22494555.285463605</td><td>4.125878008413361e+53</td><td>1.5123393066091889e+52</td><td>3.974644077752442e+53</td><td>0.0001855438661856115</td><td>0.0006122326099590961</td><td>0.0007942469221595534</td><td>0.0009864035529878754</td><td>0.0017424720728024003</td><td>0.0030701834811867677</td><td>0.003621541144540808</td><td>0.004383025699673146</td><td>0.005294441874105894</td><td>0.005947223773168239</td><td>0.0057275842531438565</td></tr>\n",
       "</table></div>"
      ],
      "text/plain": [
       "<Table length=4>\n",
       "  id     bayes.sfh.sfr     bayes.sfh.sfr_err  bayes.sfh.sfr100Myrs ... best.vista.vircam.Y  best.vista.vircam.J  best.vista.vircam.H   best.vista.vircam.Ks\n",
       "          solMass / yr        solMass / yr        solMass / yr     ...         mJy                  mJy                  mJy                   mJy         \n",
       "bytes7      float64             float64             float64        ...       float64              float64              float64               float64       \n",
       "------ ------------------ ------------------- -------------------- ... -------------------- -------------------- -------------------- ---------------------\n",
       " SPEC2  2.690478051334213 0.13452390256671065      2.7306441667975 ... 0.020479935562365506  0.02995498584529042  0.04208684437157674  0.053535723011906566\n",
       " SPEC3 11.354742498342842  1.2660536462076377   11.524257316729178 ... 0.021192006405090932 0.026733119685270562 0.034112594381156845   0.03745113779195499\n",
       " SPEC9  0.893594475303316  0.0446797237651658   0.9069349368077656 ... 0.010442737994090368 0.015674126929353775 0.020829424377512156   0.02701988373032429\n",
       "SPEC13 2.3312642280500584 0.21693528345365984   2.3660676445331847 ... 0.004383025699673146 0.005294441874105894 0.005947223773168239 0.0057275842531438565"
      ]
     },
     "execution_count": 17,
     "metadata": {},
     "output_type": "execute_result"
    }
   ],
   "source": [
    "t_res[:4]"
   ]
  },
  {
   "cell_type": "markdown",
   "id": "0b4691a9-29e7-45e6-94dd-fc72ed2a0bc8",
   "metadata": {},
   "source": [
    "### Selection "
   ]
  },
  {
   "cell_type": "code",
   "execution_count": 18,
   "id": "04627715-6b54-4942-87fb-7dc0297f54be",
   "metadata": {},
   "outputs": [],
   "source": [
    "cut_select = t_res[\"id\"] == spec_name"
   ]
  },
  {
   "cell_type": "code",
   "execution_count": 19,
   "id": "9663620b-a222-4000-875c-138a11d3dcd5",
   "metadata": {},
   "outputs": [
    {
     "data": {
      "text/html": [
       "<div><i>Table length=1</i>\n",
       "<table id=\"table5397594368\" class=\"table-striped table-bordered table-condensed\">\n",
       "<thead><tr><th>id</th><th>bayes.sfh.sfr</th><th>bayes.sfh.sfr_err</th><th>bayes.sfh.sfr100Myrs</th><th>bayes.sfh.sfr100Myrs_err</th><th>bayes.sfh.sfr10Myrs</th><th>bayes.sfh.sfr10Myrs_err</th><th>bayes.galex.FUV</th><th>bayes.galex.FUV_err</th><th>bayes.galex.NUV</th><th>bayes.galex.NUV_err</th><th>bayes.sdss.gp</th><th>bayes.sdss.gp_err</th><th>bayes.sdss.ip</th><th>bayes.sdss.ip_err</th><th>bayes.sdss.rp</th><th>bayes.sdss.rp_err</th><th>bayes.sdss.up</th><th>bayes.sdss.up_err</th><th>bayes.vista.vircam.H</th><th>bayes.vista.vircam.H_err</th><th>bayes.vista.vircam.J</th><th>bayes.vista.vircam.J_err</th><th>bayes.vista.vircam.Ks</th><th>bayes.vista.vircam.Ks_err</th><th>bayes.vista.vircam.Y</th><th>bayes.vista.vircam.Y_err</th><th>bayes.vista.vircam.Z</th><th>bayes.vista.vircam.Z_err</th><th>best.chi_square</th><th>best.reduced_chi_square</th><th>best.agn.fracAGN_dale2014</th><th>best.attenuation.B_B90</th><th>best.attenuation.E_BV_factor</th><th>best.attenuation.E_BV_lines</th><th>best.attenuation.E_BVs</th><th>best.attenuation.FUV</th><th>best.attenuation.V_B90</th><th>best.attenuation.powerlaw_slope</th><th>best.attenuation.uv_bump_amplitude</th><th>best.attenuation.uv_bump_wavelength</th><th>best.attenuation.uv_bump_width</th><th>best.dust.alpha</th><th>best.nebular.f_dust</th><th>best.nebular.f_esc</th><th>best.nebular.lines_width</th><th>best.nebular.logU</th><th>best.nebular.ne</th><th>best.nebular.zgas</th><th>best.param.EW(500.7/1.0)</th><th>best.param.EW(656.3/1.0)</th><th>best.param.restframe_FUV-NUV</th><th>best.param.restframe_NUV-r_prime</th><th>best.sfh.age</th><th>best.sfh.age_burst</th><th>best.sfh.age_main</th><th>best.sfh.f_burst</th><th>best.sfh.tau_burst</th><th>best.sfh.tau_main</th><th>best.stellar.age_m_star</th><th>best.stellar.imf</th><th>best.stellar.metallicity</th><th>best.stellar.old_young_separation_age</th><th>best.universe.age</th><th>best.universe.luminosity_distance</th><th>best.universe.redshift</th><th>best.dust.luminosity</th><th>best.param.restframe_Lnu(FUV)</th><th>best.param.restframe_Lnu(V_B90)</th><th>best.sfh.integrated</th><th>best.sfh.sfr</th><th>best.sfh.sfr100Myrs</th><th>best.sfh.sfr10Myrs</th><th>best.stellar.lum</th><th>best.stellar.lum_ly</th><th>best.stellar.lum_ly_old</th><th>best.stellar.lum_ly_young</th><th>best.stellar.lum_old</th><th>best.stellar.lum_young</th><th>best.stellar.m_gas</th><th>best.stellar.m_gas_old</th><th>best.stellar.m_gas_young</th><th>best.stellar.m_star</th><th>best.stellar.m_star_old</th><th>best.stellar.m_star_young</th><th>best.stellar.n_ly</th><th>best.stellar.n_ly_old</th><th>best.stellar.n_ly_young</th><th>best.galex.FUV</th><th>best.galex.NUV</th><th>best.sdss.up</th><th>best.sdss.gp</th><th>best.sdss.rp</th><th>best.sdss.ip</th><th>best.vista.vircam.Z</th><th>best.vista.vircam.Y</th><th>best.vista.vircam.J</th><th>best.vista.vircam.H</th><th>best.vista.vircam.Ks</th></tr></thead>\n",
       "<thead><tr><th></th><th>solMass / yr</th><th>solMass / yr</th><th>solMass / yr</th><th>solMass / yr</th><th>solMass / yr</th><th>solMass / yr</th><th>mJy</th><th>mJy</th><th>mJy</th><th>mJy</th><th>mJy</th><th>mJy</th><th>mJy</th><th>mJy</th><th>mJy</th><th>mJy</th><th>mJy</th><th>mJy</th><th>mJy</th><th>mJy</th><th>mJy</th><th>mJy</th><th>mJy</th><th>mJy</th><th>mJy</th><th>mJy</th><th>mJy</th><th>mJy</th><th></th><th></th><th></th><th>mag</th><th></th><th>mag</th><th>mag</th><th>mag</th><th>mag</th><th></th><th></th><th>nm</th><th>nm</th><th></th><th></th><th></th><th>km / s</th><th></th><th>1 / cm3</th><th></th><th>nm</th><th>nm</th><th>mag</th><th>mag</th><th>Myr</th><th>Myr</th><th>Myr</th><th></th><th>Myr</th><th>Myr</th><th>Myr</th><th></th><th></th><th>Myr</th><th>Myr</th><th>m</th><th></th><th>W</th><th>W / Hz</th><th>W / Hz</th><th>solMass</th><th>solMass / yr</th><th>solMass / yr</th><th>solMass / yr</th><th>W</th><th>W</th><th>W</th><th>W</th><th>W</th><th>W</th><th>solMass</th><th>solMass</th><th>solMass</th><th>solMass</th><th>solMass</th><th>solMass</th><th>ph / s</th><th>ph / s</th><th>ph / s</th><th>mJy</th><th>mJy</th><th>mJy</th><th>mJy</th><th>mJy</th><th>mJy</th><th>mJy</th><th>mJy</th><th>mJy</th><th>mJy</th><th>mJy</th></tr></thead>\n",
       "<thead><tr><th>bytes7</th><th>float64</th><th>float64</th><th>float64</th><th>float64</th><th>float64</th><th>float64</th><th>float64</th><th>float64</th><th>float64</th><th>float64</th><th>float64</th><th>float64</th><th>float64</th><th>float64</th><th>float64</th><th>float64</th><th>float64</th><th>float64</th><th>float64</th><th>float64</th><th>float64</th><th>float64</th><th>float64</th><th>float64</th><th>float64</th><th>float64</th><th>float64</th><th>float64</th><th>float64</th><th>float64</th><th>float64</th><th>float64</th><th>float64</th><th>float64</th><th>float64</th><th>float64</th><th>float64</th><th>float64</th><th>float64</th><th>float64</th><th>float64</th><th>float64</th><th>float64</th><th>float64</th><th>float64</th><th>float64</th><th>float64</th><th>float64</th><th>float64</th><th>float64</th><th>float64</th><th>float64</th><th>float64</th><th>float64</th><th>float64</th><th>float64</th><th>float64</th><th>float64</th><th>float64</th><th>float64</th><th>float64</th><th>float64</th><th>float64</th><th>float64</th><th>float64</th><th>float64</th><th>float64</th><th>float64</th><th>float64</th><th>float64</th><th>float64</th><th>float64</th><th>float64</th><th>float64</th><th>float64</th><th>float64</th><th>float64</th><th>float64</th><th>float64</th><th>float64</th><th>float64</th><th>float64</th><th>float64</th><th>float64</th><th>float64</th><th>float64</th><th>float64</th><th>float64</th><th>float64</th><th>float64</th><th>float64</th><th>float64</th><th>float64</th><th>float64</th><th>float64</th><th>float64</th><th>float64</th><th>float64</th></tr></thead>\n",
       "<tr><td>SPEC117</td><td>2.6042704299655646</td><td>0.13021352149827822</td><td>2.643149552854432</td><td>0.13215747764272162</td><td>2.6077875780352775</td><td>0.13038937890176389</td><td>0.000612234573312386</td><td>1.165110921534855e-05</td><td>0.0011464649704874927</td><td>5.284910951758324e-06</td><td>0.00195601471864365</td><td>1.373235064503088e-05</td><td>0.006667809423024289</td><td>0.00024386762538301815</td><td>0.004723678822402665</td><td>0.0001725334708240807</td><td>0.0014684507739116497</td><td>2.3456393573915182e-05</td><td>0.021886271755327327</td><td>0.0018048866371605107</td><td>0.014645559410582962</td><td>0.0001569191712604835</td><td>0.02621224480853155</td><td>0.002417780183504364</td><td>0.010376511777459374</td><td>0.00025105932223692365</td><td>0.008675363883816664</td><td>0.00023597496498204229</td><td>11.652503070033331</td><td>1.2947225633370367</td><td>0.0</td><td>0.6684865727948792</td><td>0.44</td><td>0.3</td><td>0.132</td><td>1.3499805116216999</td><td>0.5359823138691819</td><td>0.0</td><td>0.0</td><td>217.5</td><td>35.0</td><td>2.0</td><td>0.5</td><td>0.5</td><td>300.0</td><td>-4.0</td><td>100.0</td><td>0.02</td><td>0.0</td><td>0.0</td><td>0.3121785777653814</td><td>1.9498189146414104</td><td>5000.0</td><td>20.0</td><td>5000.0</td><td>0.0</td><td>50.0</td><td>2000.0</td><td>2396.5486296927193</td><td>0.0</td><td>0.05</td><td>10.0</td><td>9083.922617106142</td><td>7.688804256817374e+25</td><td>0.4479</td><td>4.949959292464633e+36</td><td>5.6673914940242854e+20</td><td>3.696889046919267e+21</td><td>18516032554.67849</td><td>2.666705250796512</td><td>2.706516462397711</td><td>2.6703067190301524</td><td>1.1721019154037965e+37</td><td>5.320115686740031e+35</td><td>9.846357314667302e+33</td><td>5.221652113593357e+35</td><td>7.67039084762318e+36</td><td>4.050628306414785e+36</td><td>4985818534.827022</td><td>4984736825.31188</td><td>1081709.5151407477</td><td>13530214002.253633</td><td>13504592668.33093</td><td>25621333.922701936</td><td>1.678075669421741e+53</td><td>2.2334829414523904e+51</td><td>1.655740840007217e+53</td><td>0.0006103586183293189</td><td>0.0011457598210744058</td><td>0.0014799703029953924</td><td>0.0019527003008364147</td><td>0.004656127593758478</td><td>0.006556359925102346</td><td>0.008568937942072814</td><td>0.010273531086569252</td><td>0.014768971922368118</td><td>0.02283387983093694</td><td>0.027491919737695648</td></tr>\n",
       "</table></div>"
      ],
      "text/plain": [
       "<Table length=1>\n",
       "   id     bayes.sfh.sfr     bayes.sfh.sfr_err  bayes.sfh.sfr100Myrs ... best.vista.vircam.Y  best.vista.vircam.J  best.vista.vircam.H best.vista.vircam.Ks\n",
       "           solMass / yr        solMass / yr        solMass / yr     ...         mJy                  mJy                  mJy                 mJy         \n",
       " bytes7      float64             float64             float64        ...       float64              float64              float64             float64       \n",
       "------- ------------------ ------------------- -------------------- ... -------------------- -------------------- ------------------- --------------------\n",
       "SPEC117 2.6042704299655646 0.13021352149827822    2.643149552854432 ... 0.010273531086569252 0.014768971922368118 0.02283387983093694 0.027491919737695648"
      ]
     },
     "execution_count": 19,
     "metadata": {},
     "output_type": "execute_result"
    }
   ],
   "source": [
    "t_res_sel = t_res[cut_select]\n",
    "t_res_sel"
   ]
  },
  {
   "cell_type": "code",
   "execution_count": 20,
   "id": "50ec557c-658d-4d03-a617-b247bb7808d3",
   "metadata": {},
   "outputs": [
    {
     "data": {
      "text/plain": [
       "1.2947225633370367"
      ]
     },
     "execution_count": 20,
     "metadata": {},
     "output_type": "execute_result"
    }
   ],
   "source": [
    "t_res_sel[\"best.reduced_chi_square\"][0]"
   ]
  },
  {
   "cell_type": "markdown",
   "id": "c50d41ab-64d8-4b1e-92b0-c8ff665eb3be",
   "metadata": {},
   "source": [
    "### Read data"
   ]
  },
  {
   "cell_type": "code",
   "execution_count": 21,
   "id": "962f6372-6fe5-4992-8579-df9238250a51",
   "metadata": {},
   "outputs": [],
   "source": [
    "file_data = os.path.join(path,\"observations.fits\")\n",
    "FORS2= Table.read(file_data)\n",
    "FORS2.add_index('id')"
   ]
  },
  {
   "cell_type": "code",
   "execution_count": 22,
   "id": "0a9bdfaa-6303-40b4-9450-aa39c799a54d",
   "metadata": {},
   "outputs": [
    {
     "data": {
      "text/html": [
       "<div><i>Table length=4</i>\n",
       "<table id=\"table5397606512\" class=\"table-striped table-bordered table-condensed\">\n",
       "<thead><tr><th>id</th><th>redshift</th><th>galex.FUV</th><th>galex.FUV_err</th><th>galex.NUV</th><th>galex.NUV_err</th><th>sdss.up</th><th>sdss.up_err</th><th>sdss.gp</th><th>sdss.gp_err</th><th>sdss.rp</th><th>sdss.rp_err</th><th>sdss.ip</th><th>sdss.ip_err</th><th>vista.vircam.Z</th><th>vista.vircam.Z_err</th><th>vista.vircam.Y</th><th>vista.vircam.Y_err</th><th>vista.vircam.J</th><th>vista.vircam.J_err</th><th>vista.vircam.H</th><th>vista.vircam.H_err</th><th>vista.vircam.Ks</th><th>vista.vircam.Ks_err</th></tr></thead>\n",
       "<thead><tr><th>bytes7</th><th>float64</th><th>float64</th><th>float64</th><th>float64</th><th>float64</th><th>float64</th><th>float64</th><th>float64</th><th>float64</th><th>float64</th><th>float64</th><th>float64</th><th>float64</th><th>float64</th><th>float64</th><th>float64</th><th>float64</th><th>float64</th><th>float64</th><th>float64</th><th>float64</th><th>float64</th><th>float64</th></tr></thead>\n",
       "<tr><td>SPEC2</td><td>0.3456</td><td>0.024597</td><td>0.006225</td><td>0.012646</td><td>0.003231</td><td>--</td><td>--</td><td>0.002635</td><td>0.000305</td><td>0.008550</td><td>0.000870</td><td>0.014536</td><td>0.001549</td><td>0.020464</td><td>0.002152</td><td>0.025612</td><td>0.002879</td><td>0.032969</td><td>0.003465</td><td>0.047182</td><td>0.005195</td><td>0.064763</td><td>0.006954</td></tr>\n",
       "<tr><td>SPEC3</td><td>0.6866</td><td>--</td><td>--</td><td>0.004906</td><td>0.002192</td><td>0.001665</td><td>0.000480</td><td>0.002418</td><td>0.000285</td><td>0.006525</td><td>0.000672</td><td>0.012610</td><td>0.001368</td><td>0.018209</td><td>0.001939</td><td>0.021529</td><td>0.002517</td><td>0.033779</td><td>0.003540</td><td>0.042549</td><td>0.004769</td><td>0.064977</td><td>0.006962</td></tr>\n",
       "<tr><td>SPEC9</td><td>0.2927</td><td>--</td><td>--</td><td>0.009030</td><td>0.003131</td><td>--</td><td>--</td><td>0.001512</td><td>0.000198</td><td>0.005874</td><td>0.000603</td><td>0.008643</td><td>0.000986</td><td>0.011839</td><td>0.001369</td><td>0.011624</td><td>0.001687</td><td>0.016744</td><td>0.001943</td><td>0.021223</td><td>0.003000</td><td>0.022539</td><td>0.003158</td></tr>\n",
       "<tr><td>SPEC13</td><td>0.6887</td><td>--</td><td>--</td><td>0.003222</td><td>0.001645</td><td>0.001036</td><td>0.000403</td><td>0.001298</td><td>0.000172</td><td>0.001864</td><td>0.000220</td><td>0.002078</td><td>0.000560</td><td>0.004230</td><td>0.000792</td><td>0.001636</td><td>0.001208</td><td>0.004766</td><td>0.001069</td><td>--</td><td>--</td><td>--</td><td>--</td></tr>\n",
       "</table></div>"
      ],
      "text/plain": [
       "<Table length=4>\n",
       "  id      redshift      galex.FUV     galex.FUV_err     galex.NUV    ... vista.vircam.J_err  vista.vircam.H vista.vircam.H_err vista.vircam.Ks vista.vircam.Ks_err\n",
       "bytes7    float64        float64         float64         float64     ...      float64           float64          float64           float64           float64      \n",
       "------ ------------- --------------- --------------- --------------- ... ------------------ --------------- ------------------ --------------- -------------------\n",
       " SPEC2        0.3456        0.024597        0.006225        0.012646 ...           0.003465        0.047182           0.005195        0.064763            0.006954\n",
       " SPEC3        0.6866              --              --        0.004906 ...           0.003540        0.042549           0.004769        0.064977            0.006962\n",
       " SPEC9        0.2927              --              --        0.009030 ...           0.001943        0.021223           0.003000        0.022539            0.003158\n",
       "SPEC13        0.6887              --              --        0.003222 ...           0.001069              --                 --              --                  --"
      ]
     },
     "execution_count": 22,
     "metadata": {},
     "output_type": "execute_result"
    }
   ],
   "source": [
    "FORS2[:4]"
   ]
  },
  {
   "cell_type": "markdown",
   "id": "ac4d2097-d181-4304-9aca-97760d1f4b1d",
   "metadata": {},
   "source": [
    "### Select"
   ]
  },
  {
   "cell_type": "code",
   "execution_count": 23,
   "id": "f3dd1070-6b4d-4aa9-be6f-f1f39f6b7d2c",
   "metadata": {},
   "outputs": [],
   "source": [
    "cut_fors2select = FORS2[\"id\"] == spec_name"
   ]
  },
  {
   "cell_type": "code",
   "execution_count": 24,
   "id": "66cec3e2-840c-4d4e-9885-43e64ac25103",
   "metadata": {},
   "outputs": [],
   "source": [
    "FORS2_sel = FORS2[cut_fors2select]"
   ]
  },
  {
   "cell_type": "code",
   "execution_count": 25,
   "id": "1a30fc4c-b8ff-42f8-9811-6c6cf8a2c7f3",
   "metadata": {},
   "outputs": [
    {
     "data": {
      "text/plain": [
       "0.4479"
      ]
     },
     "execution_count": 25,
     "metadata": {},
     "output_type": "execute_result"
    }
   ],
   "source": [
    "FORS2_sel[\"redshift\"].value[0]"
   ]
  },
  {
   "cell_type": "markdown",
   "id": "83a79d80-68c8-4118-8769-da3a9e3a3b69",
   "metadata": {},
   "source": [
    "### Filters"
   ]
  },
  {
   "cell_type": "code",
   "execution_count": 26,
   "id": "ebbccf72-1485-41c9-b656-494e213511e4",
   "metadata": {},
   "outputs": [],
   "source": [
    "BANDS = [\n",
    "    col for col in FORS2.colnames if not col.endswith(\"_err\") \n",
    "    and not col.startswith(\"line\") \n",
    "    and not col in [\"id\", \"redshift\", \"distance\"]\n",
    "]\n",
    "\n",
    "#with Database() as d:\n",
    "#    BANDS_WAVE = np.array([d.get_filter(name).pivot_wavelength for name in BANDS])\n",
    "\n",
    "\n",
    "with SimpleDatabase('filters') as d:\n",
    "    #BANDS_WAVE = np.array([d.get(name).pivot_wavelength for name in BANDS])\n",
    "    BANDS_WAVE = np.array([d.get(name=name).pivot for name in BANDS])\n",
    "    "
   ]
  },
  {
   "cell_type": "code",
   "execution_count": 27,
   "id": "a02f037e-4b49-40fe-bb9e-62d79f413b08",
   "metadata": {},
   "outputs": [],
   "source": [
    "BANDS_best = [ \"best.\" + bandname for bandname in BANDS]"
   ]
  },
  {
   "cell_type": "code",
   "execution_count": 28,
   "id": "12011133-1809-4c5f-adb9-4c523bc477e3",
   "metadata": {},
   "outputs": [],
   "source": [
    "band_sed_fluxes = np.array([ t_res_sel[bandname][0] for bandname in  BANDS_best])"
   ]
  },
  {
   "cell_type": "markdown",
   "id": "f1ae06dd-b02c-413b-98eb-284cc0e5acbf",
   "metadata": {},
   "source": [
    "# From pcigale"
   ]
  },
  {
   "cell_type": "code",
   "execution_count": 29,
   "id": "56d2aad7-b8bf-4576-82ac-880a2deb1346",
   "metadata": {},
   "outputs": [],
   "source": [
    "with SimpleDatabase('filters') as d:\n",
    "    #BANDS_WAVE = np.array([d.get(name).pivot_wavelength for name in BANDS])\n",
    "    BANDS_WAVE = np.array([d.get(name=name).pivot for name in BANDS])\n",
    "    BANDS_NAME = BANDS\n",
    "dict_filters = dict(zip(BANDS_NAME, BANDS_WAVE)) "
   ]
  },
  {
   "cell_type": "code",
   "execution_count": 30,
   "id": "0431c0f4-f3e0-475a-9145-200afb415171",
   "metadata": {},
   "outputs": [
    {
     "data": {
      "text/plain": [
       "{'galex.FUV': 153.50853059117946,\n",
       " 'galex.NUV': 229.92449963384885,\n",
       " 'sdss.up': 355.65239687948446,\n",
       " 'sdss.gp': 470.2495279331732,\n",
       " 'sdss.rp': 617.5578881059803,\n",
       " 'sdss.ip': 748.9976846298566,\n",
       " 'vista.vircam.Z': 876.6251399925129,\n",
       " 'vista.vircam.Y': 1020.9939367474136,\n",
       " 'vista.vircam.J': 1252.4338849656478,\n",
       " 'vista.vircam.H': 1643.1277259087526,\n",
       " 'vista.vircam.Ks': 2152.1001644008657}"
      ]
     },
     "execution_count": 30,
     "metadata": {},
     "output_type": "execute_result"
    }
   ],
   "source": [
    "dict_filters "
   ]
  },
  {
   "cell_type": "code",
   "execution_count": 31,
   "id": "cc1df4d9-e6cf-4aba-8bb9-3dc795822b93",
   "metadata": {},
   "outputs": [
    {
     "data": {
      "text/html": [
       "<div><i>Table length=1</i>\n",
       "<table id=\"table5397608000\" class=\"table-striped table-bordered table-condensed\">\n",
       "<thead><tr><th>id</th><th>redshift</th><th>galex.FUV</th><th>galex.FUV_err</th><th>galex.NUV</th><th>galex.NUV_err</th><th>sdss.up</th><th>sdss.up_err</th><th>sdss.gp</th><th>sdss.gp_err</th><th>sdss.rp</th><th>sdss.rp_err</th><th>sdss.ip</th><th>sdss.ip_err</th><th>vista.vircam.Z</th><th>vista.vircam.Z_err</th><th>vista.vircam.Y</th><th>vista.vircam.Y_err</th><th>vista.vircam.J</th><th>vista.vircam.J_err</th><th>vista.vircam.H</th><th>vista.vircam.H_err</th><th>vista.vircam.Ks</th><th>vista.vircam.Ks_err</th></tr></thead>\n",
       "<thead><tr><th>bytes7</th><th>float64</th><th>float64</th><th>float64</th><th>float64</th><th>float64</th><th>float64</th><th>float64</th><th>float64</th><th>float64</th><th>float64</th><th>float64</th><th>float64</th><th>float64</th><th>float64</th><th>float64</th><th>float64</th><th>float64</th><th>float64</th><th>float64</th><th>float64</th><th>float64</th><th>float64</th><th>float64</th></tr></thead>\n",
       "<tr><td>SPEC117</td><td>0.4479</td><td>--</td><td>--</td><td>0.003292</td><td>0.001642</td><td>0.000855</td><td>0.000397</td><td>0.001612</td><td>0.000199</td><td>0.004711</td><td>0.000487</td><td>0.006625</td><td>0.000859</td><td>0.010211</td><td>0.001234</td><td>0.011437</td><td>0.001695</td><td>0.017230</td><td>0.001994</td><td>0.023943</td><td>0.003200</td><td>0.024894</td><td>0.003404</td></tr>\n",
       "</table></div>"
      ],
      "text/plain": [
       "<Table length=1>\n",
       "   id      redshift   galex.FUV galex.FUV_err    galex.NUV    ... vista.vircam.J_err  vista.vircam.H vista.vircam.H_err vista.vircam.Ks vista.vircam.Ks_err\n",
       " bytes7    float64     float64     float64        float64     ...      float64           float64          float64           float64           float64      \n",
       "------- ------------- --------- ------------- --------------- ... ------------------ --------------- ------------------ --------------- -------------------\n",
       "SPEC117        0.4479        --            --        0.003292 ...           0.001994        0.023943           0.003200        0.024894            0.003404"
      ]
     },
     "execution_count": 31,
     "metadata": {},
     "output_type": "execute_result"
    }
   ],
   "source": [
    "#obs= FORS2_sel.to_pandas().to_dict()\n",
    "obs = FORS2_sel\n",
    "obs"
   ]
  },
  {
   "cell_type": "code",
   "execution_count": 32,
   "id": "51f736ed-7f64-4ec8-9913-c9dda554b29a",
   "metadata": {},
   "outputs": [],
   "source": [
    "series = [\"model\" ,\"stellar_attenuated\",\"stellar_unattenuated\",\"nebular\",\"dust\"]"
   ]
  },
  {
   "cell_type": "code",
   "execution_count": 33,
   "id": "2470fa70-2ff3-468b-8968-32cb9f60c8ac",
   "metadata": {},
   "outputs": [],
   "source": [
    "def plots_frompcigale(t_best_model, mod,obs, filters , series ,sed_type = \"mJy\", xrange = [10.*1e-3,5e4*1e-3],yrange = [False,False]):\n",
    "    \"\"\"\n",
    "\n",
    "    parameters :\n",
    "       t_best_model : Table of best fitted model (wrt wavelength)\n",
    "       mod : Table of all fit result (line selected for the current spectrum)\n",
    "       obs : Table of observed flux (in mJy)\n",
    "       filters: dictionnary of filtername and pivot wavelength\n",
    "       series : what to plot\n",
    "       sed_type : mJy  Fnu in obs frame, lum : Llambda in restframe\n",
    "       xrange : wavelength ranage in microns xrange = [100.*1e-3,1e4*1e-3]\n",
    "    \n",
    "    Need to convert flux density in mJy (mW/m2/Hz) into Luminosity W/nm and vice versa\n",
    "\n",
    "    Fnu = 1/(4piDL^2) * lambda^2/c * L_lambda\n",
    "    L_lambda = (4piDL^2) * (c/lambda^2) * F_nu\n",
    "\n",
    "    No K correction is calculated\n",
    "    \n",
    "    \"\"\"\n",
    "\n",
    "    np.seterr(invalid=\"ignore\")\n",
    "\n",
    "    if True:\n",
    "        # get the table containning all seds (wrt wavelength)\n",
    "        sed = t_best_model\n",
    "        # the best model\n",
    "        # wavelengths from nm to microns \n",
    "        wavelength_spec = sed[\"wavelength\"].data * 1e-3\n",
    "        \n",
    "        # pivot wavelengths in filter from nm to microns\n",
    "        filters_wl = (np.array([filt_wl for filt_wl in filters.values()]) * 1e-3)\n",
    "\n",
    "        \n",
    "        # retrieve observed fluxes (in mJy)\n",
    "        obs_fluxes = np.array([obs[filt].data[0] for filt in filters.keys()])\n",
    "        obs_fluxes_err = np.array([obs[filt + \"_err\"].data[0] for filt in filters.keys()])\n",
    "        \n",
    "        # retrieve the model fluxes (in mJy)\n",
    "        mod_fluxes = np.array(\n",
    "            [\n",
    "                mod[\"best.\" + filt].data[0]\n",
    "                if \"best.\" + filt in mod.colnames\n",
    "                else np.nan\n",
    "                for filt in filters.keys()\n",
    "            ])\n",
    "\n",
    "        # retrieve the redshift from the observation\n",
    "        if obs[\"redshift\"].data[0] >= 0:\n",
    "            z = float(obs[\"redshift\"].data[0])\n",
    "        else:  # Redshift mode\n",
    "            z = float(mod[\"best.universe.redshift\"].data[0])\n",
    "\n",
    "        # the redshift factor   \n",
    "        zp1 = 1.0 + z\n",
    "\n",
    "        # surface of the sphere centered on the object of radius distance-luminosity\n",
    "        surf = 4.0 * np.pi * mod[\"best.universe.luminosity_distance\"].data[0] ** 2\n",
    "\n",
    "        # define the range if wavelength (in microns)\n",
    "        xmin = 0.9 * np.min(filters_wl) if xrange[0] is False else xrange[0]\n",
    "        xmax = 1.1 * np.max(filters_wl) if xrange[1] is False else xrange[1]\n",
    "\n",
    "        if sed_type == \"lum\":\n",
    "            # L_lambda = (4piDL^2) * (c/lambda^2) * F_nu\n",
    "            # 1 mJy = 10^-29 W/m2/Hz\n",
    "            # Every values converted to SI \n",
    "            # Convert wavelength from microns to meters\n",
    "            # need to convert lumi from W/m to W/nm \n",
    "            k_corr_SED = (1e-29 * surf * ctes.c.value/ (filters_wl * 1e-6)**2)*1e-9\n",
    "\n",
    "            #print(\"k_corr_SED --> W/m2 = \",k_corr_SED)\n",
    "            \n",
    "            # convert fluxes from mJy to W/nm\n",
    "            obs_fluxes *= k_corr_SED\n",
    "            obs_fluxes_err *= k_corr_SED\n",
    "            mod_fluxes *= k_corr_SED\n",
    "\n",
    "            #for cname in sed.colnames[1:]:\n",
    "\n",
    "            # I think this should not be applied (why 1e3)\n",
    "            for cname in sed.colnames[2:]:\n",
    "                #sed[cname] *= wavelength_spec * 1e3\n",
    "                sed[cname] *=  1e0\n",
    "                \n",
    "            # set source rest frame\n",
    "            filters_wl /= zp1\n",
    "            wavelength_spec /= zp1\n",
    "            xmin /= zp1\n",
    "            xmax /= zp1\n",
    "            \n",
    "        elif sed_type == \"mJy\":\n",
    "            k_corr_SED = 1.0\n",
    "            # 1 W/m2/Hz = 10^29 mJy\n",
    "            #Fnu = 1/(4piDL^2) * lambda^2/c * L_lambda\n",
    "            fact = 1e29 * 1e-3 * wavelength_spec ** 2 / ctes.c.value / surf\n",
    "\n",
    "            #print(\"fact --> mJy = \",fact)\n",
    "            \n",
    "            #for cname in sed.colnames[1:]:\n",
    "            for cname in sed.colnames[2:]:\n",
    "                sed[cname] *= fact\n",
    "        else:\n",
    "            print(\"ERROR Unknown plot type.\")\n",
    "\n",
    "        wsed = np.where((wavelength_spec > xmin) & (wavelength_spec < xmax))\n",
    "       \n",
    "\n",
    "        \n",
    "        print(\"================ START the figure ================================================================\")\n",
    "\n",
    "        #series = [\"model\" ,\"stellar_attenuated\",\"stellar_unattenuated\",\"nebular\",\"dust\"]\n",
    "\n",
    "        #'wavelength',\n",
    "        # 'Fnu',\n",
    "        # 'L_lambda_total',\n",
    "        # 'stellar.old',\n",
    "        # 'stellar.young',\n",
    "        # 'nebular.absorption_old',\n",
    "        # 'nebular.absorption_young',\n",
    "        # 'nebular.lines_old',\n",
    "        # 'nebular.lines_young',\n",
    "        # 'nebular.continuum_old',\n",
    "        # 'nebular.continuum_young',\n",
    "        # 'attenuation.stellar.old',\n",
    "        # 'attenuation.stellar.young',\n",
    "        # 'attenuation.nebular.lines_old',\n",
    "        # 'attenuation.nebular.lines_young',\n",
    "        # 'attenuation.nebular.continuum_old',\n",
    "        # 'attenuation.nebular.continuum_young',\n",
    "        # 'dust',\n",
    "        # 'igm'\n",
    "\n",
    "\n",
    "        figure = plt.figure()\n",
    "        gs = gridspec.GridSpec(2, 1, height_ratios=[3, 1])\n",
    "        \n",
    "        #if (sed.columns[1][wsed] > 0.0).any():\n",
    "        if (sed.columns[0][wsed].data > 0.0).any():    \n",
    "            \n",
    "            ax1 = plt.subplot(gs[0])\n",
    "            ax2 = plt.subplot(gs[1])\n",
    "\n",
    "            # Stellar emission\n",
    "            if ( \"stellar_attenuated\" in series and \"stellar.young\" in sed.columns):\n",
    "                spectrum =  sed[\"stellar.young\"].data[wsed]  + sed[\"stellar.old\"].data[wsed]\n",
    "\n",
    "                if \"nebular.absorption_young\" in sed.columns:\n",
    "                    spectrum += sed[\"nebular.absorption_young\"].data[wsed]\n",
    "                    spectrum += sed[\"nebular.absorption_old\"].data[wsed]\n",
    "\n",
    "                if \"attenuation.stellar.young\" in sed.columns:\n",
    "                    spectrum += sed[\"attenuation.stellar.young\"].data[wsed]\n",
    "                    spectrum += sed[\"attenuation.stellar.old\"].data[wsed]\n",
    "\n",
    "                ax1.loglog(\n",
    "                        wavelength_spec[wsed],\n",
    "                        spectrum,\n",
    "                        label=\"Stellar attenuated\",\n",
    "                        color=\"gold\",\n",
    "                        marker=None,\n",
    "                        nonpositive=\"clip\",\n",
    "                        linestyle=\"-\",\n",
    "                        linewidth=1.0,\n",
    "                    )\n",
    "                #print(\"stellar_attenuated spectrum \\t\",spectrum)\n",
    "\n",
    "            if (\"stellar_unattenuated\" in series and \"stellar.young\" in sed.columns):\n",
    "\n",
    "                spectrum = sed[\"stellar.old\"].data[wsed] + sed[\"stellar.young\"].data[wsed]\n",
    "                \n",
    "                ax1.loglog(\n",
    "                        wavelength_spec[wsed],\n",
    "                        spectrum,\n",
    "                        label=\"Stellar unattenuated\",\n",
    "                        color=\"xkcd:deep sky blue\",\n",
    "                        marker=None,\n",
    "                        nonpositive=\"clip\",\n",
    "                        linestyle=\"--\",\n",
    "                        linewidth=1.0,\n",
    "                    )\n",
    "                #print(\"stellar_unattenuated spectrum \\t\",spectrum)\n",
    "\n",
    "            # Nebular emission\n",
    "            if \"nebular\" in series and \"nebular.lines_young\" in sed.columns:\n",
    "                spectrum = (\n",
    "                        sed[\"nebular.lines_young\"].data[wsed]\n",
    "                        + sed[\"nebular.lines_old\"].data[wsed]\n",
    "                        + sed[\"nebular.continuum_young\"].data[wsed]\n",
    "                        + sed[\"nebular.continuum_old\"].data[wsed]\n",
    "                    )\n",
    "\n",
    "                if \"attenuation.nebular.lines_young\" in sed.columns:\n",
    "                        spectrum += sed[\"attenuation.nebular.lines_young\"].data[wsed]\n",
    "                        spectrum += sed[\"attenuation.nebular.lines_old\"].data[wsed]\n",
    "                        spectrum += sed[\"attenuation.nebular.continuum_young\"].data[wsed]\n",
    "                        spectrum += sed[\"attenuation.nebular.continuum_old\"].data[wsed]\n",
    "\n",
    "                ax1.loglog(\n",
    "                        wavelength_spec[wsed],\n",
    "                        spectrum,\n",
    "                        label=\"Nebular emission\",\n",
    "                        color=\"xkcd:true green\",\n",
    "                        marker=None,\n",
    "                        nonpositive=\"clip\",\n",
    "                        linewidth=1.0,\n",
    "                    )\n",
    "                #print(\"nebular  spectrum \\t\",spectrum)\n",
    "\n",
    "            # Dust emission Draine & Li\n",
    "            if \"dust\" in series and \"dust.Umin_Umin\" in sed.columns:\n",
    "                spectrum =  sed[\"dust.Umin_Umin\"].data[wsed] + sed[\"dust.Umin_Umax\"].data[wsed]\n",
    "                ax1.loglog(\n",
    "                        wavelength_spec[wsed],spectrum,\n",
    "                        label=\"Dust emission\",\n",
    "                        color=\"xkcd:bright red\",\n",
    "                        marker=None,\n",
    "                        nonpositive=\"clip\",\n",
    "                        linestyle=\"-\",\n",
    "                        linewidth=1.0,\n",
    "                    )\n",
    "                #print(\"Dust Draine Li  spectrum \\t\",spectrum)\n",
    "\n",
    "            # Dust emission Dale\n",
    "            if \"dust\" in series and \"dust\" in sed.columns:\n",
    "                spectrum = sed[\"dust\"].data[wsed]\n",
    "                ax1.loglog(\n",
    "                        wavelength_spec[wsed],\n",
    "                        spectrum,\n",
    "                        label=\"Dust emission\",\n",
    "                        color=\"xkcd:bright red\",\n",
    "                        marker=None,\n",
    "                        nonpositive=\"clip\",\n",
    "                        linestyle=\"-\",\n",
    "                        linewidth=1.0,\n",
    "                    )\n",
    "                #print(\"Dust spectrum \\t\",spectrum)\n",
    "\n",
    "            # AGN emission\n",
    "            if \"agn\" in series and ( \"agn.fritz2006_torus\" in sed.columns or \"agn.SKIRTOR2016_torus\" in sed.columns):\n",
    "                if \"agn.fritz2006_torus\" in sed.columns:\n",
    "                    agn_sed = (\n",
    "                            sed[\"agn.fritz2006_polar_dust\"]\n",
    "                            + sed[\"agn.fritz2006_torus\"]\n",
    "                            + sed[\"agn.fritz2006_disk\"]\n",
    "                        )\n",
    "                elif \"agn.SKIRTOR2016_torus\" in sed.columns:\n",
    "                    agn_sed = (\n",
    "                            sed[\"agn.SKIRTOR2016_polar_dust\"]\n",
    "                            + sed[\"agn.SKIRTOR2016_torus\"]\n",
    "                            + sed[\"agn.SKIRTOR2016_disk\"]\n",
    "                        )\n",
    "                if \"xray.agn\" in sed.columns:\n",
    "                    agn_sed += sed[\"xray.agn\"]\n",
    "                if \"radio.agn\" in sed.columns:\n",
    "                    agn_sed += sed[\"radio.agn\"]\n",
    "                    \n",
    "                ax1.loglog(\n",
    "                        wavelength_spec[wsed],\n",
    "                        agn_sed[wsed],\n",
    "                        label=\"AGN emission\",\n",
    "                        color=\"xkcd:apricot\",\n",
    "                        marker=None,\n",
    "                        nonpositive=\"clip\",\n",
    "                        linestyle=\"-\",\n",
    "                        linewidth=1.0,\n",
    "                    )\n",
    "\n",
    "            # Radio emission\n",
    "            if \"radio\" in series and \"radio.sf_nonthermal\" in sed.columns:\n",
    "                ax1.loglog(\n",
    "                        wavelength_spec[wsed],\n",
    "                        sed[\"radio.sf_nonthermal\"][wsed],\n",
    "                        label=\"Radio SF nonthermal\",\n",
    "                        color=\"brown\",\n",
    "                        marker=None,\n",
    "                        nonpositive=\"clip\",\n",
    "                        linestyle=\"-\",\n",
    "                        linewidth=1.0,\n",
    "                    )\n",
    "\n",
    "            if \"model\" in series:\n",
    "                ax1.loglog(\n",
    "                        wavelength_spec[wsed],\n",
    "                        sed[\"L_lambda_total\"].data[wsed],\n",
    "                        label=\"Model spectrum\",\n",
    "                        color=\"k\",\n",
    "                        nonpositive=\"clip\",\n",
    "                        linestyle=\"-\",\n",
    "                        linewidth=1.5,\n",
    "                    )\n",
    "                #print(\"model\", sed[\"L_lambda_total\"].data[wsed])\n",
    "\n",
    "            \n",
    "            ax1.set_autoscale_on(False)\n",
    "            \n",
    "            s = np.argsort(filters_wl)\n",
    "            filters_wl = filters_wl[s]\n",
    "            mod_fluxes = mod_fluxes[s]\n",
    "            obs_fluxes = obs_fluxes[s]\n",
    "            obs_fluxes_err = obs_fluxes_err[s]\n",
    "            ax1.scatter(\n",
    "                    filters_wl,\n",
    "                    mod_fluxes,\n",
    "                    marker=\"o\",\n",
    "                    color=\"xkcd:strawberry\",\n",
    "                    s=8,\n",
    "                    zorder=3,\n",
    "                    label=\"Model fluxes\",\n",
    "                )\n",
    "            mask_ok = np.logical_and(obs_fluxes > 0.0, obs_fluxes_err > 0.0)\n",
    "            ax1.errorbar(\n",
    "                    filters_wl[mask_ok],\n",
    "                    obs_fluxes[mask_ok],\n",
    "                    yerr=obs_fluxes_err[mask_ok],\n",
    "                    ls=\"\",\n",
    "                    marker=\"o\",\n",
    "                    label=\"Observed fluxes\",\n",
    "                    markerfacecolor=\"None\",\n",
    "                    markersize=5,\n",
    "                    markeredgecolor=\"xkcd:pastel purple\",\n",
    "                    color=\"xkcd:light indigo\",\n",
    "                    capsize=0.0,\n",
    "                    zorder=3,\n",
    "                    lw=1,\n",
    "                )\n",
    "            mask_uplim = np.logical_and(\n",
    "                    np.logical_and(obs_fluxes > 0.0, obs_fluxes_err < 0.0),\n",
    "                    obs_fluxes_err > -9990.0 * k_corr_SED,\n",
    "                )\n",
    "            if not mask_uplim.any() == False:\n",
    "                ax1.errorbar(\n",
    "                        filters_wl[mask_uplim],\n",
    "                        obs_fluxes[mask_uplim],\n",
    "                        yerr=obs_fluxes_err[mask_uplim],\n",
    "                        ls=\"\",\n",
    "                        marker=\"v\",\n",
    "                        label=\"Observed upper limits\",\n",
    "                        markerfacecolor=\"None\",\n",
    "                        markersize=6,\n",
    "                        markeredgecolor=\"g\",\n",
    "                        capsize=0.0,\n",
    "                    )\n",
    "            mask_noerr = np.logical_and( obs_fluxes > 0.0, obs_fluxes_err < -9990.0 * k_corr_SED)\n",
    "            if not mask_noerr.any() == False:\n",
    "                ax1.errorbar(\n",
    "                        filters_wl[mask_noerr],\n",
    "                        obs_fluxes[mask_noerr],\n",
    "                        ls=\"\",\n",
    "                        marker=\"p\",\n",
    "                        markerfacecolor=\"None\",\n",
    "                        markersize=5,\n",
    "                        markeredgecolor=\"r\",\n",
    "                        label=\"Observed fluxes, no errors\",\n",
    "                        capsize=0.0,\n",
    "                    )\n",
    "\n",
    "            # Work with residuals\n",
    "            mask = np.where(obs_fluxes > 0.0)\n",
    "            ax2.errorbar(\n",
    "                    filters_wl[mask],\n",
    "                    (obs_fluxes[mask] - mod_fluxes[mask]) / obs_fluxes[mask],\n",
    "                    yerr=obs_fluxes_err[mask] / obs_fluxes[mask],\n",
    "                    marker=\"_\",\n",
    "                    label=\"(Obs-Mod)/Obs\",\n",
    "                    color=\"k\",\n",
    "                    capsize=0.0,\n",
    "                    ls=\"None\",\n",
    "                    lw=1,\n",
    "                )\n",
    "            ax2.plot([xmin, xmax], [0.0, 0.0], ls=\"--\", color=\"k\")\n",
    "            ax2.set_xscale(\"log\")\n",
    "            ax2.minorticks_on()\n",
    "\n",
    "            ax1.tick_params(\n",
    "                    direction=\"in\",\n",
    "                    axis=\"both\",\n",
    "                    which=\"both\",\n",
    "                    top=True,\n",
    "                    left=True,\n",
    "                    right=True,\n",
    "                    bottom=False,\n",
    "                )\n",
    "            ax2.tick_params(direction=\"in\", axis=\"both\", which=\"both\", right=True)\n",
    "\n",
    "            figure.subplots_adjust(hspace=0.0, wspace=0.0)\n",
    "\n",
    "            ax1.set_xlim(xmin, xmax)\n",
    "\n",
    "            if yrange[0] is not False:\n",
    "                ymin = yrange[0]\n",
    "            else:\n",
    "                if not mask_uplim.any() == False:\n",
    "                    ymin = min(\n",
    "                            min(\n",
    "                                np.min(obs_fluxes[mask_ok]),\n",
    "                                np.min(obs_fluxes[mask_uplim]),\n",
    "                            ),\n",
    "                            min(\n",
    "                                np.min(mod_fluxes[mask_ok]),\n",
    "                                np.min(mod_fluxes[mask_uplim]),\n",
    "                            ),\n",
    "                        )\n",
    "                elif not mask_ok.any() == False:\n",
    "                    ymin = min(\n",
    "                            np.min(obs_fluxes[mask_ok]),\n",
    "                            np.min(mod_fluxes[mask_ok]),\n",
    "                        )\n",
    "                else:  # No valid flux (e.g., fitting only properties)\n",
    "                    ymin = ax1.get_ylim()[0]\n",
    "                ymin *= 1e-2\n",
    "\n",
    "            if yrange[1] is not False:\n",
    "                ymax = yrange[1]\n",
    "            else:\n",
    "                if not mask_uplim.any() == False:\n",
    "                    ymax = max(\n",
    "                            max(\n",
    "                                np.max(obs_fluxes[mask_ok]),\n",
    "                                np.max(obs_fluxes[mask_uplim]),\n",
    "                            ),\n",
    "                            max(\n",
    "                                np.max(mod_fluxes[mask_ok]),\n",
    "                                np.max(mod_fluxes[mask_uplim]),\n",
    "                            ),\n",
    "                        )\n",
    "                elif not mask_ok.any() == False:\n",
    "                    ymax = max(\n",
    "                            np.max(obs_fluxes[mask_ok]),\n",
    "                            np.max(mod_fluxes[mask_ok]),\n",
    "                        )\n",
    "                else:  # No valid flux (e.g., fitting only properties)\n",
    "                    ymax = ax1.get_ylim()[1]\n",
    "                ymax *= 1e2\n",
    "\n",
    "            xmin = xmin if xmin < xmax else xmax - 1e1\n",
    "            ymin = ymin if ymin < ymax else ymax - 1e1\n",
    "\n",
    "            ax1.set_ylim(ymin, ymax)\n",
    "            ax2.set_xlim(xmin, xmax)\n",
    "            ax2.set_ylim(-1.0, 1.0)\n",
    "            \n",
    "            if sed_type == \"lum\":\n",
    "                ax2.set_xlabel(r\"Rest-frame wavelength [$\\mu$m]\")\n",
    "                ax1.set_ylabel(\"Luminosity [W/nm]\")\n",
    "            else:\n",
    "                ax2.set_xlabel(r\"Observed $\\lambda$ ($\\mu$m)\")\n",
    "                ax1.set_ylabel(r\"S$_\\nu$ (mJy)\")\n",
    "                \n",
    "            ax2.set_ylabel(\"Relative\\nresidual\")\n",
    "            ax1.legend(fontsize=6, loc=\"best\", frameon=False)\n",
    "            ax2.legend(fontsize=6, loc=\"best\", frameon=False)\n",
    "            plt.setp(ax1.get_xticklabels(), visible=False)\n",
    "            plt.setp(ax1.get_yticklabels()[1], visible=False)\n",
    "            figure.suptitle(\n",
    "                    f\"Best model for {obs['id'].data[0]}\\n (z={z:.3}, \"\n",
    "                    f\"reduced χ²={mod['best.reduced_chi_square'].data[0]:.2})\"\n",
    "                )\n",
    "\n",
    "            ax1.grid()\n",
    "            ax2.grid()\n",
    "        plt.show()\n",
    "        #plt.close(figure)\n",
    "      \n"
   ]
  },
  {
   "cell_type": "code",
   "execution_count": 34,
   "id": "7e47323a-b0e5-4b70-8e6d-19631fe79eb6",
   "metadata": {},
   "outputs": [],
   "source": [
    "def get_SSPfrompcigale(t_best_model, mod,obs, filters , series ,sed_type = \"mJy\", xrange = [10.*1e-3,5e4*1e-3],yrange = [False,False]):\n",
    "    \"\"\"\n",
    "\n",
    "    parameters :\n",
    "       t_best_model : Table of best fitted model (wrt wavelength)\n",
    "       mod : Table of all fit result (line selected for the current spectrum)\n",
    "       obs : Table of observed flux (in mJy)\n",
    "       filters: dictionnary of filtername and pivot wavelength\n",
    "       series : what to plot\n",
    "       sed_type : mJy  Fnu in obs frame, lum : Llambda in restframe\n",
    "       xrange : wavelength ranage in microns xrange = [100.*1e-3,1e4*1e-3]\n",
    "    \n",
    "    Need to convert flux density in mJy (mW/m2/Hz) into Luminosity W/nm and vice versa\n",
    "\n",
    "    Fnu = 1/(4piDL^2) * lambda^2/c * L_lambda\n",
    "    L_lambda = (4piDL^2) * (c/lambda^2) * F_nu\n",
    "\n",
    "    No K correction is calculated\n",
    "    \n",
    "    \"\"\"\n",
    "\n",
    "    all_data = {}\n",
    "\n",
    "    if True:\n",
    "        # get the table containning all seds (wrt wavelength)\n",
    "        sed = t_best_model\n",
    "        # the best model\n",
    "        # wavelengths from nm to microns \n",
    "        wavelength_spec = sed[\"wavelength\"].data * 1e-3\n",
    "        \n",
    "        # pivot wavelengths in filter from nm to microns\n",
    "        filters_wl = (np.array([filt_wl for filt_wl in filters.values()]) * 1e-3)\n",
    "\n",
    "        \n",
    "        # retrieve observed fluxes (in mJy)\n",
    "        obs_fluxes = np.array([obs[filt].data[0] for filt in filters.keys()])\n",
    "        obs_fluxes_err = np.array([obs[filt + \"_err\"].data[0] for filt in filters.keys()])\n",
    "        \n",
    "        # retrieve the model fluxes (in mJy)\n",
    "        mod_fluxes = np.array(\n",
    "            [\n",
    "                mod[\"best.\" + filt].data[0]\n",
    "                if \"best.\" + filt in mod.colnames\n",
    "                else np.nan\n",
    "                for filt in filters.keys()\n",
    "            ])\n",
    "\n",
    "        # retrieve the redshift from the observation\n",
    "        if obs[\"redshift\"].data[0] >= 0:\n",
    "            z = float(obs[\"redshift\"].data[0])\n",
    "        else:  # Redshift mode\n",
    "            z = float(mod[\"best.universe.redshift\"].data[0])\n",
    "\n",
    "        # the redshift factor   \n",
    "        zp1 = 1.0 + z\n",
    "\n",
    "        # surface of the sphere centered on the object of radius distance-luminosity\n",
    "        surf = 4.0 * np.pi * mod[\"best.universe.luminosity_distance\"].data[0] ** 2\n",
    "\n",
    "        # define the range if wavelength (in microns)\n",
    "        xmin = 0.9 * np.min(filters_wl) if xrange[0] is False else xrange[0]\n",
    "        xmax = 1.1 * np.max(filters_wl) if xrange[1] is False else xrange[1]\n",
    "\n",
    "        if sed_type == \"lum\":\n",
    "            # L_lambda = (4piDL^2) * (c/lambda^2) * F_nu\n",
    "            # 1 mJy = 10^-29 W/m2/Hz\n",
    "            # Every values converted to SI \n",
    "            # Convert wavelength from microns to meters\n",
    "            # need to convert lumi from W/m to W/nm \n",
    "            k_corr_SED = (1e-29 * surf * ctes.c.value/ (filters_wl * 1e-6)**2)*1e-9\n",
    "\n",
    "            #print(\"k_corr_SED --> W/m2 = \",k_corr_SED)\n",
    "            \n",
    "            # convert fluxes from mJy to W/nm\n",
    "            obs_fluxes *= k_corr_SED\n",
    "            obs_fluxes_err *= k_corr_SED\n",
    "            mod_fluxes *= k_corr_SED\n",
    "\n",
    "            #for cname in sed.colnames[1:]:\n",
    "\n",
    "            # I think this should not be applied (why 1e3)\n",
    "            for cname in sed.colnames[2:]:\n",
    "                #sed[cname] *= wavelength_spec * 1e3\n",
    "                sed[cname] *=  1e0\n",
    "                \n",
    "            # set source rest frame\n",
    "            filters_wl /= zp1\n",
    "            wavelength_spec /= zp1\n",
    "            xmin /= zp1\n",
    "            xmax /= zp1\n",
    "            \n",
    "        elif sed_type == \"mJy\":\n",
    "            k_corr_SED = 1.0\n",
    "            # 1 W/m2/Hz = 10^29 mJy\n",
    "            #Fnu = 1/(4piDL^2) * lambda^2/c * L_lambda\n",
    "            fact = 1e29 * 1e-3 * wavelength_spec ** 2 / ctes.c.value / surf\n",
    "\n",
    "            #print(\"fact --> mJy = \",fact)\n",
    "            \n",
    "            #for cname in sed.colnames[1:]:\n",
    "            for cname in sed.colnames[2:]:\n",
    "                sed[cname] *= fact\n",
    "        else:\n",
    "            print(\"ERROR Unknown plot type.\")\n",
    "\n",
    "        wsed = np.where((wavelength_spec > xmin) & (wavelength_spec < xmax))\n",
    "\n",
    "        # save wavelength\n",
    "        all_data[\"wl\"] = wavelength_spec\n",
    "        \n",
    "        if (sed.columns[0][wsed].data > 0.0).any():    \n",
    "            \n",
    "           \n",
    "            # Stellar emission\n",
    "            if ( \"stellar_attenuated\" in series and \"stellar.young\" in sed.columns):\n",
    "                spectrum =  sed[\"stellar.young\"].data  + sed[\"stellar.old\"].data\n",
    "\n",
    "                if \"nebular.absorption_young\" in sed.columns:\n",
    "                    spectrum += sed[\"nebular.absorption_young\"].data\n",
    "                    spectrum += sed[\"nebular.absorption_old\"].data\n",
    "\n",
    "                if \"attenuation.stellar.young\" in sed.columns:\n",
    "                    spectrum += sed[\"attenuation.stellar.young\"].data\n",
    "                    spectrum += sed[\"attenuation.stellar.old\"].data\n",
    "                    \n",
    "                all_data[\"stellar_attenuated\"] = spectrum\n",
    "\n",
    "            if (\"stellar_unattenuated\" in series and \"stellar.young\" in sed.columns):\n",
    "\n",
    "                spectrum = sed[\"stellar.old\"].data + sed[\"stellar.young\"].data\n",
    "                all_data[\"stellar_unattenuated\"] = spectrum\n",
    "\n",
    "            # Nebular emission\n",
    "            if \"nebular\" in series and \"nebular.lines_young\" in sed.columns:\n",
    "                spectrum = (\n",
    "                        sed[\"nebular.lines_young\"].data\n",
    "                        + sed[\"nebular.lines_old\"].data\n",
    "                        + sed[\"nebular.continuum_young\"].data\n",
    "                        + sed[\"nebular.continuum_old\"].data\n",
    "                    )\n",
    "\n",
    "                if \"attenuation.nebular.lines_young\" in sed.columns:\n",
    "                        spectrum += sed[\"attenuation.nebular.lines_young\"].data\n",
    "                        spectrum += sed[\"attenuation.nebular.lines_old\"].data\n",
    "                        spectrum += sed[\"attenuation.nebular.continuum_young\"].data\n",
    "                        spectrum += sed[\"attenuation.nebular.continuum_old\"].data\n",
    "\n",
    "               \n",
    "                all_data[\"nebular_emission\"] = spectrum\n",
    "\n",
    "            # Dust emission Draine & Li\n",
    "            if \"dust\" in series and \"dust.Umin_Umin\" in sed.columns:\n",
    "                spectrum =  sed[\"dust.Umin_Umin\"].data + sed[\"dust.Umin_Umax\"].data\n",
    "                all_data[\"dust_emission_draineli\"] = spectrum\n",
    "               \n",
    "\n",
    "            # Dust emission Dale\n",
    "            if \"dust\" in series and \"dust\" in sed.columns:\n",
    "                spectrum = sed[\"dust\"].data\n",
    "                all_data[\"dust_emission_dale\"] = spectrum\n",
    "              \n",
    "\n",
    "            # AGN emission\n",
    "            if \"agn\" in series and ( \"agn.fritz2006_torus\" in sed.columns or \"agn.SKIRTOR2016_torus\" in sed.columns):\n",
    "                if \"agn.fritz2006_torus\" in sed.columns:\n",
    "                    agn_sed = (\n",
    "                            sed[\"agn.fritz2006_polar_dust\"]\n",
    "                            + sed[\"agn.fritz2006_torus\"]\n",
    "                            + sed[\"agn.fritz2006_disk\"]\n",
    "                        )\n",
    "                elif \"agn.SKIRTOR2016_torus\" in sed.columns:\n",
    "                    agn_sed = (\n",
    "                            sed[\"agn.SKIRTOR2016_polar_dust\"]\n",
    "                            + sed[\"agn.SKIRTOR2016_torus\"]\n",
    "                            + sed[\"agn.SKIRTOR2016_disk\"]\n",
    "                        )\n",
    "                if \"xray.agn\" in sed.columns:\n",
    "                    agn_sed += sed[\"xray.agn\"]\n",
    "                if \"radio.agn\" in sed.columns:\n",
    "                    agn_sed += sed[\"radio.agn\"]\n",
    "\n",
    "                all_data[\"agn_sed\"] = agn_sed\n",
    "                \n",
    "\n",
    "            # Radio emission\n",
    "            if \"radio\" in series and \"radio.sf_nonthermal\" in sed.columns:\n",
    "                all_data[\"radio_sf_nonthermal\"] = sed[\"radio.sf_nonthermal\"]\n",
    "              \n",
    "            if \"model\" in series:\n",
    "                spectrum = sed[\"L_lambda_total\"].data\n",
    "                all_data[\"model\"] = spectrum\n",
    "\n",
    "    return all_data\n",
    "                "
   ]
  },
  {
   "cell_type": "markdown",
   "id": "eab12c50-a5f2-4000-ac80-e3410d7fbc3a",
   "metadata": {},
   "source": [
    "## Table must be copied otherwise would be overwritten"
   ]
  },
  {
   "cell_type": "code",
   "execution_count": 35,
   "id": "1be14e6d-71b4-491e-af7a-559696702dce",
   "metadata": {},
   "outputs": [
    {
     "name": "stderr",
     "output_type": "stream",
     "text": [
      "/var/folders/79/hrybm_4s0zjd4jsb7lp_trhh0000gp/T/ipykernel_77723/24951084.py:36: UserWarning: Warning: converting a masked element to nan.\n",
      "  obs_fluxes = np.array([obs[filt].data[0] for filt in filters.keys()])\n",
      "/var/folders/79/hrybm_4s0zjd4jsb7lp_trhh0000gp/T/ipykernel_77723/24951084.py:37: UserWarning: Warning: converting a masked element to nan.\n",
      "  obs_fluxes_err = np.array([obs[filt + \"_err\"].data[0] for filt in filters.keys()])\n"
     ]
    },
    {
     "name": "stdout",
     "output_type": "stream",
     "text": [
      "================ START the figure ================================================================\n"
     ]
    },
    {
     "data": {
      "image/png": "[encoded data removed]",
      "text/plain": [
       "<Figure size 1200x600 with 2 Axes>"
      ]
     },
     "metadata": {},
     "output_type": "display_data"
    }
   ],
   "source": [
    "plots_frompcigale(t_best_model= t_best.copy(), mod = t_res_sel.copy(), obs= FORS2_sel.copy(), filters = dict_filters, series=series, \n",
    "                  sed_type = \"mJy\")"
   ]
  },
  {
   "cell_type": "code",
   "execution_count": 36,
   "id": "b97f810b-0744-45f8-aba1-18d6809e7655",
   "metadata": {},
   "outputs": [
    {
     "name": "stderr",
     "output_type": "stream",
     "text": [
      "/var/folders/79/hrybm_4s0zjd4jsb7lp_trhh0000gp/T/ipykernel_77723/3355053614.py:36: UserWarning: Warning: converting a masked element to nan.\n",
      "  obs_fluxes = np.array([obs[filt].data[0] for filt in filters.keys()])\n",
      "/var/folders/79/hrybm_4s0zjd4jsb7lp_trhh0000gp/T/ipykernel_77723/3355053614.py:37: UserWarning: Warning: converting a masked element to nan.\n",
      "  obs_fluxes_err = np.array([obs[filt + \"_err\"].data[0] for filt in filters.keys()])\n"
     ]
    }
   ],
   "source": [
    "dict_FluxmJy = get_SSPfrompcigale(t_best_model= t_best.copy(), mod = t_res_sel.copy(), obs= FORS2_sel.copy(), filters = dict_filters, series=series, \n",
    "                  sed_type = \"mJy\")"
   ]
  },
  {
   "cell_type": "code",
   "execution_count": 37,
   "id": "59a23b10-7fcf-4476-b1ec-2168efad77fd",
   "metadata": {},
   "outputs": [
    {
     "data": {
      "text/plain": [
       "<matplotlib.legend.Legend at 0x147db3340>"
      ]
     },
     "execution_count": 37,
     "metadata": {},
     "output_type": "execute_result"
    },
    {
     "data": {
      "image/png": "[encoded data removed]",
      "text/plain": [
       "<Figure size 800x400 with 1 Axes>"
      ]
     },
     "metadata": {},
     "output_type": "display_data"
    }
   ],
   "source": [
    "fig=plt.figure(figsize=(8,4))\n",
    "plt.loglog(dict_FluxmJy['wl']*1000,dict_FluxmJy['stellar_attenuated'],'r-',label=\"stellar_attenuated\")\n",
    "plt.loglog(dict_FluxmJy['wl']*1000,dict_FluxmJy['stellar_unattenuated'],'b-',label=\"stellar_unattenuated\")\n",
    "plt.loglog(dict_FluxmJy['wl']*1000,dict_FluxmJy['model'],'k:',label=\"model\")\n",
    "plt.xlim(1e-2*1000,1e2*1000)\n",
    "plt.ylim(1e-5,1e-1)\n",
    "plt.title(f\"Flux for {spec_name} in obs frame\")\n",
    "plt.xlabel(\"$\\lambda$ (nm)\")\n",
    "plt.ylabel(\"Flux  (mJy)\")\n",
    "plt.grid()\n",
    "plt.legend()"
   ]
  },
  {
   "cell_type": "code",
   "execution_count": 38,
   "id": "b7be83af-f640-4be1-b5f9-dd5314f6490b",
   "metadata": {},
   "outputs": [
    {
     "name": "stderr",
     "output_type": "stream",
     "text": [
      "/var/folders/79/hrybm_4s0zjd4jsb7lp_trhh0000gp/T/ipykernel_77723/3355053614.py:36: UserWarning: Warning: converting a masked element to nan.\n",
      "  obs_fluxes = np.array([obs[filt].data[0] for filt in filters.keys()])\n",
      "/var/folders/79/hrybm_4s0zjd4jsb7lp_trhh0000gp/T/ipykernel_77723/3355053614.py:37: UserWarning: Warning: converting a masked element to nan.\n",
      "  obs_fluxes_err = np.array([obs[filt + \"_err\"].data[0] for filt in filters.keys()])\n"
     ]
    }
   ],
   "source": [
    "dict_Lum = get_SSPfrompcigale(t_best_model= t_best.copy(), mod = t_res_sel.copy(), obs= FORS2_sel.copy(), filters = dict_filters, series=series, \n",
    "                  sed_type = \"lum\")"
   ]
  },
  {
   "cell_type": "code",
   "execution_count": 39,
   "id": "761bb7f1-6cfa-430f-b78c-d639a474c39e",
   "metadata": {},
   "outputs": [
    {
     "data": {
      "text/plain": [
       "<matplotlib.legend.Legend at 0x16401d720>"
      ]
     },
     "execution_count": 39,
     "metadata": {},
     "output_type": "execute_result"
    },
    {
     "data": {
      "image/png": "[encoded data removed]",
      "text/plain": [
       "<Figure size 800x400 with 1 Axes>"
      ]
     },
     "metadata": {},
     "output_type": "display_data"
    }
   ],
   "source": [
    "fig=plt.figure(figsize=(8,4))\n",
    "plt.loglog(dict_Lum['wl']*1000,dict_Lum['stellar_attenuated'],'r-',label=\"stellar_attenuated\")\n",
    "plt.loglog(dict_Lum['wl']*1000,dict_Lum['stellar_unattenuated'],'b-',label=\"stellar_unattenuated\")\n",
    "#plt.loglog(dict_Lum['wl']*1000,dict_FluxmJy['model'],'k:',label=\"model\")\n",
    "plt.xlim(0.5e-2*1000,1e2*1000)\n",
    "#plt.ylim(1e-5,1e-1)\n",
    "plt.title(f\"Luminosity for {spec_name} in rest frame\")\n",
    "plt.xlabel(\"$\\lambda$ (nm)\")\n",
    "plt.ylabel(\"Luminosity (W/nm)\")\n",
    "plt.grid()\n",
    "plt.legend()"
   ]
  },
  {
   "cell_type": "markdown",
   "id": "740bef51-91a1-4c35-8ab2-d9d915c43385",
   "metadata": {},
   "source": [
    "## Loops"
   ]
  },
  {
   "cell_type": "code",
   "execution_count": 40,
   "id": "32aaee73-01f0-4843-90e1-e0154ec2ffb8",
   "metadata": {},
   "outputs": [],
   "source": [
    "list_of_keys = np.array(list(spec_dict.keys())) "
   ]
  },
  {
   "cell_type": "code",
   "execution_count": 41,
   "id": "cd736531-335b-45bd-b357-2168f6ffd8f1",
   "metadata": {},
   "outputs": [],
   "source": [
    "all_nums = []\n",
    "for key in list_of_keys:\n",
    "    num_str = re.findall(\"^SPEC(.+)\",key)[0]\n",
    "    all_nums.append(int(num_str)) \n",
    "all_nums = np.array(all_nums)"
   ]
  },
  {
   "cell_type": "code",
   "execution_count": 42,
   "id": "9beafac6-2bc8-4085-8bf4-1d3a4305131b",
   "metadata": {},
   "outputs": [],
   "source": [
    "sorted_indexes = np.argsort(all_nums)"
   ]
  },
  {
   "cell_type": "code",
   "execution_count": 43,
   "id": "3dd121e9-7086-4170-b1cd-7ba00f7bba90",
   "metadata": {},
   "outputs": [],
   "source": [
    "list_of_keys_sorted = list_of_keys[np.argsort(all_nums)]"
   ]
  },
  {
   "cell_type": "code",
   "execution_count": 44,
   "id": "26da16ce-77ee-4ab8-a783-2f741b971bd9",
   "metadata": {},
   "outputs": [
    {
     "name": "stderr",
     "output_type": "stream",
     "text": [
      "/var/folders/79/hrybm_4s0zjd4jsb7lp_trhh0000gp/T/ipykernel_77723/3355053614.py:36: UserWarning: Warning: converting a masked element to nan.\n",
      "  obs_fluxes = np.array([obs[filt].data[0] for filt in filters.keys()])\n",
      "/var/folders/79/hrybm_4s0zjd4jsb7lp_trhh0000gp/T/ipykernel_77723/3355053614.py:37: UserWarning: Warning: converting a masked element to nan.\n",
      "  obs_fluxes_err = np.array([obs[filt + \"_err\"].data[0] for filt in filters.keys()])\n",
      "/var/folders/79/hrybm_4s0zjd4jsb7lp_trhh0000gp/T/ipykernel_77723/3355053614.py:40: UserWarning: Warning: converting a masked element to nan.\n",
      "  mod_fluxes = np.array(\n"
     ]
    }
   ],
   "source": [
    "all_lum = []\n",
    "all_flx = []\n",
    "\n",
    "for spec_name in list_of_keys_sorted:\n",
    "\n",
    "    # retrieve the filename\n",
    "    file_best_model = os.path.join(path,spec_dict[spec_name]['best_model'])\n",
    "    file_sfh = os.path.join(path,spec_dict[spec_name]['SFH'])\n",
    "\n",
    "    # readthe table\n",
    "    t_best = Table.read(file_best_model)\n",
    "    t_sfh = Table.read(file_sfh)\n",
    "\n",
    "    #get the result for that spectrum, t_res table table of all results outside this loop    \n",
    "    cut_select = t_res[\"id\"] == spec_name\n",
    "    t_res_sel = t_res[cut_select]\n",
    "\n",
    "    # data and select this spectrum row\n",
    "    cut_fors2select = FORS2[\"id\"] == spec_name\n",
    "    FORS2_sel = FORS2[cut_fors2select]\n",
    "\n",
    "\n",
    "    dict_FluxmJy = get_SSPfrompcigale(t_best_model= t_best.copy(), mod = t_res_sel.copy(), obs= FORS2_sel.copy(), filters = dict_filters, series=series, \n",
    "                  sed_type = \"mJy\")\n",
    "    \n",
    "    \n",
    "    dict_Lum = get_SSPfrompcigale(t_best_model= t_best.copy(), mod = t_res_sel.copy(), obs= FORS2_sel.copy(), filters = dict_filters, series=series, \n",
    "                  sed_type = \"lum\")\n",
    "\n",
    "\n",
    "    all_lum.append(dict_Lum)\n",
    "    all_flx.append(dict_FluxmJy)\n",
    "    "
   ]
  },
  {
   "cell_type": "markdown",
   "id": "f383651e-6c22-4ca3-92cb-b0a50a5e339b",
   "metadata": {},
   "source": [
    "## Save file"
   ]
  },
  {
   "cell_type": "markdown",
   "id": "b53cb3b0-60ff-4a86-9644-3b557c2d4b09",
   "metadata": {},
   "source": [
    "### Create output file"
   ]
  },
  {
   "cell_type": "code",
   "execution_count": 49,
   "id": "92301df9-a042-4290-93a9-f95a8b249ffc",
   "metadata": {},
   "outputs": [],
   "source": [
    "hf_outfile =  h5py.File(output_file_h5, 'w') "
   ]
  },
  {
   "cell_type": "code",
   "execution_count": 50,
   "id": "d1d2064c-0a87-47b2-83eb-f6d8e7dffccc",
   "metadata": {},
   "outputs": [],
   "source": [
    "for idx,spec_name in enumerate(list_of_keys_sorted):\n",
    "\n",
    "    # retrieve the filename\n",
    "    file_best_model = os.path.join(path,spec_dict[spec_name]['best_model'])\n",
    "    file_sfh = os.path.join(path,spec_dict[spec_name]['SFH'])\n",
    "\n",
    "    # readthe table\n",
    "    t_best = Table.read(file_best_model)\n",
    "    t_sfh = Table.read(file_sfh)\n",
    "\n",
    "    #get the result for that spectrum, t_res table table of all results outside this loop    \n",
    "    cut_select = t_res[\"id\"] == spec_name\n",
    "    t_res_sel = t_res[cut_select]\n",
    "\n",
    "    # data and select this spectrum row\n",
    "    cut_fors2select = FORS2[\"id\"] == spec_name\n",
    "    FORS2_sel = FORS2[cut_fors2select]\n",
    "\n",
    "\n",
    "    # decode the result of the fit\n",
    "    chi2_red = t_res_sel[\"best.reduced_chi_square\"][0]\n",
    "    #redshift = t_res_sel[\"best.universe.redshift\"][0]\n",
    "    redshift = FORS2_sel[\"redshift\"].value[0]\n",
    "    \n",
    "    dict_FluxmJy = all_flx[idx] \n",
    "    dict_Lum = all_lum[idx]\n",
    "\n",
    "    # wavelength in nm\n",
    "    wl = dict_FluxmJy[\"wl\"]*100.\n",
    "    flx_model = dict_FluxmJy[\"model\"]\n",
    "    flx_unatt = dict_FluxmJy[\"stellar_unattenuated\"]\n",
    "    flx_att = dict_FluxmJy[\"stellar_attenuated\"]\n",
    "    lum_unatt = dict_Lum[\"stellar_unattenuated\"]\n",
    "    lum_att = dict_Lum[\"stellar_attenuated\"]\n",
    "    \n",
    "    # create the group\n",
    "    h5group = hf_outfile.create_group(spec_name)\n",
    "\n",
    "\n",
    "    \n",
    "    h5group.attrs[\"redshift\"] = redshift \n",
    "    h5group.attrs[\"chi2_red\"] = chi2_red \n",
    "        \n",
    "\n",
    "    d = h5group.create_dataset(\"wl\",data=wl,compression=\"gzip\", compression_opts=9)\n",
    "    d = h5group.create_dataset(\"flnu_model\",data=flx_model,compression=\"gzip\", compression_opts=9)\n",
    "    d = h5group.create_dataset(\"flnu_stelatt\",data=flx_att,compression=\"gzip\", compression_opts=9)\n",
    "    d = h5group.create_dataset(\"flnu_stelunatt\",data=flx_unatt,compression=\"gzip\", compression_opts=9)\n",
    "    d = h5group.create_dataset(\"lum_stelatt\",data=lum_att,compression=\"gzip\", compression_opts=9)\n",
    "    d = h5group.create_dataset(\"lum_stelunatt\",data=lum_unatt,compression=\"gzip\", compression_opts=9)\n",
    "   \n",
    "\n"
   ]
  },
  {
   "cell_type": "markdown",
   "id": "5b722ac1-3086-4bca-8287-fede5d64429d",
   "metadata": {},
   "source": [
    "### Save output file"
   ]
  },
  {
   "cell_type": "code",
   "execution_count": 51,
   "id": "27229166-1776-4ba7-b6ca-335e2a964f77",
   "metadata": {},
   "outputs": [],
   "source": [
    "hf_outfile.close() "
   ]
  },
  {
   "cell_type": "markdown",
   "id": "847ff0ec-6ce8-47ce-8a72-9f1848008dbc",
   "metadata": {},
   "source": [
    "## Read again the written file to check"
   ]
  },
  {
   "cell_type": "code",
   "execution_count": 58,
   "id": "ba364dc4-0f21-4635-8395-67b78d30af08",
   "metadata": {},
   "outputs": [],
   "source": [
    "import collections\n",
    "from collections import OrderedDict\n",
    "import re"
   ]
  },
  {
   "cell_type": "code",
   "execution_count": 59,
   "id": "a625c3a6-3388-442f-9af6-4e370904e0f6",
   "metadata": {},
   "outputs": [],
   "source": [
    "input_file_h5  = output_file_h5 "
   ]
  },
  {
   "cell_type": "code",
   "execution_count": 60,
   "id": "bba7ab69-19bd-4ea8-b614-69540464fa82",
   "metadata": {},
   "outputs": [],
   "source": [
    "if os.path.isfile(input_file_h5):\n",
    "    hf = h5py.File(input_file_h5, 'r')\n",
    "    list_of_groupkeys = list(hf.keys())\n",
    "    # pick one key\n",
    "    key_sel =  list_of_groupkeys[0]\n",
    "    # pick one group\n",
    "    group = hf.get(key_sel)\n",
    "    #pickup all attribute names\n",
    "    list_of_subgroup_keys = []\n",
    "    for k in group.attrs.keys():\n",
    "        list_of_subgroup_keys.append(k)\n",
    "else:\n",
    "    hf = None\n",
    "    list_of_groupkeys = []\n",
    "    list_of_subgroup_keys = []"
   ]
  },
  {
   "cell_type": "code",
   "execution_count": 61,
   "id": "9018a23d-c1b5-41e6-9a9e-67fe29048a2a",
   "metadata": {},
   "outputs": [
    {
     "name": "stdout",
     "output_type": "stream",
     "text": [
      "['SPEC102', 'SPEC106', 'SPEC107', 'SPEC109', 'SPEC110', 'SPEC111', 'SPEC112', 'SPEC113', 'SPEC114', 'SPEC115']\n"
     ]
    }
   ],
   "source": [
    "print(list_of_groupkeys[:10])"
   ]
  },
  {
   "cell_type": "code",
   "execution_count": 62,
   "id": "3172d778-7ddd-451f-87f9-b1448e7b6879",
   "metadata": {},
   "outputs": [
    {
     "data": {
      "text/plain": [
       "['chi2_red', 'redshift']"
      ]
     },
     "execution_count": 62,
     "metadata": {},
     "output_type": "execute_result"
    }
   ],
   "source": [
    "list_of_subgroup_keys"
   ]
  },
  {
   "cell_type": "code",
   "execution_count": 64,
   "id": "d6b61b29-0ea7-4785-a7ee-707e810595b5",
   "metadata": {},
   "outputs": [],
   "source": [
    "groupname = list_of_groupkeys[0]"
   ]
  },
  {
   "cell_type": "code",
   "execution_count": 65,
   "id": "0cd094ef-20d9-43d3-80e0-3965341b21c2",
   "metadata": {},
   "outputs": [],
   "source": [
    "attr_dict = OrderedDict()\n",
    "if groupname in list_of_groupkeys:\n",
    "    group = hf.get(groupname)\n",
    "    for nameval in list_of_subgroup_keys:\n",
    "        attr_dict[nameval] = group.attrs[nameval]"
   ]
  },
  {
   "cell_type": "code",
   "execution_count": 66,
   "id": "aa380168-e121-492c-ac75-396bb4627f6b",
   "metadata": {},
   "outputs": [
    {
     "data": {
      "text/plain": [
       "OrderedDict([('chi2_red', 1.4191969512171358), ('redshift', 0.5133)])"
      ]
     },
     "execution_count": 66,
     "metadata": {},
     "output_type": "execute_result"
    }
   ],
   "source": [
    "attr_dict"
   ]
  },
  {
   "cell_type": "code",
   "execution_count": 67,
   "id": "aa19e8a2-c681-464c-abff-597bf3b1b645",
   "metadata": {},
   "outputs": [],
   "source": [
    "group = hf.get(groupname)\n",
    "wl = np.array(group.get(\"wl\"))\n",
    "flnu_model = np.array(group.get(\"flnu_model\"))\n",
    "flnu_stelatt = np.array(group.get(\"flnu_stelatt\"))\n",
    "flnu_stelunatt = np.array(group.get(\"flnu_stelunatt\"))\n",
    "lum_stelatt = np.array(group.get(\"lum_stelatt\"))\n",
    "lum_stelunatt = np.array(group.get(\"lum_stelunatt\"))"
   ]
  },
  {
   "cell_type": "code",
   "execution_count": 68,
   "id": "e939aa74-cb44-4eed-b13d-441b49ecfabc",
   "metadata": {},
   "outputs": [
    {
     "data": {
      "text/plain": [
       "<matplotlib.legend.Legend at 0x147abe500>"
      ]
     },
     "execution_count": 68,
     "metadata": {},
     "output_type": "execute_result"
    },
    {
     "data": {
      "image/png": "[encoded data removed]",
      "text/plain": [
       "<Figure size 800x400 with 1 Axes>"
      ]
     },
     "metadata": {},
     "output_type": "display_data"
    }
   ],
   "source": [
    "fig=plt.figure(figsize=(8,4))\n",
    "plt.loglog(wl,flnu_stelatt,'r-',label=\"stellar_attenuated\")\n",
    "plt.loglog(wl,flnu_stelunatt,'b-',label=\"stellar_unattenuated\")\n",
    "plt.loglog(wl,flnu_model,'k:',label=\"model\")\n",
    "\n",
    "plt.title(f\"Flux for {groupname} in obs frame\")\n",
    "plt.xlabel(\"$\\lambda$ (nm)\")\n",
    "plt.ylabel(\"Flux  (mJy)\")\n",
    "plt.grid()\n",
    "plt.legend()"
   ]
  }
 ],
 "metadata": {
  "kernelspec": {
   "display_name": "pcigale",
   "language": "python",
   "name": "pcigale"
  },
  "language_info": {
   "codemirror_mode": {
    "name": "ipython",
    "version": 3
   },
   "file_extension": ".py",
   "mimetype": "text/x-python",
   "name": "python",
   "nbconvert_exporter": "python",
   "pygments_lexer": "ipython3",
   "version": "3.10.13"
  }
 },
 "nbformat": 4,
 "nbformat_minor": 5
}
