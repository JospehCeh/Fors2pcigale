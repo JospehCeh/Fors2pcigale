{
 "cells": [
  {
   "cell_type": "markdown",
   "id": "8d4f9c65-a4a1-4a8b-940a-832fc8a82268",
   "metadata": {},
   "source": [
    "# Test Fors2 and StarLightIO\n",
    "\n",
    "Test Fors2 IO for `fors2pcigale` package\n",
    "\n",
    "- Author Sylvie Dagoret-Campagne\n",
    "- Afflilation : IJCLab/IN2P3/CNRS\n",
    "- Organisation : LSST-DESC\n",
    "- creation date : 2024-02-04\n",
    "- last update : 2024-02-04\n",
    "\n",
    "  Use ``pcigale`` python environnement"
   ]
  },
  {
   "cell_type": "code",
   "execution_count": 1,
   "id": "1fea7937-d49c-4d85-8854-ee02d3100165",
   "metadata": {},
   "outputs": [],
   "source": [
    "import matplotlib.pyplot as plt"
   ]
  },
  {
   "cell_type": "code",
   "execution_count": 2,
   "id": "32949350-31af-4c67-b224-9c1ac0077d98",
   "metadata": {},
   "outputs": [],
   "source": [
    "from fors2pcigale.fors2starlightio import FILENAME_FORS2PHOTOM,FILENAME_STARLIGHT\n",
    "from fors2pcigale.fors2starlightio import _getPackageDir\n",
    "from fors2pcigale.fors2starlightio import FULL_FILENAME_FORS2PHOTOM, FULL_FILENAME_STARLIGHT\n",
    "from fors2pcigale.fors2starlightio import Fors2DataAcess, SLDataAcess\n",
    "from fors2pcigale.fors2starlightio import convertflambda_to_fnu, flux_norm,ordered_keys"
   ]
  },
  {
   "cell_type": "code",
   "execution_count": 3,
   "id": "b766b86a-5288-4dc1-8e1c-837a1afee569",
   "metadata": {},
   "outputs": [
    {
     "data": {
      "text/plain": [
       "'/Users/dagoret/MacOSX/GitHub/LSST/Fors2pcigale/src/fors2pcigale/fors2starlightio'"
      ]
     },
     "execution_count": 3,
     "metadata": {},
     "output_type": "execute_result"
    }
   ],
   "source": [
    "_getPackageDir()"
   ]
  },
  {
   "cell_type": "code",
   "execution_count": 4,
   "id": "b206d906-8f14-4b51-9914-2a6688e2c337",
   "metadata": {},
   "outputs": [
    {
     "data": {
      "text/plain": [
       "'data/FORS2spectraGalexKidsPhotom.h5'"
      ]
     },
     "execution_count": 4,
     "metadata": {},
     "output_type": "execute_result"
    }
   ],
   "source": [
    "FILENAME_FORS2PHOTOM"
   ]
  },
  {
   "cell_type": "code",
   "execution_count": 5,
   "id": "5534a5c7-76f3-4a79-9ad5-7f6d759f2596",
   "metadata": {},
   "outputs": [
    {
     "data": {
      "text/plain": [
       "'data/SLspectra.h5'"
      ]
     },
     "execution_count": 5,
     "metadata": {},
     "output_type": "execute_result"
    }
   ],
   "source": [
    "FILENAME_STARLIGHT"
   ]
  },
  {
   "cell_type": "code",
   "execution_count": 6,
   "id": "e6cd11b5-ca1b-4dac-b283-0ae84296b131",
   "metadata": {},
   "outputs": [
    {
     "data": {
      "text/plain": [
       "'/Users/dagoret/MacOSX/GitHub/LSST/Fors2pcigale/src/fors2pcigale/fors2starlightio/data/FORS2spectraGalexKidsPhotom.h5'"
      ]
     },
     "execution_count": 6,
     "metadata": {},
     "output_type": "execute_result"
    }
   ],
   "source": [
    "FULL_FILENAME_FORS2PHOTOM"
   ]
  },
  {
   "cell_type": "code",
   "execution_count": 7,
   "id": "874de56b-6b1b-4cff-a54e-6f2593272192",
   "metadata": {},
   "outputs": [
    {
     "name": "stdout",
     "output_type": "stream",
     "text": [
      "/Users/dagoret/MacOSX/GitHub/LSST/Fors2ToStellarPopSynthesis/src/fors2tostellarpopsynthesis/fors2starlightio/data/FORS2spectraGalexKidsPhotom.h5\n"
     ]
    }
   ],
   "source": [
    "!ls /Users/dagoret/MacOSX/GitHub/LSST/Fors2ToStellarPopSynthesis/src/fors2tostellarpopsynthesis/fors2starlightio/data/FORS2spectraGalexKidsPhotom.h5"
   ]
  },
  {
   "cell_type": "code",
   "execution_count": 8,
   "id": "c98a100e-4123-494e-a668-d36fd4cae285",
   "metadata": {},
   "outputs": [],
   "source": [
    "TAG = \"SPEC560\""
   ]
  },
  {
   "cell_type": "code",
   "execution_count": 9,
   "id": "b72cd5a6-8be4-40b0-8e68-0aaaa0c331e2",
   "metadata": {},
   "outputs": [],
   "source": [
    "fors2 = Fors2DataAcess()"
   ]
  },
  {
   "cell_type": "code",
   "execution_count": 10,
   "id": "6982f764-63cc-49b9-a019-39eca4e0cb49",
   "metadata": {},
   "outputs": [
    {
     "data": {
      "text/plain": [
       "OrderedDict([('CLASS_STAR', 0.0286672804504632),\n",
       "             ('DECJ2000', -28.457745),\n",
       "             ('EXTINCTION_g', 0.0550324916839599),\n",
       "             ('EXTINCTION_i', 0.0282910000532865),\n",
       "             ('EXTINCTION_r', 0.0380712188780307),\n",
       "             ('EXTINCTION_u', 0.0706275328993797),\n",
       "             ('FLUXERR_GAAP_H', 926.3098754882812),\n",
       "             ('FLUXERR_GAAP_J', 491.317138671875),\n",
       "             ('FLUXERR_GAAP_Ks', 1042.8206787109375),\n",
       "             ('FLUXERR_GAAP_Y', 471.7182312011719),\n",
       "             ('FLUXERR_GAAP_Z', 239.88172912597656),\n",
       "             ('FLUXERR_GAAP_g', 4.9300001581098485e-11),\n",
       "             ('FLUXERR_GAAP_i', 2.4099999773596887e-10),\n",
       "             ('FLUXERR_GAAP_r', 5.7300001549132056e-11),\n",
       "             ('FLUXERR_GAAP_u', 1.4199999509578729e-10),\n",
       "             ('FLUX_GAAP_H', 360375.0),\n",
       "             ('FLUX_GAAP_J', 298651.625),\n",
       "             ('FLUX_GAAP_Ks', 367248.125),\n",
       "             ('FLUX_GAAP_Y', 238516.671875),\n",
       "             ('FLUX_GAAP_Z', 195419.71875),\n",
       "             ('FLUX_GAAP_g', 3.598900022439011e-08),\n",
       "             ('FLUX_GAAP_i', 1.5135999831272787e-07),\n",
       "             ('FLUX_GAAP_r', 9.05249990523771e-08),\n",
       "             ('FLUX_GAAP_u', 6.2499001529658935e-09),\n",
       "             ('FLUX_RADIUS', 7.754967212677002),\n",
       "             ('ID', 'KiDSDR4 J005318.057-282727.88 '),\n",
       "             ('KIDS_TILE', 'KIDS_13.5_-28.2 '),\n",
       "             ('MAGERR_GAAP_H', 0.0027907800395041),\n",
       "             ('MAGERR_GAAP_J', 0.00178616004996),\n",
       "             ('MAGERR_GAAP_Ks', 0.0030830099713057),\n",
       "             ('MAGERR_GAAP_Y', 0.0021472799126058),\n",
       "             ('MAGERR_GAAP_Z', 0.001332759973593),\n",
       "             ('MAGERR_GAAP_g', 0.0014873098116368),\n",
       "             ('MAGERR_GAAP_i', 0.0017287421505898),\n",
       "             ('MAGERR_GAAP_r', 0.000687243125867),\n",
       "             ('MAGERR_GAAP_u', 0.0246683191508054),\n",
       "             ('MAG_GAAP_H', 16.100614547729492),\n",
       "             ('MAG_GAAP_J', 16.300304412841797),\n",
       "             ('MAG_GAAP_Ks', 16.08258628845215),\n",
       "             ('MAG_GAAP_Y', 16.538049697875977),\n",
       "             ('MAG_GAAP_Z', 16.75155258178711),\n",
       "             ('MAG_GAAP_g', 18.526573181152344),\n",
       "             ('MAG_GAAP_i', 17.10333824157715),\n",
       "             ('MAG_GAAP_r', 17.52623176574707),\n",
       "             ('MAG_GAAP_u', 20.400053024291992),\n",
       "             ('Nsp', 1),\n",
       "             ('RAJ2000', 13.325241),\n",
       "             ('RT', 5.4),\n",
       "             ('RV', 35194),\n",
       "             ('Rmag', 16.85),\n",
       "             ('Z_B', 0.19),\n",
       "             ('Z_ML', 0.19),\n",
       "             ('asep_galex', 0.972608063768151),\n",
       "             ('asep_kids', 0.3471013807781076),\n",
       "             ('dec', -28.45768),\n",
       "             ('dec_galex', -28.45742425201304),\n",
       "             ('eRV', 157),\n",
       "             ('fuv_flux', nan),\n",
       "             ('fuv_fluxerr', nan),\n",
       "             ('fuv_mag', nan),\n",
       "             ('fuv_magerr', nan),\n",
       "             ('lines',\n",
       "              b'G,H{beta},Mgb,NaD                                                           \\r'),\n",
       "             ('name', 'SPEC560'),\n",
       "             ('num', 560),\n",
       "             ('nuv_flux', 4.74736547),\n",
       "             ('nuv_fluxerr', 2.01661253),\n",
       "             ('nuv_mag', 22.208868),\n",
       "             ('nuv_magerr', 0.461317182),\n",
       "             ('ra', 13.32516),\n",
       "             ('ra_galex', 13.32506094372491),\n",
       "             ('redshift', 0.11731)])"
      ]
     },
     "execution_count": 10,
     "metadata": {},
     "output_type": "execute_result"
    }
   ],
   "source": [
    "fors2.getattribdata_fromgroup(TAG)"
   ]
  },
  {
   "cell_type": "code",
   "execution_count": 11,
   "id": "bd70019c-a0ab-48d8-abb8-fe091ed45bbf",
   "metadata": {},
   "outputs": [],
   "source": [
    "spec_f2 =fors2.getspectrum_fromgroup(TAG)"
   ]
  },
  {
   "cell_type": "code",
   "execution_count": 12,
   "id": "eafe9976-b6d6-4bb3-a55a-e164d51c377b",
   "metadata": {},
   "outputs": [
    {
     "data": {
      "text/plain": [
       "(0.0, 10000.0)"
      ]
     },
     "execution_count": 12,
     "metadata": {},
     "output_type": "execute_result"
    },
    {
     "data": {
      "image/png": "[encoded data removed]",
      "text/plain": [
       "<Figure size 640x480 with 1 Axes>"
      ]
     },
     "metadata": {},
     "output_type": "display_data"
    }
   ],
   "source": [
    "plt.plot(spec_f2['wl'],spec_f2['fl'])\n",
    "plt.xlim(0,1e4)"
   ]
  },
  {
   "cell_type": "code",
   "execution_count": 13,
   "id": "9c30bdfa-be25-4b63-9949-82dca60f5d7e",
   "metadata": {},
   "outputs": [],
   "source": [
    "sl = SLDataAcess()"
   ]
  },
  {
   "cell_type": "code",
   "execution_count": 14,
   "id": "5b0945ea-c8da-4fd9-b7d6-63cf09f5a1a8",
   "metadata": {},
   "outputs": [
    {
     "data": {
      "text/plain": [
       "OrderedDict([('Nsp', 1),\n",
       "             ('RT', 5.4),\n",
       "             ('RV', 35194),\n",
       "             ('Rmag', 16.85),\n",
       "             ('dec', -28.45768),\n",
       "             ('eRV', 157),\n",
       "             ('num', 560),\n",
       "             ('ra', 13.32516),\n",
       "             ('redshift', 0.11731)])"
      ]
     },
     "execution_count": 14,
     "metadata": {},
     "output_type": "execute_result"
    }
   ],
   "source": [
    "sl.getattribdata_fromgroup(TAG)"
   ]
  },
  {
   "cell_type": "code",
   "execution_count": 15,
   "id": "98d4e490-0ebe-4c00-ac71-2ec8f2af2e05",
   "metadata": {},
   "outputs": [
    {
     "data": {
      "text/plain": [
       "array(['SPEC2', 'SPEC3', 'SPEC9', 'SPEC13', 'SPEC19', 'SPEC24', 'SPEC25',\n",
       "       'SPEC30', 'SPEC31', 'SPEC32', 'SPEC33', 'SPEC34', 'SPEC35',\n",
       "       'SPEC36', 'SPEC37', 'SPEC45', 'SPEC47', 'SPEC49', 'SPEC51',\n",
       "       'SPEC55', 'SPEC57', 'SPEC58', 'SPEC59', 'SPEC61', 'SPEC62',\n",
       "       'SPEC66', 'SPEC67', 'SPEC68', 'SPEC69', 'SPEC70', 'SPEC71',\n",
       "       'SPEC72', 'SPEC73', 'SPEC77', 'SPEC79', 'SPEC80', 'SPEC83',\n",
       "       'SPEC84', 'SPEC85', 'SPEC86', 'SPEC87', 'SPEC89', 'SPEC91',\n",
       "       'SPEC93', 'SPEC96', 'SPEC97', 'SPEC102', 'SPEC106', 'SPEC107',\n",
       "       'SPEC109', 'SPEC110', 'SPEC111', 'SPEC112', 'SPEC113', 'SPEC114',\n",
       "       'SPEC115', 'SPEC117', 'SPEC118', 'SPEC120', 'SPEC121', 'SPEC123',\n",
       "       'SPEC127', 'SPEC128', 'SPEC132', 'SPEC134', 'SPEC135', 'SPEC137',\n",
       "       'SPEC138', 'SPEC141', 'SPEC149', 'SPEC151', 'SPEC152', 'SPEC156',\n",
       "       'SPEC160', 'SPEC161', 'SPEC164', 'SPEC171', 'SPEC178', 'SPEC179',\n",
       "       'SPEC181', 'SPEC182', 'SPEC183', 'SPEC184', 'SPEC185', 'SPEC186',\n",
       "       'SPEC187', 'SPEC188', 'SPEC189', 'SPEC191', 'SPEC192', 'SPEC193',\n",
       "       'SPEC194', 'SPEC196', 'SPEC197', 'SPEC198', 'SPEC204', 'SPEC205',\n",
       "       'SPEC210', 'SPEC214', 'SPEC218', 'SPEC221', 'SPEC222', 'SPEC223',\n",
       "       'SPEC226', 'SPEC227', 'SPEC231', 'SPEC233', 'SPEC234', 'SPEC235',\n",
       "       'SPEC236', 'SPEC237', 'SPEC238', 'SPEC240', 'SPEC242', 'SPEC243',\n",
       "       'SPEC244', 'SPEC245', 'SPEC246', 'SPEC248', 'SPEC249', 'SPEC250',\n",
       "       'SPEC252', 'SPEC253', 'SPEC258', 'SPEC259', 'SPEC260', 'SPEC261',\n",
       "       'SPEC262', 'SPEC264', 'SPEC265', 'SPEC266', 'SPEC267', 'SPEC268',\n",
       "       'SPEC271', 'SPEC274', 'SPEC275', 'SPEC276', 'SPEC277', 'SPEC278',\n",
       "       'SPEC279', 'SPEC280', 'SPEC281', 'SPEC282', 'SPEC283', 'SPEC287',\n",
       "       'SPEC288', 'SPEC291', 'SPEC292', 'SPEC294', 'SPEC295', 'SPEC296',\n",
       "       'SPEC297', 'SPEC298', 'SPEC301', 'SPEC302', 'SPEC303', 'SPEC304',\n",
       "       'SPEC305', 'SPEC306', 'SPEC307', 'SPEC308', 'SPEC309', 'SPEC313',\n",
       "       'SPEC315', 'SPEC317', 'SPEC318', 'SPEC319', 'SPEC321', 'SPEC322',\n",
       "       'SPEC323', 'SPEC324', 'SPEC325', 'SPEC326', 'SPEC327', 'SPEC328',\n",
       "       'SPEC329', 'SPEC331', 'SPEC332', 'SPEC333', 'SPEC334', 'SPEC335',\n",
       "       'SPEC336', 'SPEC337', 'SPEC338', 'SPEC339', 'SPEC340', 'SPEC341',\n",
       "       'SPEC343', 'SPEC344', 'SPEC345', 'SPEC346', 'SPEC348', 'SPEC349',\n",
       "       'SPEC350', 'SPEC351', 'SPEC352', 'SPEC353', 'SPEC354', 'SPEC355',\n",
       "       'SPEC357', 'SPEC358', 'SPEC359', 'SPEC360', 'SPEC361', 'SPEC362',\n",
       "       'SPEC363', 'SPEC364', 'SPEC365', 'SPEC366', 'SPEC367', 'SPEC368',\n",
       "       'SPEC369', 'SPEC370', 'SPEC371', 'SPEC372', 'SPEC373', 'SPEC374',\n",
       "       'SPEC375', 'SPEC376', 'SPEC377', 'SPEC378', 'SPEC379', 'SPEC380',\n",
       "       'SPEC381', 'SPEC382', 'SPEC383', 'SPEC384', 'SPEC385', 'SPEC386',\n",
       "       'SPEC387', 'SPEC388', 'SPEC389', 'SPEC390', 'SPEC391', 'SPEC392',\n",
       "       'SPEC393', 'SPEC394', 'SPEC395', 'SPEC396', 'SPEC397', 'SPEC398',\n",
       "       'SPEC399', 'SPEC400', 'SPEC401', 'SPEC402', 'SPEC403', 'SPEC404',\n",
       "       'SPEC405', 'SPEC406', 'SPEC407', 'SPEC408', 'SPEC409', 'SPEC410',\n",
       "       'SPEC411', 'SPEC412', 'SPEC413', 'SPEC414', 'SPEC415', 'SPEC416',\n",
       "       'SPEC417', 'SPEC418', 'SPEC419', 'SPEC420', 'SPEC421', 'SPEC422',\n",
       "       'SPEC423', 'SPEC424', 'SPEC425', 'SPEC426', 'SPEC427', 'SPEC428',\n",
       "       'SPEC429', 'SPEC430', 'SPEC431', 'SPEC432', 'SPEC434', 'SPEC435',\n",
       "       'SPEC436', 'SPEC437', 'SPEC438', 'SPEC439', 'SPEC440', 'SPEC441',\n",
       "       'SPEC442', 'SPEC443', 'SPEC444', 'SPEC445', 'SPEC446', 'SPEC447',\n",
       "       'SPEC448', 'SPEC449', 'SPEC450', 'SPEC451', 'SPEC452', 'SPEC453',\n",
       "       'SPEC454', 'SPEC455', 'SPEC456', 'SPEC457', 'SPEC458', 'SPEC459',\n",
       "       'SPEC460', 'SPEC461', 'SPEC462', 'SPEC463', 'SPEC464', 'SPEC465',\n",
       "       'SPEC466', 'SPEC467', 'SPEC468', 'SPEC469', 'SPEC470', 'SPEC471',\n",
       "       'SPEC472', 'SPEC474', 'SPEC475', 'SPEC476', 'SPEC477', 'SPEC478',\n",
       "       'SPEC479', 'SPEC480', 'SPEC481', 'SPEC482', 'SPEC483', 'SPEC488',\n",
       "       'SPEC490', 'SPEC492', 'SPEC493', 'SPEC494', 'SPEC496', 'SPEC497',\n",
       "       'SPEC499', 'SPEC500', 'SPEC501', 'SPEC503', 'SPEC504', 'SPEC505',\n",
       "       'SPEC506', 'SPEC507', 'SPEC508', 'SPEC509', 'SPEC510', 'SPEC511',\n",
       "       'SPEC512', 'SPEC513', 'SPEC516', 'SPEC517', 'SPEC518', 'SPEC519',\n",
       "       'SPEC520', 'SPEC523', 'SPEC524', 'SPEC525', 'SPEC526', 'SPEC527',\n",
       "       'SPEC528', 'SPEC529', 'SPEC530', 'SPEC531', 'SPEC532', 'SPEC533',\n",
       "       'SPEC535', 'SPEC536', 'SPEC537', 'SPEC539', 'SPEC540', 'SPEC541',\n",
       "       'SPEC542', 'SPEC543', 'SPEC544', 'SPEC545', 'SPEC546', 'SPEC547',\n",
       "       'SPEC548', 'SPEC549', 'SPEC550', 'SPEC551', 'SPEC552', 'SPEC553',\n",
       "       'SPEC554', 'SPEC556', 'SPEC557', 'SPEC558', 'SPEC559', 'SPEC560',\n",
       "       'SPEC562', 'SPEC563', 'SPEC564', 'SPEC565', 'SPEC566', 'SPEC567',\n",
       "       'SPEC568', 'SPEC569', 'SPEC570', 'SPEC571', 'SPEC572', 'SPEC573',\n",
       "       'SPEC574', 'SPEC575', 'SPEC576', 'SPEC577', 'SPEC578', 'SPEC579',\n",
       "       'SPEC580', 'SPEC582', 'SPEC583', 'SPEC584', 'SPEC585', 'SPEC586',\n",
       "       'SPEC587', 'SPEC588', 'SPEC589', 'SPEC590', 'SPEC591', 'SPEC593',\n",
       "       'SPEC594', 'SPEC595', 'SPEC596', 'SPEC597', 'SPEC598', 'SPEC599',\n",
       "       'SPEC600', 'SPEC601', 'SPEC602', 'SPEC603', 'SPEC604', 'SPEC605',\n",
       "       'SPEC606', 'SPEC608', 'SPEC609', 'SPEC610', 'SPEC611', 'SPEC612',\n",
       "       'SPEC613', 'SPEC617', 'SPEC618', 'SPEC620', 'SPEC621', 'SPEC622',\n",
       "       'SPEC623', 'SPEC624', 'SPEC625', 'SPEC626', 'SPEC627', 'SPEC628',\n",
       "       'SPEC629', 'SPEC630', 'SPEC631', 'SPEC632', 'SPEC633', 'SPEC634',\n",
       "       'SPEC635', 'SPEC636', 'SPEC637', 'SPEC638', 'SPEC639', 'SPEC640',\n",
       "       'SPEC641', 'SPEC642', 'SPEC643', 'SPEC644', 'SPEC645', 'SPEC646',\n",
       "       'SPEC647', 'SPEC648', 'SPEC649', 'SPEC650', 'SPEC651', 'SPEC652',\n",
       "       'SPEC653', 'SPEC654', 'SPEC655', 'SPEC656', 'SPEC657', 'SPEC658',\n",
       "       'SPEC659', 'SPEC660', 'SPEC661', 'SPEC662', 'SPEC663', 'SPEC664',\n",
       "       'SPEC667', 'SPEC668', 'SPEC669', 'SPEC670', 'SPEC671', 'SPEC672',\n",
       "       'SPEC673', 'SPEC674', 'SPEC675', 'SPEC676', 'SPEC677', 'SPEC678',\n",
       "       'SPEC679', 'SPEC680', 'SPEC681', 'SPEC682', 'SPEC683', 'SPEC684',\n",
       "       'SPEC685', 'SPEC686', 'SPEC687', 'SPEC689', 'SPEC690', 'SPEC691',\n",
       "       'SPEC692', 'SPEC693', 'SPEC694', 'SPEC695', 'SPEC696', 'SPEC697',\n",
       "       'SPEC698', 'SPEC699', 'SPEC700', 'SPEC701', 'SPEC702', 'SPEC703',\n",
       "       'SPEC704', 'SPEC705', 'SPEC706', 'SPEC707', 'SPEC708', 'SPEC710',\n",
       "       'SPEC711', 'SPEC713', 'SPEC714', 'SPEC715', 'SPEC716', 'SPEC717',\n",
       "       'SPEC718', 'SPEC719', 'SPEC720', 'SPEC721', 'SPEC722', 'SPEC723',\n",
       "       'SPEC724', 'SPEC725', 'SPEC726', 'SPEC727', 'SPEC728', 'SPEC729',\n",
       "       'SPEC730', 'SPEC731', 'SPEC732', 'SPEC733', 'SPEC734', 'SPEC735',\n",
       "       'SPEC736', 'SPEC737', 'SPEC738'], dtype='<U7')"
      ]
     },
     "execution_count": 15,
     "metadata": {},
     "output_type": "execute_result"
    }
   ],
   "source": [
    "fors2.get_list_of_groupkeys()"
   ]
  },
  {
   "cell_type": "code",
   "execution_count": 16,
   "id": "ac7d35c8-602c-4262-892a-91b191414bcd",
   "metadata": {},
   "outputs": [
    {
     "data": {
      "text/plain": [
       "array(['SPEC2', 'SPEC3', 'SPEC9', 'SPEC13', 'SPEC19', 'SPEC24', 'SPEC25',\n",
       "       'SPEC30', 'SPEC31', 'SPEC32', 'SPEC33', 'SPEC34', 'SPEC35',\n",
       "       'SPEC36', 'SPEC37', 'SPEC45', 'SPEC47', 'SPEC49', 'SPEC51',\n",
       "       'SPEC55', 'SPEC57', 'SPEC58', 'SPEC59', 'SPEC61', 'SPEC62',\n",
       "       'SPEC66', 'SPEC67', 'SPEC68', 'SPEC69', 'SPEC70', 'SPEC71',\n",
       "       'SPEC72', 'SPEC73', 'SPEC77', 'SPEC79', 'SPEC80', 'SPEC83',\n",
       "       'SPEC84', 'SPEC85', 'SPEC86', 'SPEC87', 'SPEC89', 'SPEC91',\n",
       "       'SPEC93', 'SPEC96', 'SPEC97', 'SPEC102', 'SPEC106', 'SPEC107',\n",
       "       'SPEC109', 'SPEC110', 'SPEC111', 'SPEC112', 'SPEC113', 'SPEC114',\n",
       "       'SPEC115', 'SPEC117', 'SPEC118', 'SPEC120', 'SPEC121', 'SPEC123',\n",
       "       'SPEC127', 'SPEC128', 'SPEC132', 'SPEC134', 'SPEC135', 'SPEC137',\n",
       "       'SPEC138', 'SPEC141', 'SPEC149', 'SPEC151', 'SPEC152', 'SPEC156',\n",
       "       'SPEC160', 'SPEC161', 'SPEC164', 'SPEC171', 'SPEC178', 'SPEC179',\n",
       "       'SPEC181', 'SPEC182', 'SPEC183', 'SPEC184', 'SPEC185', 'SPEC186',\n",
       "       'SPEC187', 'SPEC188', 'SPEC189', 'SPEC191', 'SPEC192', 'SPEC193',\n",
       "       'SPEC194', 'SPEC196', 'SPEC197', 'SPEC198', 'SPEC204', 'SPEC205',\n",
       "       'SPEC210', 'SPEC214', 'SPEC218', 'SPEC221', 'SPEC222', 'SPEC223',\n",
       "       'SPEC226', 'SPEC227', 'SPEC231', 'SPEC233', 'SPEC234', 'SPEC235',\n",
       "       'SPEC236', 'SPEC237', 'SPEC238', 'SPEC240', 'SPEC242', 'SPEC243',\n",
       "       'SPEC244', 'SPEC245', 'SPEC246', 'SPEC248', 'SPEC249', 'SPEC250',\n",
       "       'SPEC252', 'SPEC253', 'SPEC258', 'SPEC259', 'SPEC260', 'SPEC261',\n",
       "       'SPEC262', 'SPEC264', 'SPEC265', 'SPEC266', 'SPEC267', 'SPEC268',\n",
       "       'SPEC271', 'SPEC274', 'SPEC275', 'SPEC276', 'SPEC277', 'SPEC278',\n",
       "       'SPEC279', 'SPEC280', 'SPEC281', 'SPEC282', 'SPEC283', 'SPEC287',\n",
       "       'SPEC288', 'SPEC291', 'SPEC292', 'SPEC294', 'SPEC295', 'SPEC296',\n",
       "       'SPEC297', 'SPEC298', 'SPEC301', 'SPEC302', 'SPEC303', 'SPEC304',\n",
       "       'SPEC305', 'SPEC306', 'SPEC307', 'SPEC308', 'SPEC309', 'SPEC313',\n",
       "       'SPEC315', 'SPEC317', 'SPEC318', 'SPEC319', 'SPEC321', 'SPEC322',\n",
       "       'SPEC323', 'SPEC324', 'SPEC325', 'SPEC326', 'SPEC327', 'SPEC328',\n",
       "       'SPEC329', 'SPEC331', 'SPEC332', 'SPEC333', 'SPEC334', 'SPEC335',\n",
       "       'SPEC336', 'SPEC337', 'SPEC338', 'SPEC339', 'SPEC340', 'SPEC341',\n",
       "       'SPEC343', 'SPEC344', 'SPEC345', 'SPEC346', 'SPEC348', 'SPEC349',\n",
       "       'SPEC350', 'SPEC351', 'SPEC352', 'SPEC353', 'SPEC354', 'SPEC355',\n",
       "       'SPEC357', 'SPEC358', 'SPEC359', 'SPEC360', 'SPEC361', 'SPEC362',\n",
       "       'SPEC363', 'SPEC364', 'SPEC365', 'SPEC366', 'SPEC367', 'SPEC368',\n",
       "       'SPEC369', 'SPEC370', 'SPEC371', 'SPEC372', 'SPEC373', 'SPEC374',\n",
       "       'SPEC375', 'SPEC376', 'SPEC377', 'SPEC378', 'SPEC379', 'SPEC380',\n",
       "       'SPEC381', 'SPEC382', 'SPEC383', 'SPEC384', 'SPEC385', 'SPEC386',\n",
       "       'SPEC387', 'SPEC388', 'SPEC389', 'SPEC390', 'SPEC391', 'SPEC392',\n",
       "       'SPEC393', 'SPEC394', 'SPEC395', 'SPEC396', 'SPEC397', 'SPEC398',\n",
       "       'SPEC399', 'SPEC400', 'SPEC401', 'SPEC402', 'SPEC403', 'SPEC404',\n",
       "       'SPEC405', 'SPEC406', 'SPEC407', 'SPEC408', 'SPEC409', 'SPEC410',\n",
       "       'SPEC411', 'SPEC412', 'SPEC413', 'SPEC414', 'SPEC415', 'SPEC416',\n",
       "       'SPEC417', 'SPEC418', 'SPEC419', 'SPEC420', 'SPEC421', 'SPEC422',\n",
       "       'SPEC423', 'SPEC424', 'SPEC425', 'SPEC426', 'SPEC427', 'SPEC428',\n",
       "       'SPEC429', 'SPEC430', 'SPEC431', 'SPEC432', 'SPEC434', 'SPEC435',\n",
       "       'SPEC436', 'SPEC437', 'SPEC438', 'SPEC439', 'SPEC440', 'SPEC441',\n",
       "       'SPEC442', 'SPEC443', 'SPEC444', 'SPEC445', 'SPEC446', 'SPEC447',\n",
       "       'SPEC448', 'SPEC449', 'SPEC450', 'SPEC451', 'SPEC452', 'SPEC453',\n",
       "       'SPEC454', 'SPEC455', 'SPEC456', 'SPEC457', 'SPEC458', 'SPEC459',\n",
       "       'SPEC460', 'SPEC461', 'SPEC462', 'SPEC463', 'SPEC464', 'SPEC465',\n",
       "       'SPEC466', 'SPEC467', 'SPEC468', 'SPEC469', 'SPEC470', 'SPEC471',\n",
       "       'SPEC472', 'SPEC474', 'SPEC475', 'SPEC476', 'SPEC477', 'SPEC478',\n",
       "       'SPEC479', 'SPEC480', 'SPEC481', 'SPEC482', 'SPEC483', 'SPEC488',\n",
       "       'SPEC490', 'SPEC492', 'SPEC493', 'SPEC494', 'SPEC496', 'SPEC497',\n",
       "       'SPEC499', 'SPEC500', 'SPEC501', 'SPEC503', 'SPEC504', 'SPEC505',\n",
       "       'SPEC506', 'SPEC507', 'SPEC508', 'SPEC509', 'SPEC510', 'SPEC511',\n",
       "       'SPEC512', 'SPEC513', 'SPEC516', 'SPEC517', 'SPEC518', 'SPEC519',\n",
       "       'SPEC520', 'SPEC523', 'SPEC524', 'SPEC525', 'SPEC526', 'SPEC527',\n",
       "       'SPEC528', 'SPEC529', 'SPEC530', 'SPEC531', 'SPEC532', 'SPEC533',\n",
       "       'SPEC535', 'SPEC536', 'SPEC537', 'SPEC539', 'SPEC540', 'SPEC541',\n",
       "       'SPEC542', 'SPEC543', 'SPEC544', 'SPEC545', 'SPEC546', 'SPEC547',\n",
       "       'SPEC548', 'SPEC549', 'SPEC550', 'SPEC551', 'SPEC552', 'SPEC553',\n",
       "       'SPEC554', 'SPEC556', 'SPEC557', 'SPEC558', 'SPEC559', 'SPEC560',\n",
       "       'SPEC562', 'SPEC563', 'SPEC564', 'SPEC565', 'SPEC566', 'SPEC567',\n",
       "       'SPEC568', 'SPEC569', 'SPEC570', 'SPEC571', 'SPEC572', 'SPEC573',\n",
       "       'SPEC574', 'SPEC575', 'SPEC576', 'SPEC577', 'SPEC578', 'SPEC579',\n",
       "       'SPEC580', 'SPEC582', 'SPEC583', 'SPEC584', 'SPEC585', 'SPEC586',\n",
       "       'SPEC587', 'SPEC588', 'SPEC589', 'SPEC590', 'SPEC591', 'SPEC593',\n",
       "       'SPEC594', 'SPEC595', 'SPEC596', 'SPEC597', 'SPEC598', 'SPEC599',\n",
       "       'SPEC600', 'SPEC601', 'SPEC602', 'SPEC603', 'SPEC604', 'SPEC605',\n",
       "       'SPEC606', 'SPEC608', 'SPEC609', 'SPEC610', 'SPEC611', 'SPEC612',\n",
       "       'SPEC613', 'SPEC617', 'SPEC618', 'SPEC620', 'SPEC621', 'SPEC622',\n",
       "       'SPEC623', 'SPEC624', 'SPEC625', 'SPEC626', 'SPEC627', 'SPEC628',\n",
       "       'SPEC629', 'SPEC630', 'SPEC631', 'SPEC632', 'SPEC633', 'SPEC634',\n",
       "       'SPEC635', 'SPEC636', 'SPEC637', 'SPEC638', 'SPEC639', 'SPEC640',\n",
       "       'SPEC641', 'SPEC642', 'SPEC643', 'SPEC644', 'SPEC645', 'SPEC646',\n",
       "       'SPEC647', 'SPEC648', 'SPEC649', 'SPEC650', 'SPEC651', 'SPEC652',\n",
       "       'SPEC653', 'SPEC654', 'SPEC655', 'SPEC656', 'SPEC657', 'SPEC658',\n",
       "       'SPEC659', 'SPEC660', 'SPEC661', 'SPEC662', 'SPEC663', 'SPEC664',\n",
       "       'SPEC667', 'SPEC668', 'SPEC669', 'SPEC670', 'SPEC671', 'SPEC672',\n",
       "       'SPEC673', 'SPEC674', 'SPEC675', 'SPEC676', 'SPEC677', 'SPEC678',\n",
       "       'SPEC679', 'SPEC680', 'SPEC681', 'SPEC682', 'SPEC683', 'SPEC684',\n",
       "       'SPEC685', 'SPEC686', 'SPEC687', 'SPEC689', 'SPEC690', 'SPEC691',\n",
       "       'SPEC692', 'SPEC693', 'SPEC694', 'SPEC695', 'SPEC696', 'SPEC697',\n",
       "       'SPEC698', 'SPEC699', 'SPEC700', 'SPEC701', 'SPEC702', 'SPEC703',\n",
       "       'SPEC704', 'SPEC705', 'SPEC706', 'SPEC707', 'SPEC708', 'SPEC710',\n",
       "       'SPEC711', 'SPEC713', 'SPEC714', 'SPEC715', 'SPEC716', 'SPEC717',\n",
       "       'SPEC718', 'SPEC719', 'SPEC720', 'SPEC721', 'SPEC722', 'SPEC723',\n",
       "       'SPEC724', 'SPEC725', 'SPEC726', 'SPEC727', 'SPEC728', 'SPEC729',\n",
       "       'SPEC730', 'SPEC731', 'SPEC732', 'SPEC733', 'SPEC734', 'SPEC735',\n",
       "       'SPEC736', 'SPEC737', 'SPEC738'], dtype='<U7')"
      ]
     },
     "execution_count": 16,
     "metadata": {},
     "output_type": "execute_result"
    }
   ],
   "source": [
    "sl.get_list_of_groupkeys()"
   ]
  },
  {
   "cell_type": "code",
   "execution_count": 17,
   "id": "e522cacb-bd37-4bbc-838b-2222ca5f77d6",
   "metadata": {},
   "outputs": [],
   "source": [
    "spec_sl =sl.getspectrum_fromgroup(TAG)"
   ]
  },
  {
   "cell_type": "code",
   "execution_count": 18,
   "id": "3dcb9b6d-e08c-48fb-95d9-b7f2b7ae2f11",
   "metadata": {},
   "outputs": [
    {
     "data": {
      "text/plain": [
       "(0.0, 10000.0)"
      ]
     },
     "execution_count": 18,
     "metadata": {},
     "output_type": "execute_result"
    },
    {
     "data": {
      "image/png": "[encoded data removed]",
      "text/plain": [
       "<Figure size 640x480 with 1 Axes>"
      ]
     },
     "metadata": {},
     "output_type": "display_data"
    }
   ],
   "source": [
    "plt.plot(spec_sl['wl'],spec_sl['fl'])\n",
    "plt.yscale('log')\n",
    "plt.ylim(1e-6,1e-4)\n",
    "plt.xlim(0,1e4)"
   ]
  },
  {
   "cell_type": "code",
   "execution_count": null,
   "id": "78fe967a-cd88-427e-b140-8e983a02431d",
   "metadata": {},
   "outputs": [],
   "source": []
  }
 ],
 "metadata": {
  "kernelspec": {
   "display_name": "pcigale",
   "language": "python",
   "name": "pcigale"
  },
  "language_info": {
   "codemirror_mode": {
    "name": "ipython",
    "version": 3
   },
   "file_extension": ".py",
   "mimetype": "text/x-python",
   "name": "python",
   "nbconvert_exporter": "python",
   "pygments_lexer": "ipython3",
   "version": "3.10.13"
  }
 },
 "nbformat": 4,
 "nbformat_minor": 5
}
